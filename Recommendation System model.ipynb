{
  "cells": [
    {
      "cell_type": "markdown",
      "source": [
        "# Case 2: Collaborative Filtering via Deep Learning\n",
        "-----\n",
        "\n",
        "In this case, there are two main tasks:\n",
        "\n",
        "- First, you need to build a deep learning model to predict the movie ratings.\n",
        "\n",
        "- Then you will analyze the predicted ratings and provide an estimate of the movie valuation."
      ],
      "metadata": {
        "id": "QIfCyzbWk2Ju"
      }
    },
    {
      "cell_type": "markdown",
      "source": [
        "## Instructions\n",
        "\n",
        "You need to fill in the missing code and submit the following files on Canvas\n",
        "site:\n",
        "\n",
        "1. A report in the pdf format containing the plots and the answers to the questions stated in the provided Jupyter notebook (Please read carefully the notebook and make sure answer every question);\n",
        "\n",
        "2. The complete Jupyter notebook containing all your PyTorch code with explanations, along with\n",
        "a Markdown text explaining different parts if needed."
      ],
      "metadata": {
        "id": "rITytN_mk5cW"
      }
    },
    {
      "cell_type": "markdown",
      "metadata": {
        "id": "tkEE3Ghd9azj"
      },
      "source": [
        "---\n",
        "## Introduction\n",
        "\n",
        "One very common problem to solve is when you have a number of users and a number of products, and you want to recommend which products are most likely to be useful for which users. There are many variations of this: for example, recommending movies (such as on Netflix), figuring out what to highlight for a user on a home page, deciding what stories to show in a social media feed, and so forth. There is a general solution to this problem, called *collaborative filtering*, which works like this: look at what products the current user has used or liked, find other users that have used or liked similar products, and then recommend other products that those users have used or liked.\n",
        "\n",
        "For example, on Netflix you may have watched lots of movies that are science fiction, full of action, and were made in the 1970s. Netflix may not know these particular properties of the films you have watched, but it will be able to see that other people that have watched the same movies that you watched also tended to watch other movies that are science fiction, full of action, and were made in the 1970s. In other words, to use this approach we don't necessarily need to know anything about the movies, except who like to watch them.\n",
        "\n",
        "There is actually a more general class of problems that this approach can solve, not necessarily involving users and products. Indeed, for collaborative filtering we more commonly refer to *items*, rather than *products*. Items could be links that people click on, diagnoses that are selected for patients, and so forth.\n",
        "\n",
        "The key foundational idea is that of *latent factors*. In the Netflix example, we started with the assumption that you like old, action-packed sci-fi movies. But you never actually told Netflix that you like these kinds of movies. And Netflix never actually needed to add columns to its movies table saying which movies are of these types. Still, there must be some underlying concept of sci-fi, action, and movie age, and these concepts must be relevant for at least some people's movie watching decisions.\n",
        "\n"
      ]
    },
    {
      "cell_type": "markdown",
      "source": [
        "---\n",
        "In this case, we'll build an explicit feedback recommender system: that is, a model that takes into account explicit feedback signals (like ratings) to recommend new content. We'll use an approach first made popular by the [Netflix prize](https://en.wikipedia.org/wiki/Netflix_Prize) contest: [matrix factorization](https://datajobs.com/data-science-repo/Recommender-Systems-[Netflix].pdf).\n",
        "\n",
        "The basic idea is very simple:\n",
        "\n",
        "1. Start with user-item-rating triplets, conveying the information that user _i_ gave some item _j_ rating _r_.\n",
        "2. Represent both users and items as high-dimensional vectors of numbers. For example, a user could be represented by `[0.3, -1.2, 0.5]` and an item by `[1.0, -0.3, -0.6]`.\n",
        "3. The representations should be chosen so that, when we multiplied together (via [dot products](https://en.wikipedia.org/wiki/Dot_product)), we can recover the original ratings.\n",
        "4. The utility of the model then is derived from the fact that if we multiply the user vector of a user with the item vector of some item they _have not_ rated, we hope to obtain a predicition for the rating they would have given to it had they seen it.\n",
        "\n",
        "<img src='https://storage.googleapis.com/gweb-cloudblog-publish/images/f1-collab_filtering.max-900x900.png?raw=true' width=50% />"
      ],
      "metadata": {
        "id": "Ov5kAMHECNyW"
      }
    },
    {
      "cell_type": "markdown",
      "metadata": {
        "id": "pK7DyF_ZUUDQ"
      },
      "source": [
        "We do not have access to Netflix's entire dataset of movie watching history, but there is a great dataset that we can use, called [MovieLens](https://grouplens.org/datasets/movielens/). This dataset contains tens of millions of movie rankings (a combination of a movie ID, a user ID, and a numeric rating).\n",
        "\n",
        "We start with importing the [Movielens 1M dataset](https://grouplens.org/datasets/movielens/1M/).  It contains 1,000,209 anonymous ratings of approximately 3,706 movies made by 6,040 MovieLens users who joined MovieLens in 2000."
      ]
    },
    {
      "cell_type": "markdown",
      "metadata": {
        "id": "OeHGO4qbUUC4"
      },
      "source": [
        "## Preparations"
      ]
    },
    {
      "cell_type": "markdown",
      "source": [
        "We first import the packages and download the data."
      ],
      "metadata": {
        "id": "lvWi4dUf1dQx"
      }
    },
    {
      "cell_type": "code",
      "execution_count": null,
      "metadata": {
        "id": "frj5rX9wUUC_"
      },
      "outputs": [],
      "source": [
        "%matplotlib inline\n",
        "import matplotlib.pyplot as plt\n",
        "import numpy as np\n",
        "import os.path as op\n",
        "import imp\n",
        "import numpy as np\n",
        "\n",
        "from zipfile import ZipFile\n",
        "try:\n",
        "    from urllib.request import urlretrieve\n",
        "except ImportError:  # Python 2 compat\n",
        "    from urllib import urlretrieve\n",
        "\n",
        "# this line need to be changed if not on colab:\n",
        "data_folder = '/content/'\n",
        "\n",
        "\n",
        "ML_1M_URL = \"http://files.grouplens.org/datasets/movielens/ml-1m.zip\"\n",
        "ML_1M_FILENAME = op.join(data_folder,ML_1M_URL.rsplit('/', 1)[1])\n",
        "ML_1M_FOLDER = op.join(data_folder,'ml-1m')"
      ]
    },
    {
      "cell_type": "code",
      "execution_count": null,
      "metadata": {
        "id": "utzHaMDsV1Bq",
        "colab": {
          "base_uri": "https://localhost:8080/"
        },
        "outputId": "19b2eaa3-64b5-4816-c0a4-86004dddad6d"
      },
      "outputs": [
        {
          "output_type": "stream",
          "name": "stdout",
          "text": [
            "Downloading http://files.grouplens.org/datasets/movielens/ml-1m.zip to /content/ml-1m.zip...\n",
            "Extracting /content/ml-1m.zip to /content/ml-1m...\n"
          ]
        }
      ],
      "source": [
        "if not op.exists(ML_1M_FILENAME):\n",
        "    print('Downloading %s to %s...' % (ML_1M_URL, ML_1M_FILENAME))\n",
        "    urlretrieve(ML_1M_URL, ML_1M_FILENAME)\n",
        "\n",
        "if not op.exists(ML_1M_FOLDER):\n",
        "    print('Extracting %s to %s...' % (ML_1M_FILENAME, ML_1M_FOLDER))\n",
        "    ZipFile(ML_1M_FILENAME).extractall(data_folder)"
      ]
    },
    {
      "cell_type": "markdown",
      "source": [
        "There are four different files:\n",
        "\n",
        "- README\n",
        "- movies.dat\n",
        "- ratings.dat\n",
        "- users.dat\n",
        "\n",
        "You may read README to get the description of each dat files."
      ],
      "metadata": {
        "id": "omZ80S7J1voX"
      }
    },
    {
      "cell_type": "markdown",
      "metadata": {
        "id": "hHgLg4jBUUDp"
      },
      "source": [
        "## Data analysis and formating"
      ]
    },
    {
      "cell_type": "markdown",
      "metadata": {
        "id": "ZlGyPSBpUUDt"
      },
      "source": [
        "We start by loading the data with [Python Data Analysis Library](http://pandas.pydata.org/)\n",
        "\n",
        "Note that the columns are separated by :: in the data."
      ]
    },
    {
      "cell_type": "code",
      "execution_count": null,
      "metadata": {
        "id": "Qk6Vp83IV1Bv",
        "colab": {
          "base_uri": "https://localhost:8080/",
          "height": 204
        },
        "outputId": "cc64d82a-4ce3-48c5-85f6-ff549496acbe"
      },
      "outputs": [
        {
          "output_type": "execute_result",
          "data": {
            "text/plain": [
              "   user_id  item_id  ratings  timestamp\n",
              "0        1     1193        5  978300760\n",
              "1        1      661        3  978302109\n",
              "2        1      914        3  978301968\n",
              "3        1     3408        4  978300275\n",
              "4        1     2355        5  978824291"
            ],
            "text/html": [
              "\n",
              "  <div id=\"df-0b2e659d-1e47-483d-a55e-f9030c4fceb8\" class=\"colab-df-container\">\n",
              "    <div>\n",
              "<style scoped>\n",
              "    .dataframe tbody tr th:only-of-type {\n",
              "        vertical-align: middle;\n",
              "    }\n",
              "\n",
              "    .dataframe tbody tr th {\n",
              "        vertical-align: top;\n",
              "    }\n",
              "\n",
              "    .dataframe thead th {\n",
              "        text-align: right;\n",
              "    }\n",
              "</style>\n",
              "<table border=\"1\" class=\"dataframe\">\n",
              "  <thead>\n",
              "    <tr style=\"text-align: right;\">\n",
              "      <th></th>\n",
              "      <th>user_id</th>\n",
              "      <th>item_id</th>\n",
              "      <th>ratings</th>\n",
              "      <th>timestamp</th>\n",
              "    </tr>\n",
              "  </thead>\n",
              "  <tbody>\n",
              "    <tr>\n",
              "      <th>0</th>\n",
              "      <td>1</td>\n",
              "      <td>1193</td>\n",
              "      <td>5</td>\n",
              "      <td>978300760</td>\n",
              "    </tr>\n",
              "    <tr>\n",
              "      <th>1</th>\n",
              "      <td>1</td>\n",
              "      <td>661</td>\n",
              "      <td>3</td>\n",
              "      <td>978302109</td>\n",
              "    </tr>\n",
              "    <tr>\n",
              "      <th>2</th>\n",
              "      <td>1</td>\n",
              "      <td>914</td>\n",
              "      <td>3</td>\n",
              "      <td>978301968</td>\n",
              "    </tr>\n",
              "    <tr>\n",
              "      <th>3</th>\n",
              "      <td>1</td>\n",
              "      <td>3408</td>\n",
              "      <td>4</td>\n",
              "      <td>978300275</td>\n",
              "    </tr>\n",
              "    <tr>\n",
              "      <th>4</th>\n",
              "      <td>1</td>\n",
              "      <td>2355</td>\n",
              "      <td>5</td>\n",
              "      <td>978824291</td>\n",
              "    </tr>\n",
              "  </tbody>\n",
              "</table>\n",
              "</div>\n",
              "    <div class=\"colab-df-buttons\">\n",
              "\n",
              "  <div class=\"colab-df-container\">\n",
              "    <button class=\"colab-df-convert\" onclick=\"convertToInteractive('df-0b2e659d-1e47-483d-a55e-f9030c4fceb8')\"\n",
              "            title=\"Convert this dataframe to an interactive table.\"\n",
              "            style=\"display:none;\">\n",
              "\n",
              "  <svg xmlns=\"http://www.w3.org/2000/svg\" height=\"24px\" viewBox=\"0 -960 960 960\">\n",
              "    <path d=\"M120-120v-720h720v720H120Zm60-500h600v-160H180v160Zm220 220h160v-160H400v160Zm0 220h160v-160H400v160ZM180-400h160v-160H180v160Zm440 0h160v-160H620v160ZM180-180h160v-160H180v160Zm440 0h160v-160H620v160Z\"/>\n",
              "  </svg>\n",
              "    </button>\n",
              "\n",
              "  <style>\n",
              "    .colab-df-container {\n",
              "      display:flex;\n",
              "      gap: 12px;\n",
              "    }\n",
              "\n",
              "    .colab-df-convert {\n",
              "      background-color: #E8F0FE;\n",
              "      border: none;\n",
              "      border-radius: 50%;\n",
              "      cursor: pointer;\n",
              "      display: none;\n",
              "      fill: #1967D2;\n",
              "      height: 32px;\n",
              "      padding: 0 0 0 0;\n",
              "      width: 32px;\n",
              "    }\n",
              "\n",
              "    .colab-df-convert:hover {\n",
              "      background-color: #E2EBFA;\n",
              "      box-shadow: 0px 1px 2px rgba(60, 64, 67, 0.3), 0px 1px 3px 1px rgba(60, 64, 67, 0.15);\n",
              "      fill: #174EA6;\n",
              "    }\n",
              "\n",
              "    .colab-df-buttons div {\n",
              "      margin-bottom: 4px;\n",
              "    }\n",
              "\n",
              "    [theme=dark] .colab-df-convert {\n",
              "      background-color: #3B4455;\n",
              "      fill: #D2E3FC;\n",
              "    }\n",
              "\n",
              "    [theme=dark] .colab-df-convert:hover {\n",
              "      background-color: #434B5C;\n",
              "      box-shadow: 0px 1px 3px 1px rgba(0, 0, 0, 0.15);\n",
              "      filter: drop-shadow(0px 1px 2px rgba(0, 0, 0, 0.3));\n",
              "      fill: #FFFFFF;\n",
              "    }\n",
              "  </style>\n",
              "\n",
              "    <script>\n",
              "      const buttonEl =\n",
              "        document.querySelector('#df-0b2e659d-1e47-483d-a55e-f9030c4fceb8 button.colab-df-convert');\n",
              "      buttonEl.style.display =\n",
              "        google.colab.kernel.accessAllowed ? 'block' : 'none';\n",
              "\n",
              "      async function convertToInteractive(key) {\n",
              "        const element = document.querySelector('#df-0b2e659d-1e47-483d-a55e-f9030c4fceb8');\n",
              "        const dataTable =\n",
              "          await google.colab.kernel.invokeFunction('convertToInteractive',\n",
              "                                                    [key], {});\n",
              "        if (!dataTable) return;\n",
              "\n",
              "        const docLinkHtml = 'Like what you see? Visit the ' +\n",
              "          '<a target=\"_blank\" href=https://colab.research.google.com/notebooks/data_table.ipynb>data table notebook</a>'\n",
              "          + ' to learn more about interactive tables.';\n",
              "        element.innerHTML = '';\n",
              "        dataTable['output_type'] = 'display_data';\n",
              "        await google.colab.output.renderOutput(dataTable, element);\n",
              "        const docLink = document.createElement('div');\n",
              "        docLink.innerHTML = docLinkHtml;\n",
              "        element.appendChild(docLink);\n",
              "      }\n",
              "    </script>\n",
              "  </div>\n",
              "\n",
              "\n",
              "<div id=\"df-b6d10393-9825-48ab-990e-3d6f45f12013\">\n",
              "  <button class=\"colab-df-quickchart\" onclick=\"quickchart('df-b6d10393-9825-48ab-990e-3d6f45f12013')\"\n",
              "            title=\"Suggest charts\"\n",
              "            style=\"display:none;\">\n",
              "\n",
              "<svg xmlns=\"http://www.w3.org/2000/svg\" height=\"24px\"viewBox=\"0 0 24 24\"\n",
              "     width=\"24px\">\n",
              "    <g>\n",
              "        <path d=\"M19 3H5c-1.1 0-2 .9-2 2v14c0 1.1.9 2 2 2h14c1.1 0 2-.9 2-2V5c0-1.1-.9-2-2-2zM9 17H7v-7h2v7zm4 0h-2V7h2v10zm4 0h-2v-4h2v4z\"/>\n",
              "    </g>\n",
              "</svg>\n",
              "  </button>\n",
              "\n",
              "<style>\n",
              "  .colab-df-quickchart {\n",
              "      --bg-color: #E8F0FE;\n",
              "      --fill-color: #1967D2;\n",
              "      --hover-bg-color: #E2EBFA;\n",
              "      --hover-fill-color: #174EA6;\n",
              "      --disabled-fill-color: #AAA;\n",
              "      --disabled-bg-color: #DDD;\n",
              "  }\n",
              "\n",
              "  [theme=dark] .colab-df-quickchart {\n",
              "      --bg-color: #3B4455;\n",
              "      --fill-color: #D2E3FC;\n",
              "      --hover-bg-color: #434B5C;\n",
              "      --hover-fill-color: #FFFFFF;\n",
              "      --disabled-bg-color: #3B4455;\n",
              "      --disabled-fill-color: #666;\n",
              "  }\n",
              "\n",
              "  .colab-df-quickchart {\n",
              "    background-color: var(--bg-color);\n",
              "    border: none;\n",
              "    border-radius: 50%;\n",
              "    cursor: pointer;\n",
              "    display: none;\n",
              "    fill: var(--fill-color);\n",
              "    height: 32px;\n",
              "    padding: 0;\n",
              "    width: 32px;\n",
              "  }\n",
              "\n",
              "  .colab-df-quickchart:hover {\n",
              "    background-color: var(--hover-bg-color);\n",
              "    box-shadow: 0 1px 2px rgba(60, 64, 67, 0.3), 0 1px 3px 1px rgba(60, 64, 67, 0.15);\n",
              "    fill: var(--button-hover-fill-color);\n",
              "  }\n",
              "\n",
              "  .colab-df-quickchart-complete:disabled,\n",
              "  .colab-df-quickchart-complete:disabled:hover {\n",
              "    background-color: var(--disabled-bg-color);\n",
              "    fill: var(--disabled-fill-color);\n",
              "    box-shadow: none;\n",
              "  }\n",
              "\n",
              "  .colab-df-spinner {\n",
              "    border: 2px solid var(--fill-color);\n",
              "    border-color: transparent;\n",
              "    border-bottom-color: var(--fill-color);\n",
              "    animation:\n",
              "      spin 1s steps(1) infinite;\n",
              "  }\n",
              "\n",
              "  @keyframes spin {\n",
              "    0% {\n",
              "      border-color: transparent;\n",
              "      border-bottom-color: var(--fill-color);\n",
              "      border-left-color: var(--fill-color);\n",
              "    }\n",
              "    20% {\n",
              "      border-color: transparent;\n",
              "      border-left-color: var(--fill-color);\n",
              "      border-top-color: var(--fill-color);\n",
              "    }\n",
              "    30% {\n",
              "      border-color: transparent;\n",
              "      border-left-color: var(--fill-color);\n",
              "      border-top-color: var(--fill-color);\n",
              "      border-right-color: var(--fill-color);\n",
              "    }\n",
              "    40% {\n",
              "      border-color: transparent;\n",
              "      border-right-color: var(--fill-color);\n",
              "      border-top-color: var(--fill-color);\n",
              "    }\n",
              "    60% {\n",
              "      border-color: transparent;\n",
              "      border-right-color: var(--fill-color);\n",
              "    }\n",
              "    80% {\n",
              "      border-color: transparent;\n",
              "      border-right-color: var(--fill-color);\n",
              "      border-bottom-color: var(--fill-color);\n",
              "    }\n",
              "    90% {\n",
              "      border-color: transparent;\n",
              "      border-bottom-color: var(--fill-color);\n",
              "    }\n",
              "  }\n",
              "</style>\n",
              "\n",
              "  <script>\n",
              "    async function quickchart(key) {\n",
              "      const quickchartButtonEl =\n",
              "        document.querySelector('#' + key + ' button');\n",
              "      quickchartButtonEl.disabled = true;  // To prevent multiple clicks.\n",
              "      quickchartButtonEl.classList.add('colab-df-spinner');\n",
              "      try {\n",
              "        const charts = await google.colab.kernel.invokeFunction(\n",
              "            'suggestCharts', [key], {});\n",
              "      } catch (error) {\n",
              "        console.error('Error during call to suggestCharts:', error);\n",
              "      }\n",
              "      quickchartButtonEl.classList.remove('colab-df-spinner');\n",
              "      quickchartButtonEl.classList.add('colab-df-quickchart-complete');\n",
              "    }\n",
              "    (() => {\n",
              "      let quickchartButtonEl =\n",
              "        document.querySelector('#df-b6d10393-9825-48ab-990e-3d6f45f12013 button');\n",
              "      quickchartButtonEl.style.display =\n",
              "        google.colab.kernel.accessAllowed ? 'block' : 'none';\n",
              "    })();\n",
              "  </script>\n",
              "</div>\n",
              "    </div>\n",
              "  </div>\n"
            ]
          },
          "metadata": {},
          "execution_count": 3
        }
      ],
      "source": [
        "import pandas as pd\n",
        "all_ratings = pd.read_csv(op.join(ML_1M_FOLDER, 'ratings.dat'), sep='::',\n",
        "                          names=[\"user_id\", \"item_id\", \"ratings\", \"timestamp\"],engine='python')\n",
        "all_ratings.head()"
      ]
    },
    {
      "cell_type": "markdown",
      "source": [
        "When showing the data, we would rather see movie titles than their IDs. The `movies.dat` contains the correspondence of IDs to movie titles."
      ],
      "metadata": {
        "id": "BiYoxkZqDbVo"
      }
    },
    {
      "cell_type": "code",
      "execution_count": null,
      "metadata": {
        "id": "UDPeRguMV1Bz",
        "scrolled": true,
        "colab": {
          "base_uri": "https://localhost:8080/",
          "height": 204
        },
        "outputId": "59e4aba8-a09f-4a33-94bc-0425c4b20a9e"
      },
      "outputs": [
        {
          "output_type": "execute_result",
          "data": {
            "text/plain": [
              "  item_id                           item_name\n",
              "0       1                    Toy Story (1995)\n",
              "1       2                      Jumanji (1995)\n",
              "2       3             Grumpier Old Men (1995)\n",
              "3       4            Waiting to Exhale (1995)\n",
              "4       5  Father of the Bride Part II (1995)"
            ],
            "text/html": [
              "\n",
              "  <div id=\"df-e50ad08a-a1a9-4992-a2fa-be091bd63cfc\" class=\"colab-df-container\">\n",
              "    <div>\n",
              "<style scoped>\n",
              "    .dataframe tbody tr th:only-of-type {\n",
              "        vertical-align: middle;\n",
              "    }\n",
              "\n",
              "    .dataframe tbody tr th {\n",
              "        vertical-align: top;\n",
              "    }\n",
              "\n",
              "    .dataframe thead th {\n",
              "        text-align: right;\n",
              "    }\n",
              "</style>\n",
              "<table border=\"1\" class=\"dataframe\">\n",
              "  <thead>\n",
              "    <tr style=\"text-align: right;\">\n",
              "      <th></th>\n",
              "      <th>item_id</th>\n",
              "      <th>item_name</th>\n",
              "    </tr>\n",
              "  </thead>\n",
              "  <tbody>\n",
              "    <tr>\n",
              "      <th>0</th>\n",
              "      <td>1</td>\n",
              "      <td>Toy Story (1995)</td>\n",
              "    </tr>\n",
              "    <tr>\n",
              "      <th>1</th>\n",
              "      <td>2</td>\n",
              "      <td>Jumanji (1995)</td>\n",
              "    </tr>\n",
              "    <tr>\n",
              "      <th>2</th>\n",
              "      <td>3</td>\n",
              "      <td>Grumpier Old Men (1995)</td>\n",
              "    </tr>\n",
              "    <tr>\n",
              "      <th>3</th>\n",
              "      <td>4</td>\n",
              "      <td>Waiting to Exhale (1995)</td>\n",
              "    </tr>\n",
              "    <tr>\n",
              "      <th>4</th>\n",
              "      <td>5</td>\n",
              "      <td>Father of the Bride Part II (1995)</td>\n",
              "    </tr>\n",
              "  </tbody>\n",
              "</table>\n",
              "</div>\n",
              "    <div class=\"colab-df-buttons\">\n",
              "\n",
              "  <div class=\"colab-df-container\">\n",
              "    <button class=\"colab-df-convert\" onclick=\"convertToInteractive('df-e50ad08a-a1a9-4992-a2fa-be091bd63cfc')\"\n",
              "            title=\"Convert this dataframe to an interactive table.\"\n",
              "            style=\"display:none;\">\n",
              "\n",
              "  <svg xmlns=\"http://www.w3.org/2000/svg\" height=\"24px\" viewBox=\"0 -960 960 960\">\n",
              "    <path d=\"M120-120v-720h720v720H120Zm60-500h600v-160H180v160Zm220 220h160v-160H400v160Zm0 220h160v-160H400v160ZM180-400h160v-160H180v160Zm440 0h160v-160H620v160ZM180-180h160v-160H180v160Zm440 0h160v-160H620v160Z\"/>\n",
              "  </svg>\n",
              "    </button>\n",
              "\n",
              "  <style>\n",
              "    .colab-df-container {\n",
              "      display:flex;\n",
              "      gap: 12px;\n",
              "    }\n",
              "\n",
              "    .colab-df-convert {\n",
              "      background-color: #E8F0FE;\n",
              "      border: none;\n",
              "      border-radius: 50%;\n",
              "      cursor: pointer;\n",
              "      display: none;\n",
              "      fill: #1967D2;\n",
              "      height: 32px;\n",
              "      padding: 0 0 0 0;\n",
              "      width: 32px;\n",
              "    }\n",
              "\n",
              "    .colab-df-convert:hover {\n",
              "      background-color: #E2EBFA;\n",
              "      box-shadow: 0px 1px 2px rgba(60, 64, 67, 0.3), 0px 1px 3px 1px rgba(60, 64, 67, 0.15);\n",
              "      fill: #174EA6;\n",
              "    }\n",
              "\n",
              "    .colab-df-buttons div {\n",
              "      margin-bottom: 4px;\n",
              "    }\n",
              "\n",
              "    [theme=dark] .colab-df-convert {\n",
              "      background-color: #3B4455;\n",
              "      fill: #D2E3FC;\n",
              "    }\n",
              "\n",
              "    [theme=dark] .colab-df-convert:hover {\n",
              "      background-color: #434B5C;\n",
              "      box-shadow: 0px 1px 3px 1px rgba(0, 0, 0, 0.15);\n",
              "      filter: drop-shadow(0px 1px 2px rgba(0, 0, 0, 0.3));\n",
              "      fill: #FFFFFF;\n",
              "    }\n",
              "  </style>\n",
              "\n",
              "    <script>\n",
              "      const buttonEl =\n",
              "        document.querySelector('#df-e50ad08a-a1a9-4992-a2fa-be091bd63cfc button.colab-df-convert');\n",
              "      buttonEl.style.display =\n",
              "        google.colab.kernel.accessAllowed ? 'block' : 'none';\n",
              "\n",
              "      async function convertToInteractive(key) {\n",
              "        const element = document.querySelector('#df-e50ad08a-a1a9-4992-a2fa-be091bd63cfc');\n",
              "        const dataTable =\n",
              "          await google.colab.kernel.invokeFunction('convertToInteractive',\n",
              "                                                    [key], {});\n",
              "        if (!dataTable) return;\n",
              "\n",
              "        const docLinkHtml = 'Like what you see? Visit the ' +\n",
              "          '<a target=\"_blank\" href=https://colab.research.google.com/notebooks/data_table.ipynb>data table notebook</a>'\n",
              "          + ' to learn more about interactive tables.';\n",
              "        element.innerHTML = '';\n",
              "        dataTable['output_type'] = 'display_data';\n",
              "        await google.colab.output.renderOutput(dataTable, element);\n",
              "        const docLink = document.createElement('div');\n",
              "        docLink.innerHTML = docLinkHtml;\n",
              "        element.appendChild(docLink);\n",
              "      }\n",
              "    </script>\n",
              "  </div>\n",
              "\n",
              "\n",
              "<div id=\"df-d731be71-ba96-46b8-9eec-1c962b92303c\">\n",
              "  <button class=\"colab-df-quickchart\" onclick=\"quickchart('df-d731be71-ba96-46b8-9eec-1c962b92303c')\"\n",
              "            title=\"Suggest charts\"\n",
              "            style=\"display:none;\">\n",
              "\n",
              "<svg xmlns=\"http://www.w3.org/2000/svg\" height=\"24px\"viewBox=\"0 0 24 24\"\n",
              "     width=\"24px\">\n",
              "    <g>\n",
              "        <path d=\"M19 3H5c-1.1 0-2 .9-2 2v14c0 1.1.9 2 2 2h14c1.1 0 2-.9 2-2V5c0-1.1-.9-2-2-2zM9 17H7v-7h2v7zm4 0h-2V7h2v10zm4 0h-2v-4h2v4z\"/>\n",
              "    </g>\n",
              "</svg>\n",
              "  </button>\n",
              "\n",
              "<style>\n",
              "  .colab-df-quickchart {\n",
              "      --bg-color: #E8F0FE;\n",
              "      --fill-color: #1967D2;\n",
              "      --hover-bg-color: #E2EBFA;\n",
              "      --hover-fill-color: #174EA6;\n",
              "      --disabled-fill-color: #AAA;\n",
              "      --disabled-bg-color: #DDD;\n",
              "  }\n",
              "\n",
              "  [theme=dark] .colab-df-quickchart {\n",
              "      --bg-color: #3B4455;\n",
              "      --fill-color: #D2E3FC;\n",
              "      --hover-bg-color: #434B5C;\n",
              "      --hover-fill-color: #FFFFFF;\n",
              "      --disabled-bg-color: #3B4455;\n",
              "      --disabled-fill-color: #666;\n",
              "  }\n",
              "\n",
              "  .colab-df-quickchart {\n",
              "    background-color: var(--bg-color);\n",
              "    border: none;\n",
              "    border-radius: 50%;\n",
              "    cursor: pointer;\n",
              "    display: none;\n",
              "    fill: var(--fill-color);\n",
              "    height: 32px;\n",
              "    padding: 0;\n",
              "    width: 32px;\n",
              "  }\n",
              "\n",
              "  .colab-df-quickchart:hover {\n",
              "    background-color: var(--hover-bg-color);\n",
              "    box-shadow: 0 1px 2px rgba(60, 64, 67, 0.3), 0 1px 3px 1px rgba(60, 64, 67, 0.15);\n",
              "    fill: var(--button-hover-fill-color);\n",
              "  }\n",
              "\n",
              "  .colab-df-quickchart-complete:disabled,\n",
              "  .colab-df-quickchart-complete:disabled:hover {\n",
              "    background-color: var(--disabled-bg-color);\n",
              "    fill: var(--disabled-fill-color);\n",
              "    box-shadow: none;\n",
              "  }\n",
              "\n",
              "  .colab-df-spinner {\n",
              "    border: 2px solid var(--fill-color);\n",
              "    border-color: transparent;\n",
              "    border-bottom-color: var(--fill-color);\n",
              "    animation:\n",
              "      spin 1s steps(1) infinite;\n",
              "  }\n",
              "\n",
              "  @keyframes spin {\n",
              "    0% {\n",
              "      border-color: transparent;\n",
              "      border-bottom-color: var(--fill-color);\n",
              "      border-left-color: var(--fill-color);\n",
              "    }\n",
              "    20% {\n",
              "      border-color: transparent;\n",
              "      border-left-color: var(--fill-color);\n",
              "      border-top-color: var(--fill-color);\n",
              "    }\n",
              "    30% {\n",
              "      border-color: transparent;\n",
              "      border-left-color: var(--fill-color);\n",
              "      border-top-color: var(--fill-color);\n",
              "      border-right-color: var(--fill-color);\n",
              "    }\n",
              "    40% {\n",
              "      border-color: transparent;\n",
              "      border-right-color: var(--fill-color);\n",
              "      border-top-color: var(--fill-color);\n",
              "    }\n",
              "    60% {\n",
              "      border-color: transparent;\n",
              "      border-right-color: var(--fill-color);\n",
              "    }\n",
              "    80% {\n",
              "      border-color: transparent;\n",
              "      border-right-color: var(--fill-color);\n",
              "      border-bottom-color: var(--fill-color);\n",
              "    }\n",
              "    90% {\n",
              "      border-color: transparent;\n",
              "      border-bottom-color: var(--fill-color);\n",
              "    }\n",
              "  }\n",
              "</style>\n",
              "\n",
              "  <script>\n",
              "    async function quickchart(key) {\n",
              "      const quickchartButtonEl =\n",
              "        document.querySelector('#' + key + ' button');\n",
              "      quickchartButtonEl.disabled = true;  // To prevent multiple clicks.\n",
              "      quickchartButtonEl.classList.add('colab-df-spinner');\n",
              "      try {\n",
              "        const charts = await google.colab.kernel.invokeFunction(\n",
              "            'suggestCharts', [key], {});\n",
              "      } catch (error) {\n",
              "        console.error('Error during call to suggestCharts:', error);\n",
              "      }\n",
              "      quickchartButtonEl.classList.remove('colab-df-spinner');\n",
              "      quickchartButtonEl.classList.add('colab-df-quickchart-complete');\n",
              "    }\n",
              "    (() => {\n",
              "      let quickchartButtonEl =\n",
              "        document.querySelector('#df-d731be71-ba96-46b8-9eec-1c962b92303c button');\n",
              "      quickchartButtonEl.style.display =\n",
              "        google.colab.kernel.accessAllowed ? 'block' : 'none';\n",
              "    })();\n",
              "  </script>\n",
              "</div>\n",
              "    </div>\n",
              "  </div>\n"
            ]
          },
          "metadata": {},
          "execution_count": 4
        }
      ],
      "source": [
        "list_movies_names = []\n",
        "list_item_ids = []\n",
        "with open(op.join(ML_1M_FOLDER, 'movies.dat'), encoding = \"ISO-8859-1\") as fp:\n",
        "    for line in fp:\n",
        "        list_item_ids.append(line.split('::')[0])\n",
        "        list_movies_names.append(line.split('::')[1])\n",
        "\n",
        "movies_names = pd.DataFrame(list(zip(list_item_ids, list_movies_names)),\n",
        "               columns =['item_id', 'item_name'])\n",
        "movies_names.head()"
      ]
    },
    {
      "cell_type": "markdown",
      "metadata": {
        "id": "6nVdjC0IV1B3"
      },
      "source": [
        "Here we add the title of the movies to the `all_ratings` data."
      ]
    },
    {
      "cell_type": "code",
      "execution_count": null,
      "metadata": {
        "id": "21gIXEkXV1B4"
      },
      "outputs": [],
      "source": [
        "movies_names['item_id']=movies_names['item_id'].astype(int)\n",
        "all_ratings['item_id']=all_ratings['item_id'].astype(int)\n",
        "all_ratings = all_ratings.merge(movies_names,on='item_id')"
      ]
    },
    {
      "cell_type": "code",
      "execution_count": null,
      "metadata": {
        "id": "_XJlXE1mV1B8",
        "colab": {
          "base_uri": "https://localhost:8080/",
          "height": 204
        },
        "outputId": "24482ba8-d7d6-4187-cbe3-54eff22fef92"
      },
      "outputs": [
        {
          "output_type": "execute_result",
          "data": {
            "text/plain": [
              "   user_id  item_id  ratings  timestamp  \\\n",
              "0        1     1193        5  978300760   \n",
              "1        2     1193        5  978298413   \n",
              "2       12     1193        4  978220179   \n",
              "3       15     1193        4  978199279   \n",
              "4       17     1193        5  978158471   \n",
              "\n",
              "                                item_name  \n",
              "0  One Flew Over the Cuckoo's Nest (1975)  \n",
              "1  One Flew Over the Cuckoo's Nest (1975)  \n",
              "2  One Flew Over the Cuckoo's Nest (1975)  \n",
              "3  One Flew Over the Cuckoo's Nest (1975)  \n",
              "4  One Flew Over the Cuckoo's Nest (1975)  "
            ],
            "text/html": [
              "\n",
              "  <div id=\"df-a5e0ccbd-ed3b-44ab-b260-33b46c41abd6\" class=\"colab-df-container\">\n",
              "    <div>\n",
              "<style scoped>\n",
              "    .dataframe tbody tr th:only-of-type {\n",
              "        vertical-align: middle;\n",
              "    }\n",
              "\n",
              "    .dataframe tbody tr th {\n",
              "        vertical-align: top;\n",
              "    }\n",
              "\n",
              "    .dataframe thead th {\n",
              "        text-align: right;\n",
              "    }\n",
              "</style>\n",
              "<table border=\"1\" class=\"dataframe\">\n",
              "  <thead>\n",
              "    <tr style=\"text-align: right;\">\n",
              "      <th></th>\n",
              "      <th>user_id</th>\n",
              "      <th>item_id</th>\n",
              "      <th>ratings</th>\n",
              "      <th>timestamp</th>\n",
              "      <th>item_name</th>\n",
              "    </tr>\n",
              "  </thead>\n",
              "  <tbody>\n",
              "    <tr>\n",
              "      <th>0</th>\n",
              "      <td>1</td>\n",
              "      <td>1193</td>\n",
              "      <td>5</td>\n",
              "      <td>978300760</td>\n",
              "      <td>One Flew Over the Cuckoo's Nest (1975)</td>\n",
              "    </tr>\n",
              "    <tr>\n",
              "      <th>1</th>\n",
              "      <td>2</td>\n",
              "      <td>1193</td>\n",
              "      <td>5</td>\n",
              "      <td>978298413</td>\n",
              "      <td>One Flew Over the Cuckoo's Nest (1975)</td>\n",
              "    </tr>\n",
              "    <tr>\n",
              "      <th>2</th>\n",
              "      <td>12</td>\n",
              "      <td>1193</td>\n",
              "      <td>4</td>\n",
              "      <td>978220179</td>\n",
              "      <td>One Flew Over the Cuckoo's Nest (1975)</td>\n",
              "    </tr>\n",
              "    <tr>\n",
              "      <th>3</th>\n",
              "      <td>15</td>\n",
              "      <td>1193</td>\n",
              "      <td>4</td>\n",
              "      <td>978199279</td>\n",
              "      <td>One Flew Over the Cuckoo's Nest (1975)</td>\n",
              "    </tr>\n",
              "    <tr>\n",
              "      <th>4</th>\n",
              "      <td>17</td>\n",
              "      <td>1193</td>\n",
              "      <td>5</td>\n",
              "      <td>978158471</td>\n",
              "      <td>One Flew Over the Cuckoo's Nest (1975)</td>\n",
              "    </tr>\n",
              "  </tbody>\n",
              "</table>\n",
              "</div>\n",
              "    <div class=\"colab-df-buttons\">\n",
              "\n",
              "  <div class=\"colab-df-container\">\n",
              "    <button class=\"colab-df-convert\" onclick=\"convertToInteractive('df-a5e0ccbd-ed3b-44ab-b260-33b46c41abd6')\"\n",
              "            title=\"Convert this dataframe to an interactive table.\"\n",
              "            style=\"display:none;\">\n",
              "\n",
              "  <svg xmlns=\"http://www.w3.org/2000/svg\" height=\"24px\" viewBox=\"0 -960 960 960\">\n",
              "    <path d=\"M120-120v-720h720v720H120Zm60-500h600v-160H180v160Zm220 220h160v-160H400v160Zm0 220h160v-160H400v160ZM180-400h160v-160H180v160Zm440 0h160v-160H620v160ZM180-180h160v-160H180v160Zm440 0h160v-160H620v160Z\"/>\n",
              "  </svg>\n",
              "    </button>\n",
              "\n",
              "  <style>\n",
              "    .colab-df-container {\n",
              "      display:flex;\n",
              "      gap: 12px;\n",
              "    }\n",
              "\n",
              "    .colab-df-convert {\n",
              "      background-color: #E8F0FE;\n",
              "      border: none;\n",
              "      border-radius: 50%;\n",
              "      cursor: pointer;\n",
              "      display: none;\n",
              "      fill: #1967D2;\n",
              "      height: 32px;\n",
              "      padding: 0 0 0 0;\n",
              "      width: 32px;\n",
              "    }\n",
              "\n",
              "    .colab-df-convert:hover {\n",
              "      background-color: #E2EBFA;\n",
              "      box-shadow: 0px 1px 2px rgba(60, 64, 67, 0.3), 0px 1px 3px 1px rgba(60, 64, 67, 0.15);\n",
              "      fill: #174EA6;\n",
              "    }\n",
              "\n",
              "    .colab-df-buttons div {\n",
              "      margin-bottom: 4px;\n",
              "    }\n",
              "\n",
              "    [theme=dark] .colab-df-convert {\n",
              "      background-color: #3B4455;\n",
              "      fill: #D2E3FC;\n",
              "    }\n",
              "\n",
              "    [theme=dark] .colab-df-convert:hover {\n",
              "      background-color: #434B5C;\n",
              "      box-shadow: 0px 1px 3px 1px rgba(0, 0, 0, 0.15);\n",
              "      filter: drop-shadow(0px 1px 2px rgba(0, 0, 0, 0.3));\n",
              "      fill: #FFFFFF;\n",
              "    }\n",
              "  </style>\n",
              "\n",
              "    <script>\n",
              "      const buttonEl =\n",
              "        document.querySelector('#df-a5e0ccbd-ed3b-44ab-b260-33b46c41abd6 button.colab-df-convert');\n",
              "      buttonEl.style.display =\n",
              "        google.colab.kernel.accessAllowed ? 'block' : 'none';\n",
              "\n",
              "      async function convertToInteractive(key) {\n",
              "        const element = document.querySelector('#df-a5e0ccbd-ed3b-44ab-b260-33b46c41abd6');\n",
              "        const dataTable =\n",
              "          await google.colab.kernel.invokeFunction('convertToInteractive',\n",
              "                                                    [key], {});\n",
              "        if (!dataTable) return;\n",
              "\n",
              "        const docLinkHtml = 'Like what you see? Visit the ' +\n",
              "          '<a target=\"_blank\" href=https://colab.research.google.com/notebooks/data_table.ipynb>data table notebook</a>'\n",
              "          + ' to learn more about interactive tables.';\n",
              "        element.innerHTML = '';\n",
              "        dataTable['output_type'] = 'display_data';\n",
              "        await google.colab.output.renderOutput(dataTable, element);\n",
              "        const docLink = document.createElement('div');\n",
              "        docLink.innerHTML = docLinkHtml;\n",
              "        element.appendChild(docLink);\n",
              "      }\n",
              "    </script>\n",
              "  </div>\n",
              "\n",
              "\n",
              "<div id=\"df-c0c87d04-af25-421d-85b8-0a281bc28fb8\">\n",
              "  <button class=\"colab-df-quickchart\" onclick=\"quickchart('df-c0c87d04-af25-421d-85b8-0a281bc28fb8')\"\n",
              "            title=\"Suggest charts\"\n",
              "            style=\"display:none;\">\n",
              "\n",
              "<svg xmlns=\"http://www.w3.org/2000/svg\" height=\"24px\"viewBox=\"0 0 24 24\"\n",
              "     width=\"24px\">\n",
              "    <g>\n",
              "        <path d=\"M19 3H5c-1.1 0-2 .9-2 2v14c0 1.1.9 2 2 2h14c1.1 0 2-.9 2-2V5c0-1.1-.9-2-2-2zM9 17H7v-7h2v7zm4 0h-2V7h2v10zm4 0h-2v-4h2v4z\"/>\n",
              "    </g>\n",
              "</svg>\n",
              "  </button>\n",
              "\n",
              "<style>\n",
              "  .colab-df-quickchart {\n",
              "      --bg-color: #E8F0FE;\n",
              "      --fill-color: #1967D2;\n",
              "      --hover-bg-color: #E2EBFA;\n",
              "      --hover-fill-color: #174EA6;\n",
              "      --disabled-fill-color: #AAA;\n",
              "      --disabled-bg-color: #DDD;\n",
              "  }\n",
              "\n",
              "  [theme=dark] .colab-df-quickchart {\n",
              "      --bg-color: #3B4455;\n",
              "      --fill-color: #D2E3FC;\n",
              "      --hover-bg-color: #434B5C;\n",
              "      --hover-fill-color: #FFFFFF;\n",
              "      --disabled-bg-color: #3B4455;\n",
              "      --disabled-fill-color: #666;\n",
              "  }\n",
              "\n",
              "  .colab-df-quickchart {\n",
              "    background-color: var(--bg-color);\n",
              "    border: none;\n",
              "    border-radius: 50%;\n",
              "    cursor: pointer;\n",
              "    display: none;\n",
              "    fill: var(--fill-color);\n",
              "    height: 32px;\n",
              "    padding: 0;\n",
              "    width: 32px;\n",
              "  }\n",
              "\n",
              "  .colab-df-quickchart:hover {\n",
              "    background-color: var(--hover-bg-color);\n",
              "    box-shadow: 0 1px 2px rgba(60, 64, 67, 0.3), 0 1px 3px 1px rgba(60, 64, 67, 0.15);\n",
              "    fill: var(--button-hover-fill-color);\n",
              "  }\n",
              "\n",
              "  .colab-df-quickchart-complete:disabled,\n",
              "  .colab-df-quickchart-complete:disabled:hover {\n",
              "    background-color: var(--disabled-bg-color);\n",
              "    fill: var(--disabled-fill-color);\n",
              "    box-shadow: none;\n",
              "  }\n",
              "\n",
              "  .colab-df-spinner {\n",
              "    border: 2px solid var(--fill-color);\n",
              "    border-color: transparent;\n",
              "    border-bottom-color: var(--fill-color);\n",
              "    animation:\n",
              "      spin 1s steps(1) infinite;\n",
              "  }\n",
              "\n",
              "  @keyframes spin {\n",
              "    0% {\n",
              "      border-color: transparent;\n",
              "      border-bottom-color: var(--fill-color);\n",
              "      border-left-color: var(--fill-color);\n",
              "    }\n",
              "    20% {\n",
              "      border-color: transparent;\n",
              "      border-left-color: var(--fill-color);\n",
              "      border-top-color: var(--fill-color);\n",
              "    }\n",
              "    30% {\n",
              "      border-color: transparent;\n",
              "      border-left-color: var(--fill-color);\n",
              "      border-top-color: var(--fill-color);\n",
              "      border-right-color: var(--fill-color);\n",
              "    }\n",
              "    40% {\n",
              "      border-color: transparent;\n",
              "      border-right-color: var(--fill-color);\n",
              "      border-top-color: var(--fill-color);\n",
              "    }\n",
              "    60% {\n",
              "      border-color: transparent;\n",
              "      border-right-color: var(--fill-color);\n",
              "    }\n",
              "    80% {\n",
              "      border-color: transparent;\n",
              "      border-right-color: var(--fill-color);\n",
              "      border-bottom-color: var(--fill-color);\n",
              "    }\n",
              "    90% {\n",
              "      border-color: transparent;\n",
              "      border-bottom-color: var(--fill-color);\n",
              "    }\n",
              "  }\n",
              "</style>\n",
              "\n",
              "  <script>\n",
              "    async function quickchart(key) {\n",
              "      const quickchartButtonEl =\n",
              "        document.querySelector('#' + key + ' button');\n",
              "      quickchartButtonEl.disabled = true;  // To prevent multiple clicks.\n",
              "      quickchartButtonEl.classList.add('colab-df-spinner');\n",
              "      try {\n",
              "        const charts = await google.colab.kernel.invokeFunction(\n",
              "            'suggestCharts', [key], {});\n",
              "      } catch (error) {\n",
              "        console.error('Error during call to suggestCharts:', error);\n",
              "      }\n",
              "      quickchartButtonEl.classList.remove('colab-df-spinner');\n",
              "      quickchartButtonEl.classList.add('colab-df-quickchart-complete');\n",
              "    }\n",
              "    (() => {\n",
              "      let quickchartButtonEl =\n",
              "        document.querySelector('#df-c0c87d04-af25-421d-85b8-0a281bc28fb8 button');\n",
              "      quickchartButtonEl.style.display =\n",
              "        google.colab.kernel.accessAllowed ? 'block' : 'none';\n",
              "    })();\n",
              "  </script>\n",
              "</div>\n",
              "    </div>\n",
              "  </div>\n"
            ]
          },
          "metadata": {},
          "execution_count": 6
        }
      ],
      "source": [
        "all_ratings.head()"
      ]
    },
    {
      "cell_type": "markdown",
      "metadata": {
        "id": "enyJuYhUUUEL"
      },
      "source": [
        "The dataframe `all_ratings` contains all the raw data for our problem."
      ]
    },
    {
      "cell_type": "code",
      "execution_count": null,
      "metadata": {
        "id": "3M7-jinQUUEO",
        "colab": {
          "base_uri": "https://localhost:8080/"
        },
        "outputId": "3408385b-ec1c-40bf-e331-c548e5ded0c8"
      },
      "outputs": [
        {
          "output_type": "execute_result",
          "data": {
            "text/plain": [
              "1000209"
            ]
          },
          "metadata": {},
          "execution_count": 7
        }
      ],
      "source": [
        "#number of entries\n",
        "len(all_ratings)"
      ]
    },
    {
      "cell_type": "code",
      "execution_count": null,
      "metadata": {
        "id": "ofVcE781UUEa",
        "colab": {
          "base_uri": "https://localhost:8080/"
        },
        "outputId": "24575aa5-f637-4074-d534-d9585a8e709b"
      },
      "outputs": [
        {
          "output_type": "execute_result",
          "data": {
            "text/plain": [
              "count    1.000209e+06\n",
              "mean     3.581564e+00\n",
              "std      1.117102e+00\n",
              "min      1.000000e+00\n",
              "25%      3.000000e+00\n",
              "50%      4.000000e+00\n",
              "75%      4.000000e+00\n",
              "max      5.000000e+00\n",
              "Name: ratings, dtype: float64"
            ]
          },
          "metadata": {},
          "execution_count": 8
        }
      ],
      "source": [
        "# statistics of ratings\n",
        "all_ratings['ratings'].describe()"
      ]
    },
    {
      "cell_type": "code",
      "execution_count": null,
      "metadata": {
        "id": "tCdV2qzMUUEk",
        "colab": {
          "base_uri": "https://localhost:8080/"
        },
        "outputId": "5e37be23-88fd-4bca-b165-6fff839a876d"
      },
      "outputs": [
        {
          "output_type": "execute_result",
          "data": {
            "text/plain": [
              "array([5, 4, 3, 2, 1])"
            ]
          },
          "metadata": {},
          "execution_count": 9
        }
      ],
      "source": [
        "# The ratings are 1, 2, 3, 4, 5\n",
        "all_ratings['ratings'].unique()"
      ]
    },
    {
      "cell_type": "markdown",
      "source": [
        "We now check the user IDs."
      ],
      "metadata": {
        "id": "Q5qXp4HX3P_D"
      }
    },
    {
      "cell_type": "code",
      "source": [
        "all_ratings['user_id'].describe()"
      ],
      "metadata": {
        "id": "c1c1lNFG3LM0",
        "colab": {
          "base_uri": "https://localhost:8080/"
        },
        "outputId": "2ad4434b-5d9c-46ac-b086-d7297f861808"
      },
      "execution_count": null,
      "outputs": [
        {
          "output_type": "execute_result",
          "data": {
            "text/plain": [
              "count    1.000209e+06\n",
              "mean     3.024512e+03\n",
              "std      1.728413e+03\n",
              "min      1.000000e+00\n",
              "25%      1.506000e+03\n",
              "50%      3.070000e+03\n",
              "75%      4.476000e+03\n",
              "max      6.040000e+03\n",
              "Name: user_id, dtype: float64"
            ]
          },
          "metadata": {},
          "execution_count": 10
        }
      ]
    },
    {
      "cell_type": "code",
      "execution_count": null,
      "metadata": {
        "id": "P1QoS71CUUE7",
        "colab": {
          "base_uri": "https://localhost:8080/"
        },
        "outputId": "c2c93154-867a-4658-cf72-05a582037cc5"
      },
      "outputs": [
        {
          "output_type": "stream",
          "name": "stdout",
          "text": [
            "6040\n"
          ]
        }
      ],
      "source": [
        "# number of unique users\n",
        "total_user_id = len(all_ratings['user_id'].unique())\n",
        "print(total_user_id)"
      ]
    },
    {
      "cell_type": "markdown",
      "metadata": {
        "id": "-Az4KDFgV1CQ"
      },
      "source": [
        "We see that  the users seem to be indexed from 1 to 6040. Let's check that below using the following code."
      ]
    },
    {
      "cell_type": "code",
      "execution_count": null,
      "metadata": {
        "id": "Pj8ZAzmIV1CQ"
      },
      "outputs": [],
      "source": [
        "list_user_id = list(all_ratings['user_id'].unique())\n",
        "list_user_id.sort()"
      ]
    },
    {
      "cell_type": "code",
      "execution_count": null,
      "metadata": {
        "id": "l9omI-cwV1CT"
      },
      "outputs": [],
      "source": [
        "for i,j in enumerate(list_user_id):\n",
        "    if j != i+1:\n",
        "        print(i,j)"
      ]
    },
    {
      "cell_type": "markdown",
      "source": [
        "We can see that `list_user_id` contains contiguous indices from 1 to 6040."
      ],
      "metadata": {
        "id": "7wElJE5T2zKx"
      }
    },
    {
      "cell_type": "markdown",
      "metadata": {
        "id": "h-LytszyV1CV"
      },
      "source": [
        "We create a new column `user_num` to get an index from 0 to 6039 for users:"
      ]
    },
    {
      "cell_type": "code",
      "execution_count": null,
      "metadata": {
        "id": "jE6WVgT-V1CV"
      },
      "outputs": [],
      "source": [
        "all_ratings['user_num'] = all_ratings['user_id'].apply(lambda x :x-1)"
      ]
    },
    {
      "cell_type": "code",
      "execution_count": null,
      "metadata": {
        "id": "6HldBddZV1CY",
        "colab": {
          "base_uri": "https://localhost:8080/",
          "height": 204
        },
        "outputId": "d2cf480b-6f5b-41b0-a600-865991b7616e"
      },
      "outputs": [
        {
          "output_type": "execute_result",
          "data": {
            "text/plain": [
              "   user_id  item_id  ratings  timestamp  \\\n",
              "0        1     1193        5  978300760   \n",
              "1        2     1193        5  978298413   \n",
              "2       12     1193        4  978220179   \n",
              "3       15     1193        4  978199279   \n",
              "4       17     1193        5  978158471   \n",
              "\n",
              "                                item_name  user_num  \n",
              "0  One Flew Over the Cuckoo's Nest (1975)         0  \n",
              "1  One Flew Over the Cuckoo's Nest (1975)         1  \n",
              "2  One Flew Over the Cuckoo's Nest (1975)        11  \n",
              "3  One Flew Over the Cuckoo's Nest (1975)        14  \n",
              "4  One Flew Over the Cuckoo's Nest (1975)        16  "
            ],
            "text/html": [
              "\n",
              "  <div id=\"df-e1475ad6-ded2-4968-aa8a-de5ab334fd20\" class=\"colab-df-container\">\n",
              "    <div>\n",
              "<style scoped>\n",
              "    .dataframe tbody tr th:only-of-type {\n",
              "        vertical-align: middle;\n",
              "    }\n",
              "\n",
              "    .dataframe tbody tr th {\n",
              "        vertical-align: top;\n",
              "    }\n",
              "\n",
              "    .dataframe thead th {\n",
              "        text-align: right;\n",
              "    }\n",
              "</style>\n",
              "<table border=\"1\" class=\"dataframe\">\n",
              "  <thead>\n",
              "    <tr style=\"text-align: right;\">\n",
              "      <th></th>\n",
              "      <th>user_id</th>\n",
              "      <th>item_id</th>\n",
              "      <th>ratings</th>\n",
              "      <th>timestamp</th>\n",
              "      <th>item_name</th>\n",
              "      <th>user_num</th>\n",
              "    </tr>\n",
              "  </thead>\n",
              "  <tbody>\n",
              "    <tr>\n",
              "      <th>0</th>\n",
              "      <td>1</td>\n",
              "      <td>1193</td>\n",
              "      <td>5</td>\n",
              "      <td>978300760</td>\n",
              "      <td>One Flew Over the Cuckoo's Nest (1975)</td>\n",
              "      <td>0</td>\n",
              "    </tr>\n",
              "    <tr>\n",
              "      <th>1</th>\n",
              "      <td>2</td>\n",
              "      <td>1193</td>\n",
              "      <td>5</td>\n",
              "      <td>978298413</td>\n",
              "      <td>One Flew Over the Cuckoo's Nest (1975)</td>\n",
              "      <td>1</td>\n",
              "    </tr>\n",
              "    <tr>\n",
              "      <th>2</th>\n",
              "      <td>12</td>\n",
              "      <td>1193</td>\n",
              "      <td>4</td>\n",
              "      <td>978220179</td>\n",
              "      <td>One Flew Over the Cuckoo's Nest (1975)</td>\n",
              "      <td>11</td>\n",
              "    </tr>\n",
              "    <tr>\n",
              "      <th>3</th>\n",
              "      <td>15</td>\n",
              "      <td>1193</td>\n",
              "      <td>4</td>\n",
              "      <td>978199279</td>\n",
              "      <td>One Flew Over the Cuckoo's Nest (1975)</td>\n",
              "      <td>14</td>\n",
              "    </tr>\n",
              "    <tr>\n",
              "      <th>4</th>\n",
              "      <td>17</td>\n",
              "      <td>1193</td>\n",
              "      <td>5</td>\n",
              "      <td>978158471</td>\n",
              "      <td>One Flew Over the Cuckoo's Nest (1975)</td>\n",
              "      <td>16</td>\n",
              "    </tr>\n",
              "  </tbody>\n",
              "</table>\n",
              "</div>\n",
              "    <div class=\"colab-df-buttons\">\n",
              "\n",
              "  <div class=\"colab-df-container\">\n",
              "    <button class=\"colab-df-convert\" onclick=\"convertToInteractive('df-e1475ad6-ded2-4968-aa8a-de5ab334fd20')\"\n",
              "            title=\"Convert this dataframe to an interactive table.\"\n",
              "            style=\"display:none;\">\n",
              "\n",
              "  <svg xmlns=\"http://www.w3.org/2000/svg\" height=\"24px\" viewBox=\"0 -960 960 960\">\n",
              "    <path d=\"M120-120v-720h720v720H120Zm60-500h600v-160H180v160Zm220 220h160v-160H400v160Zm0 220h160v-160H400v160ZM180-400h160v-160H180v160Zm440 0h160v-160H620v160ZM180-180h160v-160H180v160Zm440 0h160v-160H620v160Z\"/>\n",
              "  </svg>\n",
              "    </button>\n",
              "\n",
              "  <style>\n",
              "    .colab-df-container {\n",
              "      display:flex;\n",
              "      gap: 12px;\n",
              "    }\n",
              "\n",
              "    .colab-df-convert {\n",
              "      background-color: #E8F0FE;\n",
              "      border: none;\n",
              "      border-radius: 50%;\n",
              "      cursor: pointer;\n",
              "      display: none;\n",
              "      fill: #1967D2;\n",
              "      height: 32px;\n",
              "      padding: 0 0 0 0;\n",
              "      width: 32px;\n",
              "    }\n",
              "\n",
              "    .colab-df-convert:hover {\n",
              "      background-color: #E2EBFA;\n",
              "      box-shadow: 0px 1px 2px rgba(60, 64, 67, 0.3), 0px 1px 3px 1px rgba(60, 64, 67, 0.15);\n",
              "      fill: #174EA6;\n",
              "    }\n",
              "\n",
              "    .colab-df-buttons div {\n",
              "      margin-bottom: 4px;\n",
              "    }\n",
              "\n",
              "    [theme=dark] .colab-df-convert {\n",
              "      background-color: #3B4455;\n",
              "      fill: #D2E3FC;\n",
              "    }\n",
              "\n",
              "    [theme=dark] .colab-df-convert:hover {\n",
              "      background-color: #434B5C;\n",
              "      box-shadow: 0px 1px 3px 1px rgba(0, 0, 0, 0.15);\n",
              "      filter: drop-shadow(0px 1px 2px rgba(0, 0, 0, 0.3));\n",
              "      fill: #FFFFFF;\n",
              "    }\n",
              "  </style>\n",
              "\n",
              "    <script>\n",
              "      const buttonEl =\n",
              "        document.querySelector('#df-e1475ad6-ded2-4968-aa8a-de5ab334fd20 button.colab-df-convert');\n",
              "      buttonEl.style.display =\n",
              "        google.colab.kernel.accessAllowed ? 'block' : 'none';\n",
              "\n",
              "      async function convertToInteractive(key) {\n",
              "        const element = document.querySelector('#df-e1475ad6-ded2-4968-aa8a-de5ab334fd20');\n",
              "        const dataTable =\n",
              "          await google.colab.kernel.invokeFunction('convertToInteractive',\n",
              "                                                    [key], {});\n",
              "        if (!dataTable) return;\n",
              "\n",
              "        const docLinkHtml = 'Like what you see? Visit the ' +\n",
              "          '<a target=\"_blank\" href=https://colab.research.google.com/notebooks/data_table.ipynb>data table notebook</a>'\n",
              "          + ' to learn more about interactive tables.';\n",
              "        element.innerHTML = '';\n",
              "        dataTable['output_type'] = 'display_data';\n",
              "        await google.colab.output.renderOutput(dataTable, element);\n",
              "        const docLink = document.createElement('div');\n",
              "        docLink.innerHTML = docLinkHtml;\n",
              "        element.appendChild(docLink);\n",
              "      }\n",
              "    </script>\n",
              "  </div>\n",
              "\n",
              "\n",
              "<div id=\"df-99345dae-994b-49b0-904d-29dc8f7680ab\">\n",
              "  <button class=\"colab-df-quickchart\" onclick=\"quickchart('df-99345dae-994b-49b0-904d-29dc8f7680ab')\"\n",
              "            title=\"Suggest charts\"\n",
              "            style=\"display:none;\">\n",
              "\n",
              "<svg xmlns=\"http://www.w3.org/2000/svg\" height=\"24px\"viewBox=\"0 0 24 24\"\n",
              "     width=\"24px\">\n",
              "    <g>\n",
              "        <path d=\"M19 3H5c-1.1 0-2 .9-2 2v14c0 1.1.9 2 2 2h14c1.1 0 2-.9 2-2V5c0-1.1-.9-2-2-2zM9 17H7v-7h2v7zm4 0h-2V7h2v10zm4 0h-2v-4h2v4z\"/>\n",
              "    </g>\n",
              "</svg>\n",
              "  </button>\n",
              "\n",
              "<style>\n",
              "  .colab-df-quickchart {\n",
              "      --bg-color: #E8F0FE;\n",
              "      --fill-color: #1967D2;\n",
              "      --hover-bg-color: #E2EBFA;\n",
              "      --hover-fill-color: #174EA6;\n",
              "      --disabled-fill-color: #AAA;\n",
              "      --disabled-bg-color: #DDD;\n",
              "  }\n",
              "\n",
              "  [theme=dark] .colab-df-quickchart {\n",
              "      --bg-color: #3B4455;\n",
              "      --fill-color: #D2E3FC;\n",
              "      --hover-bg-color: #434B5C;\n",
              "      --hover-fill-color: #FFFFFF;\n",
              "      --disabled-bg-color: #3B4455;\n",
              "      --disabled-fill-color: #666;\n",
              "  }\n",
              "\n",
              "  .colab-df-quickchart {\n",
              "    background-color: var(--bg-color);\n",
              "    border: none;\n",
              "    border-radius: 50%;\n",
              "    cursor: pointer;\n",
              "    display: none;\n",
              "    fill: var(--fill-color);\n",
              "    height: 32px;\n",
              "    padding: 0;\n",
              "    width: 32px;\n",
              "  }\n",
              "\n",
              "  .colab-df-quickchart:hover {\n",
              "    background-color: var(--hover-bg-color);\n",
              "    box-shadow: 0 1px 2px rgba(60, 64, 67, 0.3), 0 1px 3px 1px rgba(60, 64, 67, 0.15);\n",
              "    fill: var(--button-hover-fill-color);\n",
              "  }\n",
              "\n",
              "  .colab-df-quickchart-complete:disabled,\n",
              "  .colab-df-quickchart-complete:disabled:hover {\n",
              "    background-color: var(--disabled-bg-color);\n",
              "    fill: var(--disabled-fill-color);\n",
              "    box-shadow: none;\n",
              "  }\n",
              "\n",
              "  .colab-df-spinner {\n",
              "    border: 2px solid var(--fill-color);\n",
              "    border-color: transparent;\n",
              "    border-bottom-color: var(--fill-color);\n",
              "    animation:\n",
              "      spin 1s steps(1) infinite;\n",
              "  }\n",
              "\n",
              "  @keyframes spin {\n",
              "    0% {\n",
              "      border-color: transparent;\n",
              "      border-bottom-color: var(--fill-color);\n",
              "      border-left-color: var(--fill-color);\n",
              "    }\n",
              "    20% {\n",
              "      border-color: transparent;\n",
              "      border-left-color: var(--fill-color);\n",
              "      border-top-color: var(--fill-color);\n",
              "    }\n",
              "    30% {\n",
              "      border-color: transparent;\n",
              "      border-left-color: var(--fill-color);\n",
              "      border-top-color: var(--fill-color);\n",
              "      border-right-color: var(--fill-color);\n",
              "    }\n",
              "    40% {\n",
              "      border-color: transparent;\n",
              "      border-right-color: var(--fill-color);\n",
              "      border-top-color: var(--fill-color);\n",
              "    }\n",
              "    60% {\n",
              "      border-color: transparent;\n",
              "      border-right-color: var(--fill-color);\n",
              "    }\n",
              "    80% {\n",
              "      border-color: transparent;\n",
              "      border-right-color: var(--fill-color);\n",
              "      border-bottom-color: var(--fill-color);\n",
              "    }\n",
              "    90% {\n",
              "      border-color: transparent;\n",
              "      border-bottom-color: var(--fill-color);\n",
              "    }\n",
              "  }\n",
              "</style>\n",
              "\n",
              "  <script>\n",
              "    async function quickchart(key) {\n",
              "      const quickchartButtonEl =\n",
              "        document.querySelector('#' + key + ' button');\n",
              "      quickchartButtonEl.disabled = true;  // To prevent multiple clicks.\n",
              "      quickchartButtonEl.classList.add('colab-df-spinner');\n",
              "      try {\n",
              "        const charts = await google.colab.kernel.invokeFunction(\n",
              "            'suggestCharts', [key], {});\n",
              "      } catch (error) {\n",
              "        console.error('Error during call to suggestCharts:', error);\n",
              "      }\n",
              "      quickchartButtonEl.classList.remove('colab-df-spinner');\n",
              "      quickchartButtonEl.classList.add('colab-df-quickchart-complete');\n",
              "    }\n",
              "    (() => {\n",
              "      let quickchartButtonEl =\n",
              "        document.querySelector('#df-99345dae-994b-49b0-904d-29dc8f7680ab button');\n",
              "      quickchartButtonEl.style.display =\n",
              "        google.colab.kernel.accessAllowed ? 'block' : 'none';\n",
              "    })();\n",
              "  </script>\n",
              "</div>\n",
              "    </div>\n",
              "  </div>\n"
            ]
          },
          "metadata": {},
          "execution_count": 15
        }
      ],
      "source": [
        "all_ratings.head()"
      ]
    },
    {
      "cell_type": "markdown",
      "metadata": {
        "id": "W0OThRYhV1Cb"
      },
      "source": [
        "We now look at movies."
      ]
    },
    {
      "cell_type": "code",
      "execution_count": null,
      "metadata": {
        "id": "l3gfokbNUUFH",
        "colab": {
          "base_uri": "https://localhost:8080/"
        },
        "outputId": "fe23c3b4-2b2a-40fd-f583-36d5a7a422a1"
      },
      "outputs": [
        {
          "output_type": "execute_result",
          "data": {
            "text/plain": [
              "count    1.000209e+06\n",
              "mean     1.865540e+03\n",
              "std      1.096041e+03\n",
              "min      1.000000e+00\n",
              "25%      1.030000e+03\n",
              "50%      1.835000e+03\n",
              "75%      2.770000e+03\n",
              "max      3.952000e+03\n",
              "Name: item_id, dtype: float64"
            ]
          },
          "metadata": {},
          "execution_count": 16
        }
      ],
      "source": [
        "all_ratings['item_id'].describe()"
      ]
    },
    {
      "cell_type": "code",
      "execution_count": null,
      "metadata": {
        "id": "8ncInsk_V1Cg",
        "colab": {
          "base_uri": "https://localhost:8080/"
        },
        "outputId": "b6468f85-8a6f-487d-c913-4e8bfd2e9151"
      },
      "outputs": [
        {
          "output_type": "stream",
          "name": "stdout",
          "text": [
            "3706\n"
          ]
        }
      ],
      "source": [
        "# number of unique rated items\n",
        "total_item_id = len(all_ratings['item_id'].unique())\n",
        "print(total_item_id)"
      ]
    },
    {
      "cell_type": "markdown",
      "metadata": {
        "id": "3gGu2LjiV1Ci"
      },
      "source": [
        "Here there is a clear problem: there are 3706 different movies but the range of `item_id` starts at 1 and ends at 3952. So there are gaps, so the first thing you will need to do is to create a new column `item_num` so that all movies are indexed from 0 to 3705."
      ]
    },
    {
      "cell_type": "code",
      "execution_count": null,
      "metadata": {
        "id": "9Zs7e-pyV1Cj"
      },
      "outputs": [],
      "source": [
        "itemnum_2_itemid = list(all_ratings['item_id'].unique())\n",
        "itemnum_2_itemid.sort()\n",
        "itemid_2_itemnum = {c:i for i,c in enumerate(itemnum_2_itemid)}\n",
        "all_ratings['item_num'] = all_ratings['item_id'].apply(lambda x: itemid_2_itemnum[x])"
      ]
    },
    {
      "cell_type": "markdown",
      "metadata": {
        "id": "weNJOlzcV1Cl"
      },
      "source": [
        "This function will verify that we have created `item_num` correctly."
      ]
    },
    {
      "cell_type": "code",
      "execution_count": null,
      "metadata": {
        "id": "ktctMT12V1Cl"
      },
      "outputs": [],
      "source": [
        "def check_ratings_num(df):\n",
        "    item_num = set(df['item_num'])\n",
        "    if item_num == set(range(len(item_num))):\n",
        "        return True\n",
        "    else:\n",
        "        return False"
      ]
    },
    {
      "cell_type": "code",
      "execution_count": null,
      "metadata": {
        "id": "w4w1XQnfV1Cp",
        "colab": {
          "base_uri": "https://localhost:8080/"
        },
        "outputId": "a1c60952-1191-42b8-d21c-d234e94d65e7"
      },
      "outputs": [
        {
          "output_type": "execute_result",
          "data": {
            "text/plain": [
              "True"
            ]
          },
          "metadata": {},
          "execution_count": 20
        }
      ],
      "source": [
        "check_ratings_num(all_ratings)"
      ]
    },
    {
      "cell_type": "code",
      "execution_count": null,
      "metadata": {
        "id": "HYa43L6EV1Cr",
        "colab": {
          "base_uri": "https://localhost:8080/",
          "height": 204
        },
        "outputId": "e701c930-6df2-4c2c-9e2e-83e4786f63b5"
      },
      "outputs": [
        {
          "output_type": "execute_result",
          "data": {
            "text/plain": [
              "   user_id  item_id  ratings  timestamp  \\\n",
              "0        1     1193        5  978300760   \n",
              "1        2     1193        5  978298413   \n",
              "2       12     1193        4  978220179   \n",
              "3       15     1193        4  978199279   \n",
              "4       17     1193        5  978158471   \n",
              "\n",
              "                                item_name  user_num  item_num  \n",
              "0  One Flew Over the Cuckoo's Nest (1975)         0      1104  \n",
              "1  One Flew Over the Cuckoo's Nest (1975)         1      1104  \n",
              "2  One Flew Over the Cuckoo's Nest (1975)        11      1104  \n",
              "3  One Flew Over the Cuckoo's Nest (1975)        14      1104  \n",
              "4  One Flew Over the Cuckoo's Nest (1975)        16      1104  "
            ],
            "text/html": [
              "\n",
              "  <div id=\"df-c497eebb-370a-44b0-8bc2-f5b030d19d58\" class=\"colab-df-container\">\n",
              "    <div>\n",
              "<style scoped>\n",
              "    .dataframe tbody tr th:only-of-type {\n",
              "        vertical-align: middle;\n",
              "    }\n",
              "\n",
              "    .dataframe tbody tr th {\n",
              "        vertical-align: top;\n",
              "    }\n",
              "\n",
              "    .dataframe thead th {\n",
              "        text-align: right;\n",
              "    }\n",
              "</style>\n",
              "<table border=\"1\" class=\"dataframe\">\n",
              "  <thead>\n",
              "    <tr style=\"text-align: right;\">\n",
              "      <th></th>\n",
              "      <th>user_id</th>\n",
              "      <th>item_id</th>\n",
              "      <th>ratings</th>\n",
              "      <th>timestamp</th>\n",
              "      <th>item_name</th>\n",
              "      <th>user_num</th>\n",
              "      <th>item_num</th>\n",
              "    </tr>\n",
              "  </thead>\n",
              "  <tbody>\n",
              "    <tr>\n",
              "      <th>0</th>\n",
              "      <td>1</td>\n",
              "      <td>1193</td>\n",
              "      <td>5</td>\n",
              "      <td>978300760</td>\n",
              "      <td>One Flew Over the Cuckoo's Nest (1975)</td>\n",
              "      <td>0</td>\n",
              "      <td>1104</td>\n",
              "    </tr>\n",
              "    <tr>\n",
              "      <th>1</th>\n",
              "      <td>2</td>\n",
              "      <td>1193</td>\n",
              "      <td>5</td>\n",
              "      <td>978298413</td>\n",
              "      <td>One Flew Over the Cuckoo's Nest (1975)</td>\n",
              "      <td>1</td>\n",
              "      <td>1104</td>\n",
              "    </tr>\n",
              "    <tr>\n",
              "      <th>2</th>\n",
              "      <td>12</td>\n",
              "      <td>1193</td>\n",
              "      <td>4</td>\n",
              "      <td>978220179</td>\n",
              "      <td>One Flew Over the Cuckoo's Nest (1975)</td>\n",
              "      <td>11</td>\n",
              "      <td>1104</td>\n",
              "    </tr>\n",
              "    <tr>\n",
              "      <th>3</th>\n",
              "      <td>15</td>\n",
              "      <td>1193</td>\n",
              "      <td>4</td>\n",
              "      <td>978199279</td>\n",
              "      <td>One Flew Over the Cuckoo's Nest (1975)</td>\n",
              "      <td>14</td>\n",
              "      <td>1104</td>\n",
              "    </tr>\n",
              "    <tr>\n",
              "      <th>4</th>\n",
              "      <td>17</td>\n",
              "      <td>1193</td>\n",
              "      <td>5</td>\n",
              "      <td>978158471</td>\n",
              "      <td>One Flew Over the Cuckoo's Nest (1975)</td>\n",
              "      <td>16</td>\n",
              "      <td>1104</td>\n",
              "    </tr>\n",
              "  </tbody>\n",
              "</table>\n",
              "</div>\n",
              "    <div class=\"colab-df-buttons\">\n",
              "\n",
              "  <div class=\"colab-df-container\">\n",
              "    <button class=\"colab-df-convert\" onclick=\"convertToInteractive('df-c497eebb-370a-44b0-8bc2-f5b030d19d58')\"\n",
              "            title=\"Convert this dataframe to an interactive table.\"\n",
              "            style=\"display:none;\">\n",
              "\n",
              "  <svg xmlns=\"http://www.w3.org/2000/svg\" height=\"24px\" viewBox=\"0 -960 960 960\">\n",
              "    <path d=\"M120-120v-720h720v720H120Zm60-500h600v-160H180v160Zm220 220h160v-160H400v160Zm0 220h160v-160H400v160ZM180-400h160v-160H180v160Zm440 0h160v-160H620v160ZM180-180h160v-160H180v160Zm440 0h160v-160H620v160Z\"/>\n",
              "  </svg>\n",
              "    </button>\n",
              "\n",
              "  <style>\n",
              "    .colab-df-container {\n",
              "      display:flex;\n",
              "      gap: 12px;\n",
              "    }\n",
              "\n",
              "    .colab-df-convert {\n",
              "      background-color: #E8F0FE;\n",
              "      border: none;\n",
              "      border-radius: 50%;\n",
              "      cursor: pointer;\n",
              "      display: none;\n",
              "      fill: #1967D2;\n",
              "      height: 32px;\n",
              "      padding: 0 0 0 0;\n",
              "      width: 32px;\n",
              "    }\n",
              "\n",
              "    .colab-df-convert:hover {\n",
              "      background-color: #E2EBFA;\n",
              "      box-shadow: 0px 1px 2px rgba(60, 64, 67, 0.3), 0px 1px 3px 1px rgba(60, 64, 67, 0.15);\n",
              "      fill: #174EA6;\n",
              "    }\n",
              "\n",
              "    .colab-df-buttons div {\n",
              "      margin-bottom: 4px;\n",
              "    }\n",
              "\n",
              "    [theme=dark] .colab-df-convert {\n",
              "      background-color: #3B4455;\n",
              "      fill: #D2E3FC;\n",
              "    }\n",
              "\n",
              "    [theme=dark] .colab-df-convert:hover {\n",
              "      background-color: #434B5C;\n",
              "      box-shadow: 0px 1px 3px 1px rgba(0, 0, 0, 0.15);\n",
              "      filter: drop-shadow(0px 1px 2px rgba(0, 0, 0, 0.3));\n",
              "      fill: #FFFFFF;\n",
              "    }\n",
              "  </style>\n",
              "\n",
              "    <script>\n",
              "      const buttonEl =\n",
              "        document.querySelector('#df-c497eebb-370a-44b0-8bc2-f5b030d19d58 button.colab-df-convert');\n",
              "      buttonEl.style.display =\n",
              "        google.colab.kernel.accessAllowed ? 'block' : 'none';\n",
              "\n",
              "      async function convertToInteractive(key) {\n",
              "        const element = document.querySelector('#df-c497eebb-370a-44b0-8bc2-f5b030d19d58');\n",
              "        const dataTable =\n",
              "          await google.colab.kernel.invokeFunction('convertToInteractive',\n",
              "                                                    [key], {});\n",
              "        if (!dataTable) return;\n",
              "\n",
              "        const docLinkHtml = 'Like what you see? Visit the ' +\n",
              "          '<a target=\"_blank\" href=https://colab.research.google.com/notebooks/data_table.ipynb>data table notebook</a>'\n",
              "          + ' to learn more about interactive tables.';\n",
              "        element.innerHTML = '';\n",
              "        dataTable['output_type'] = 'display_data';\n",
              "        await google.colab.output.renderOutput(dataTable, element);\n",
              "        const docLink = document.createElement('div');\n",
              "        docLink.innerHTML = docLinkHtml;\n",
              "        element.appendChild(docLink);\n",
              "      }\n",
              "    </script>\n",
              "  </div>\n",
              "\n",
              "\n",
              "<div id=\"df-39df21b3-56b9-48d3-8144-f7139853bb9e\">\n",
              "  <button class=\"colab-df-quickchart\" onclick=\"quickchart('df-39df21b3-56b9-48d3-8144-f7139853bb9e')\"\n",
              "            title=\"Suggest charts\"\n",
              "            style=\"display:none;\">\n",
              "\n",
              "<svg xmlns=\"http://www.w3.org/2000/svg\" height=\"24px\"viewBox=\"0 0 24 24\"\n",
              "     width=\"24px\">\n",
              "    <g>\n",
              "        <path d=\"M19 3H5c-1.1 0-2 .9-2 2v14c0 1.1.9 2 2 2h14c1.1 0 2-.9 2-2V5c0-1.1-.9-2-2-2zM9 17H7v-7h2v7zm4 0h-2V7h2v10zm4 0h-2v-4h2v4z\"/>\n",
              "    </g>\n",
              "</svg>\n",
              "  </button>\n",
              "\n",
              "<style>\n",
              "  .colab-df-quickchart {\n",
              "      --bg-color: #E8F0FE;\n",
              "      --fill-color: #1967D2;\n",
              "      --hover-bg-color: #E2EBFA;\n",
              "      --hover-fill-color: #174EA6;\n",
              "      --disabled-fill-color: #AAA;\n",
              "      --disabled-bg-color: #DDD;\n",
              "  }\n",
              "\n",
              "  [theme=dark] .colab-df-quickchart {\n",
              "      --bg-color: #3B4455;\n",
              "      --fill-color: #D2E3FC;\n",
              "      --hover-bg-color: #434B5C;\n",
              "      --hover-fill-color: #FFFFFF;\n",
              "      --disabled-bg-color: #3B4455;\n",
              "      --disabled-fill-color: #666;\n",
              "  }\n",
              "\n",
              "  .colab-df-quickchart {\n",
              "    background-color: var(--bg-color);\n",
              "    border: none;\n",
              "    border-radius: 50%;\n",
              "    cursor: pointer;\n",
              "    display: none;\n",
              "    fill: var(--fill-color);\n",
              "    height: 32px;\n",
              "    padding: 0;\n",
              "    width: 32px;\n",
              "  }\n",
              "\n",
              "  .colab-df-quickchart:hover {\n",
              "    background-color: var(--hover-bg-color);\n",
              "    box-shadow: 0 1px 2px rgba(60, 64, 67, 0.3), 0 1px 3px 1px rgba(60, 64, 67, 0.15);\n",
              "    fill: var(--button-hover-fill-color);\n",
              "  }\n",
              "\n",
              "  .colab-df-quickchart-complete:disabled,\n",
              "  .colab-df-quickchart-complete:disabled:hover {\n",
              "    background-color: var(--disabled-bg-color);\n",
              "    fill: var(--disabled-fill-color);\n",
              "    box-shadow: none;\n",
              "  }\n",
              "\n",
              "  .colab-df-spinner {\n",
              "    border: 2px solid var(--fill-color);\n",
              "    border-color: transparent;\n",
              "    border-bottom-color: var(--fill-color);\n",
              "    animation:\n",
              "      spin 1s steps(1) infinite;\n",
              "  }\n",
              "\n",
              "  @keyframes spin {\n",
              "    0% {\n",
              "      border-color: transparent;\n",
              "      border-bottom-color: var(--fill-color);\n",
              "      border-left-color: var(--fill-color);\n",
              "    }\n",
              "    20% {\n",
              "      border-color: transparent;\n",
              "      border-left-color: var(--fill-color);\n",
              "      border-top-color: var(--fill-color);\n",
              "    }\n",
              "    30% {\n",
              "      border-color: transparent;\n",
              "      border-left-color: var(--fill-color);\n",
              "      border-top-color: var(--fill-color);\n",
              "      border-right-color: var(--fill-color);\n",
              "    }\n",
              "    40% {\n",
              "      border-color: transparent;\n",
              "      border-right-color: var(--fill-color);\n",
              "      border-top-color: var(--fill-color);\n",
              "    }\n",
              "    60% {\n",
              "      border-color: transparent;\n",
              "      border-right-color: var(--fill-color);\n",
              "    }\n",
              "    80% {\n",
              "      border-color: transparent;\n",
              "      border-right-color: var(--fill-color);\n",
              "      border-bottom-color: var(--fill-color);\n",
              "    }\n",
              "    90% {\n",
              "      border-color: transparent;\n",
              "      border-bottom-color: var(--fill-color);\n",
              "    }\n",
              "  }\n",
              "</style>\n",
              "\n",
              "  <script>\n",
              "    async function quickchart(key) {\n",
              "      const quickchartButtonEl =\n",
              "        document.querySelector('#' + key + ' button');\n",
              "      quickchartButtonEl.disabled = true;  // To prevent multiple clicks.\n",
              "      quickchartButtonEl.classList.add('colab-df-spinner');\n",
              "      try {\n",
              "        const charts = await google.colab.kernel.invokeFunction(\n",
              "            'suggestCharts', [key], {});\n",
              "      } catch (error) {\n",
              "        console.error('Error during call to suggestCharts:', error);\n",
              "      }\n",
              "      quickchartButtonEl.classList.remove('colab-df-spinner');\n",
              "      quickchartButtonEl.classList.add('colab-df-quickchart-complete');\n",
              "    }\n",
              "    (() => {\n",
              "      let quickchartButtonEl =\n",
              "        document.querySelector('#df-39df21b3-56b9-48d3-8144-f7139853bb9e button');\n",
              "      quickchartButtonEl.style.display =\n",
              "        google.colab.kernel.accessAllowed ? 'block' : 'none';\n",
              "    })();\n",
              "  </script>\n",
              "</div>\n",
              "    </div>\n",
              "  </div>\n"
            ]
          },
          "metadata": {},
          "execution_count": 21
        }
      ],
      "source": [
        "all_ratings.head()"
      ]
    },
    {
      "cell_type": "markdown",
      "source": [
        "### Preliminary data analysis\n",
        "\n",
        "**Exercises**: Find the top 10 most popular movies in the dataset and include the result in your report"
      ],
      "metadata": {
        "id": "y2XGHdnbLms4"
      }
    },
    {
      "cell_type": "code",
      "source": [
        "top_movies = all_ratings['item_name'].value_counts()\n",
        "print(top_movies[0:10])"
      ],
      "metadata": {
        "id": "V-jcrW96lwsW",
        "colab": {
          "base_uri": "https://localhost:8080/"
        },
        "outputId": "a90def35-b959-436c-85ab-6c3fabbba751"
      },
      "execution_count": null,
      "outputs": [
        {
          "output_type": "stream",
          "name": "stdout",
          "text": [
            "American Beauty (1999)                                   3428\n",
            "Star Wars: Episode IV - A New Hope (1977)                2991\n",
            "Star Wars: Episode V - The Empire Strikes Back (1980)    2990\n",
            "Star Wars: Episode VI - Return of the Jedi (1983)        2883\n",
            "Jurassic Park (1993)                                     2672\n",
            "Saving Private Ryan (1998)                               2653\n",
            "Terminator 2: Judgment Day (1991)                        2649\n",
            "Matrix, The (1999)                                       2590\n",
            "Back to the Future (1985)                                2583\n",
            "Silence of the Lambs, The (1991)                         2578\n",
            "Name: item_name, dtype: int64\n"
          ]
        }
      ]
    },
    {
      "cell_type": "markdown",
      "source": [
        "**Exercise**: Plot the histogram of popularity (x-axis: # of given ratings, y-axis: # of movies with the given # of ratings). Include the plot in your report."
      ],
      "metadata": {
        "id": "1KOFiKMCr0_4"
      }
    },
    {
      "cell_type": "code",
      "source": [
        "rating_counts = all_ratings.groupby('item_num').size()\n",
        "\n",
        "# Plotting the histogram\n",
        "plt.figure(figsize=(10, 6))\n",
        "plt.hist(rating_counts, bins=50, align='left')\n",
        "plt.xlabel('Number of Ratings Given')\n",
        "plt.ylabel('Number of Movies')\n",
        "plt.title('Histogram of Movie Popularity (Number of Ratings per Movie)')\n",
        "plt.grid(True)\n",
        "plt.show()"
      ],
      "metadata": {
        "id": "iES1dtjRmnvv",
        "colab": {
          "base_uri": "https://localhost:8080/",
          "height": 564
        },
        "outputId": "dd1460ba-7bde-4f67-f61f-573f67802afc"
      },
      "execution_count": null,
      "outputs": [
        {
          "output_type": "display_data",
          "data": {
            "text/plain": [
              "<Figure size 1000x600 with 1 Axes>"
            ],
            "image/png": "[encoded data removed]"
          },
          "metadata": {}
        }
      ]
    },
    {
      "cell_type": "markdown",
      "source": [
        "**Exercise**: Plot the histogram of user activity (x-axis: # of given ratings, y-axis: # of users with the given # of ratings). Include the plot in your report."
      ],
      "metadata": {
        "id": "9e7Er529r3xY"
      }
    },
    {
      "cell_type": "code",
      "source": [
        "# Adjusting the code to plot the histogram of user activity\n",
        "\n",
        "# Counting the number of ratings given by each user\n",
        "user_activity_counts = all_ratings.groupby('user_num').size()\n",
        "\n",
        "# Plotting the histogram for user activity\n",
        "plt.figure(figsize=(10, 6))\n",
        "plt.hist(user_activity_counts, bins=50, align='left')\n",
        "plt.xlabel('Number of Ratings Given')\n",
        "plt.ylabel('Number of Users')\n",
        "plt.title('Histogram of User Activity (Number of Ratings per User)')\n",
        "plt.grid(True)\n",
        "plt.show()\n"
      ],
      "metadata": {
        "id": "f-5mN1F6qLLF",
        "colab": {
          "base_uri": "https://localhost:8080/",
          "height": 564
        },
        "outputId": "24332dc7-091f-40dd-9009-0bc00b0ed343"
      },
      "execution_count": null,
      "outputs": [
        {
          "output_type": "display_data",
          "data": {
            "text/plain": [
              "<Figure size 1000x600 with 1 Axes>"
            ],
            "image/png": "[encoded data removed]"
          },
          "metadata": {}
        }
      ]
    },
    {
      "cell_type": "markdown",
      "source": [
        "**Exercise**: Compute the average ratings for every movie and find the top 20 highly rated movies. Include the list of 20 highly rated movies and their ratings in your report. Are these highly rated movies popular?"
      ],
      "metadata": {
        "id": "nI7Tomlfr64A"
      }
    },
    {
      "cell_type": "code",
      "source": [
        "average_ratings = all_ratings.groupby('item_id')['ratings'].mean()\n",
        "\n",
        "# Sorting the movies by their average rating in descending order and getting the top 20\n",
        "top_20_movies = average_ratings.sort_values(ascending=False).head(20)\n",
        "\n",
        "# Merging with the original dataframe to get movie names\n",
        "top_20_movies_with_names = pd.merge(top_20_movies, all_ratings[['item_id', 'item_name']].drop_duplicates(), on='item_id')\n",
        "\n",
        "# Checking if these highly rated movies are popular by seeing their rating counts\n",
        "top_20_movies_popularity = all_ratings[all_ratings['item_id'].isin(top_20_movies.index)].groupby('item_id').size()\n",
        "\n",
        "top_20_movies_with_names.set_index('item_id', inplace=True)\n",
        "top_20_movies_with_names['popularity'] = top_20_movies_popularity\n",
        "\n",
        "top_20_movies_with_names.reset_index(inplace=True)\n",
        "\n",
        "top_20_movies_with_names"
      ],
      "metadata": {
        "id": "3TFUhkPEqyLq",
        "colab": {
          "base_uri": "https://localhost:8080/",
          "height": 669
        },
        "outputId": "c68ae097-9604-4f2f-b998-6388bf68c399"
      },
      "execution_count": null,
      "outputs": [
        {
          "output_type": "execute_result",
          "data": {
            "text/plain": [
              "    item_id   ratings                                          item_name  \\\n",
              "0       989  5.000000          Schlafes Bruder (Brother of Sleep) (1995)   \n",
              "1      3881  5.000000                           Bittersweet Motel (2000)   \n",
              "2      1830  5.000000                            Follow the Bitch (1998)   \n",
              "3      3382  5.000000                             Song of Freedom (1936)   \n",
              "4       787  5.000000                 Gate of Heavenly Peace, The (1995)   \n",
              "5      3280  5.000000                                   Baby, The (1973)   \n",
              "6      3607  5.000000                           One Little Indian (1973)   \n",
              "7      3233  5.000000                               Smashing Time (1967)   \n",
              "8      3172  5.000000                            Ulysses (Ulisse) (1954)   \n",
              "9      3656  5.000000                                       Lured (1947)   \n",
              "10     3245  4.800000                I Am Cuba (Soy Cuba/Ya Kuba) (1964)   \n",
              "11       53  4.750000                                    Lamerica (1994)   \n",
              "12     2503  4.666667                            Apple, The (Sib) (1998)   \n",
              "13     2905  4.608696                                     Sanjuro (1962)   \n",
              "14     2019  4.560510  Seven Samurai (The Magnificent Seven) (Shichin...   \n",
              "15      318  4.554558                   Shawshank Redemption, The (1994)   \n",
              "16      858  4.524966                              Godfather, The (1972)   \n",
              "17      745  4.520548                              Close Shave, A (1995)   \n",
              "18       50  4.517106                         Usual Suspects, The (1995)   \n",
              "19      527  4.510417                            Schindler's List (1993)   \n",
              "\n",
              "    popularity  \n",
              "0            1  \n",
              "1            1  \n",
              "2            1  \n",
              "3            1  \n",
              "4            3  \n",
              "5            1  \n",
              "6            1  \n",
              "7            2  \n",
              "8            1  \n",
              "9            1  \n",
              "10           5  \n",
              "11           8  \n",
              "12           9  \n",
              "13          69  \n",
              "14         628  \n",
              "15        2227  \n",
              "16        2223  \n",
              "17         657  \n",
              "18        1783  \n",
              "19        2304  "
            ],
            "text/html": [
              "\n",
              "  <div id=\"df-628197df-1906-49fa-a588-0d9c9c46578f\" class=\"colab-df-container\">\n",
              "    <div>\n",
              "<style scoped>\n",
              "    .dataframe tbody tr th:only-of-type {\n",
              "        vertical-align: middle;\n",
              "    }\n",
              "\n",
              "    .dataframe tbody tr th {\n",
              "        vertical-align: top;\n",
              "    }\n",
              "\n",
              "    .dataframe thead th {\n",
              "        text-align: right;\n",
              "    }\n",
              "</style>\n",
              "<table border=\"1\" class=\"dataframe\">\n",
              "  <thead>\n",
              "    <tr style=\"text-align: right;\">\n",
              "      <th></th>\n",
              "      <th>item_id</th>\n",
              "      <th>ratings</th>\n",
              "      <th>item_name</th>\n",
              "      <th>popularity</th>\n",
              "    </tr>\n",
              "  </thead>\n",
              "  <tbody>\n",
              "    <tr>\n",
              "      <th>0</th>\n",
              "      <td>989</td>\n",
              "      <td>5.000000</td>\n",
              "      <td>Schlafes Bruder (Brother of Sleep) (1995)</td>\n",
              "      <td>1</td>\n",
              "    </tr>\n",
              "    <tr>\n",
              "      <th>1</th>\n",
              "      <td>3881</td>\n",
              "      <td>5.000000</td>\n",
              "      <td>Bittersweet Motel (2000)</td>\n",
              "      <td>1</td>\n",
              "    </tr>\n",
              "    <tr>\n",
              "      <th>2</th>\n",
              "      <td>1830</td>\n",
              "      <td>5.000000</td>\n",
              "      <td>Follow the Bitch (1998)</td>\n",
              "      <td>1</td>\n",
              "    </tr>\n",
              "    <tr>\n",
              "      <th>3</th>\n",
              "      <td>3382</td>\n",
              "      <td>5.000000</td>\n",
              "      <td>Song of Freedom (1936)</td>\n",
              "      <td>1</td>\n",
              "    </tr>\n",
              "    <tr>\n",
              "      <th>4</th>\n",
              "      <td>787</td>\n",
              "      <td>5.000000</td>\n",
              "      <td>Gate of Heavenly Peace, The (1995)</td>\n",
              "      <td>3</td>\n",
              "    </tr>\n",
              "    <tr>\n",
              "      <th>5</th>\n",
              "      <td>3280</td>\n",
              "      <td>5.000000</td>\n",
              "      <td>Baby, The (1973)</td>\n",
              "      <td>1</td>\n",
              "    </tr>\n",
              "    <tr>\n",
              "      <th>6</th>\n",
              "      <td>3607</td>\n",
              "      <td>5.000000</td>\n",
              "      <td>One Little Indian (1973)</td>\n",
              "      <td>1</td>\n",
              "    </tr>\n",
              "    <tr>\n",
              "      <th>7</th>\n",
              "      <td>3233</td>\n",
              "      <td>5.000000</td>\n",
              "      <td>Smashing Time (1967)</td>\n",
              "      <td>2</td>\n",
              "    </tr>\n",
              "    <tr>\n",
              "      <th>8</th>\n",
              "      <td>3172</td>\n",
              "      <td>5.000000</td>\n",
              "      <td>Ulysses (Ulisse) (1954)</td>\n",
              "      <td>1</td>\n",
              "    </tr>\n",
              "    <tr>\n",
              "      <th>9</th>\n",
              "      <td>3656</td>\n",
              "      <td>5.000000</td>\n",
              "      <td>Lured (1947)</td>\n",
              "      <td>1</td>\n",
              "    </tr>\n",
              "    <tr>\n",
              "      <th>10</th>\n",
              "      <td>3245</td>\n",
              "      <td>4.800000</td>\n",
              "      <td>I Am Cuba (Soy Cuba/Ya Kuba) (1964)</td>\n",
              "      <td>5</td>\n",
              "    </tr>\n",
              "    <tr>\n",
              "      <th>11</th>\n",
              "      <td>53</td>\n",
              "      <td>4.750000</td>\n",
              "      <td>Lamerica (1994)</td>\n",
              "      <td>8</td>\n",
              "    </tr>\n",
              "    <tr>\n",
              "      <th>12</th>\n",
              "      <td>2503</td>\n",
              "      <td>4.666667</td>\n",
              "      <td>Apple, The (Sib) (1998)</td>\n",
              "      <td>9</td>\n",
              "    </tr>\n",
              "    <tr>\n",
              "      <th>13</th>\n",
              "      <td>2905</td>\n",
              "      <td>4.608696</td>\n",
              "      <td>Sanjuro (1962)</td>\n",
              "      <td>69</td>\n",
              "    </tr>\n",
              "    <tr>\n",
              "      <th>14</th>\n",
              "      <td>2019</td>\n",
              "      <td>4.560510</td>\n",
              "      <td>Seven Samurai (The Magnificent Seven) (Shichin...</td>\n",
              "      <td>628</td>\n",
              "    </tr>\n",
              "    <tr>\n",
              "      <th>15</th>\n",
              "      <td>318</td>\n",
              "      <td>4.554558</td>\n",
              "      <td>Shawshank Redemption, The (1994)</td>\n",
              "      <td>2227</td>\n",
              "    </tr>\n",
              "    <tr>\n",
              "      <th>16</th>\n",
              "      <td>858</td>\n",
              "      <td>4.524966</td>\n",
              "      <td>Godfather, The (1972)</td>\n",
              "      <td>2223</td>\n",
              "    </tr>\n",
              "    <tr>\n",
              "      <th>17</th>\n",
              "      <td>745</td>\n",
              "      <td>4.520548</td>\n",
              "      <td>Close Shave, A (1995)</td>\n",
              "      <td>657</td>\n",
              "    </tr>\n",
              "    <tr>\n",
              "      <th>18</th>\n",
              "      <td>50</td>\n",
              "      <td>4.517106</td>\n",
              "      <td>Usual Suspects, The (1995)</td>\n",
              "      <td>1783</td>\n",
              "    </tr>\n",
              "    <tr>\n",
              "      <th>19</th>\n",
              "      <td>527</td>\n",
              "      <td>4.510417</td>\n",
              "      <td>Schindler's List (1993)</td>\n",
              "      <td>2304</td>\n",
              "    </tr>\n",
              "  </tbody>\n",
              "</table>\n",
              "</div>\n",
              "    <div class=\"colab-df-buttons\">\n",
              "\n",
              "  <div class=\"colab-df-container\">\n",
              "    <button class=\"colab-df-convert\" onclick=\"convertToInteractive('df-628197df-1906-49fa-a588-0d9c9c46578f')\"\n",
              "            title=\"Convert this dataframe to an interactive table.\"\n",
              "            style=\"display:none;\">\n",
              "\n",
              "  <svg xmlns=\"http://www.w3.org/2000/svg\" height=\"24px\" viewBox=\"0 -960 960 960\">\n",
              "    <path d=\"M120-120v-720h720v720H120Zm60-500h600v-160H180v160Zm220 220h160v-160H400v160Zm0 220h160v-160H400v160ZM180-400h160v-160H180v160Zm440 0h160v-160H620v160ZM180-180h160v-160H180v160Zm440 0h160v-160H620v160Z\"/>\n",
              "  </svg>\n",
              "    </button>\n",
              "\n",
              "  <style>\n",
              "    .colab-df-container {\n",
              "      display:flex;\n",
              "      gap: 12px;\n",
              "    }\n",
              "\n",
              "    .colab-df-convert {\n",
              "      background-color: #E8F0FE;\n",
              "      border: none;\n",
              "      border-radius: 50%;\n",
              "      cursor: pointer;\n",
              "      display: none;\n",
              "      fill: #1967D2;\n",
              "      height: 32px;\n",
              "      padding: 0 0 0 0;\n",
              "      width: 32px;\n",
              "    }\n",
              "\n",
              "    .colab-df-convert:hover {\n",
              "      background-color: #E2EBFA;\n",
              "      box-shadow: 0px 1px 2px rgba(60, 64, 67, 0.3), 0px 1px 3px 1px rgba(60, 64, 67, 0.15);\n",
              "      fill: #174EA6;\n",
              "    }\n",
              "\n",
              "    .colab-df-buttons div {\n",
              "      margin-bottom: 4px;\n",
              "    }\n",
              "\n",
              "    [theme=dark] .colab-df-convert {\n",
              "      background-color: #3B4455;\n",
              "      fill: #D2E3FC;\n",
              "    }\n",
              "\n",
              "    [theme=dark] .colab-df-convert:hover {\n",
              "      background-color: #434B5C;\n",
              "      box-shadow: 0px 1px 3px 1px rgba(0, 0, 0, 0.15);\n",
              "      filter: drop-shadow(0px 1px 2px rgba(0, 0, 0, 0.3));\n",
              "      fill: #FFFFFF;\n",
              "    }\n",
              "  </style>\n",
              "\n",
              "    <script>\n",
              "      const buttonEl =\n",
              "        document.querySelector('#df-628197df-1906-49fa-a588-0d9c9c46578f button.colab-df-convert');\n",
              "      buttonEl.style.display =\n",
              "        google.colab.kernel.accessAllowed ? 'block' : 'none';\n",
              "\n",
              "      async function convertToInteractive(key) {\n",
              "        const element = document.querySelector('#df-628197df-1906-49fa-a588-0d9c9c46578f');\n",
              "        const dataTable =\n",
              "          await google.colab.kernel.invokeFunction('convertToInteractive',\n",
              "                                                    [key], {});\n",
              "        if (!dataTable) return;\n",
              "\n",
              "        const docLinkHtml = 'Like what you see? Visit the ' +\n",
              "          '<a target=\"_blank\" href=https://colab.research.google.com/notebooks/data_table.ipynb>data table notebook</a>'\n",
              "          + ' to learn more about interactive tables.';\n",
              "        element.innerHTML = '';\n",
              "        dataTable['output_type'] = 'display_data';\n",
              "        await google.colab.output.renderOutput(dataTable, element);\n",
              "        const docLink = document.createElement('div');\n",
              "        docLink.innerHTML = docLinkHtml;\n",
              "        element.appendChild(docLink);\n",
              "      }\n",
              "    </script>\n",
              "  </div>\n",
              "\n",
              "\n",
              "<div id=\"df-10b747df-99b0-43e7-b221-f47a2d8b666b\">\n",
              "  <button class=\"colab-df-quickchart\" onclick=\"quickchart('df-10b747df-99b0-43e7-b221-f47a2d8b666b')\"\n",
              "            title=\"Suggest charts\"\n",
              "            style=\"display:none;\">\n",
              "\n",
              "<svg xmlns=\"http://www.w3.org/2000/svg\" height=\"24px\"viewBox=\"0 0 24 24\"\n",
              "     width=\"24px\">\n",
              "    <g>\n",
              "        <path d=\"M19 3H5c-1.1 0-2 .9-2 2v14c0 1.1.9 2 2 2h14c1.1 0 2-.9 2-2V5c0-1.1-.9-2-2-2zM9 17H7v-7h2v7zm4 0h-2V7h2v10zm4 0h-2v-4h2v4z\"/>\n",
              "    </g>\n",
              "</svg>\n",
              "  </button>\n",
              "\n",
              "<style>\n",
              "  .colab-df-quickchart {\n",
              "      --bg-color: #E8F0FE;\n",
              "      --fill-color: #1967D2;\n",
              "      --hover-bg-color: #E2EBFA;\n",
              "      --hover-fill-color: #174EA6;\n",
              "      --disabled-fill-color: #AAA;\n",
              "      --disabled-bg-color: #DDD;\n",
              "  }\n",
              "\n",
              "  [theme=dark] .colab-df-quickchart {\n",
              "      --bg-color: #3B4455;\n",
              "      --fill-color: #D2E3FC;\n",
              "      --hover-bg-color: #434B5C;\n",
              "      --hover-fill-color: #FFFFFF;\n",
              "      --disabled-bg-color: #3B4455;\n",
              "      --disabled-fill-color: #666;\n",
              "  }\n",
              "\n",
              "  .colab-df-quickchart {\n",
              "    background-color: var(--bg-color);\n",
              "    border: none;\n",
              "    border-radius: 50%;\n",
              "    cursor: pointer;\n",
              "    display: none;\n",
              "    fill: var(--fill-color);\n",
              "    height: 32px;\n",
              "    padding: 0;\n",
              "    width: 32px;\n",
              "  }\n",
              "\n",
              "  .colab-df-quickchart:hover {\n",
              "    background-color: var(--hover-bg-color);\n",
              "    box-shadow: 0 1px 2px rgba(60, 64, 67, 0.3), 0 1px 3px 1px rgba(60, 64, 67, 0.15);\n",
              "    fill: var(--button-hover-fill-color);\n",
              "  }\n",
              "\n",
              "  .colab-df-quickchart-complete:disabled,\n",
              "  .colab-df-quickchart-complete:disabled:hover {\n",
              "    background-color: var(--disabled-bg-color);\n",
              "    fill: var(--disabled-fill-color);\n",
              "    box-shadow: none;\n",
              "  }\n",
              "\n",
              "  .colab-df-spinner {\n",
              "    border: 2px solid var(--fill-color);\n",
              "    border-color: transparent;\n",
              "    border-bottom-color: var(--fill-color);\n",
              "    animation:\n",
              "      spin 1s steps(1) infinite;\n",
              "  }\n",
              "\n",
              "  @keyframes spin {\n",
              "    0% {\n",
              "      border-color: transparent;\n",
              "      border-bottom-color: var(--fill-color);\n",
              "      border-left-color: var(--fill-color);\n",
              "    }\n",
              "    20% {\n",
              "      border-color: transparent;\n",
              "      border-left-color: var(--fill-color);\n",
              "      border-top-color: var(--fill-color);\n",
              "    }\n",
              "    30% {\n",
              "      border-color: transparent;\n",
              "      border-left-color: var(--fill-color);\n",
              "      border-top-color: var(--fill-color);\n",
              "      border-right-color: var(--fill-color);\n",
              "    }\n",
              "    40% {\n",
              "      border-color: transparent;\n",
              "      border-right-color: var(--fill-color);\n",
              "      border-top-color: var(--fill-color);\n",
              "    }\n",
              "    60% {\n",
              "      border-color: transparent;\n",
              "      border-right-color: var(--fill-color);\n",
              "    }\n",
              "    80% {\n",
              "      border-color: transparent;\n",
              "      border-right-color: var(--fill-color);\n",
              "      border-bottom-color: var(--fill-color);\n",
              "    }\n",
              "    90% {\n",
              "      border-color: transparent;\n",
              "      border-bottom-color: var(--fill-color);\n",
              "    }\n",
              "  }\n",
              "</style>\n",
              "\n",
              "  <script>\n",
              "    async function quickchart(key) {\n",
              "      const quickchartButtonEl =\n",
              "        document.querySelector('#' + key + ' button');\n",
              "      quickchartButtonEl.disabled = true;  // To prevent multiple clicks.\n",
              "      quickchartButtonEl.classList.add('colab-df-spinner');\n",
              "      try {\n",
              "        const charts = await google.colab.kernel.invokeFunction(\n",
              "            'suggestCharts', [key], {});\n",
              "      } catch (error) {\n",
              "        console.error('Error during call to suggestCharts:', error);\n",
              "      }\n",
              "      quickchartButtonEl.classList.remove('colab-df-spinner');\n",
              "      quickchartButtonEl.classList.add('colab-df-quickchart-complete');\n",
              "    }\n",
              "    (() => {\n",
              "      let quickchartButtonEl =\n",
              "        document.querySelector('#df-10b747df-99b0-43e7-b221-f47a2d8b666b button');\n",
              "      quickchartButtonEl.style.display =\n",
              "        google.colab.kernel.accessAllowed ? 'block' : 'none';\n",
              "    })();\n",
              "  </script>\n",
              "</div>\n",
              "    </div>\n",
              "  </div>\n"
            ]
          },
          "metadata": {},
          "execution_count": 25
        }
      ]
    },
    {
      "cell_type": "markdown",
      "source": [
        "#### ANS:\n",
        "The majority of the highly-rated movies (especially those with 5-star rating) are actually not popular and are reviewed by few people, but there are indeed some movies that are both highly-rated and popular such as Shawshank Redemption."
      ],
      "metadata": {
        "id": "OYXD-eNv4PyD"
      }
    },
    {
      "cell_type": "markdown",
      "metadata": {
        "id": "Ur4bjuniUUFj"
      },
      "source": [
        "---\n",
        "## Train, Validation, and Test Data\n",
        "\n",
        "Now we will split the data in _train_, _val_ and _test_ be using a pre-defined function from [scikit-learn](http://scikit-learn.org/stable/)"
      ]
    },
    {
      "cell_type": "code",
      "execution_count": null,
      "metadata": {
        "id": "ZT5oxhoGUUFm"
      },
      "outputs": [],
      "source": [
        "#Split the data into train, validation and test\n",
        "from sklearn.model_selection import train_test_split\n",
        "\n",
        "ratings_trainval, ratings_test = train_test_split(all_ratings, test_size=0.1, random_state=42)\n",
        "\n",
        "ratings_train, ratings_val = train_test_split(ratings_trainval, test_size=0.1, random_state=42)"
      ]
    },
    {
      "cell_type": "code",
      "source": [
        "user_id_train = ratings_train['user_id']\n",
        "item_id_train = ratings_train['item_id']\n",
        "rating_train = ratings_train['ratings']\n",
        "\n",
        "user_id_test = ratings_test['user_id']\n",
        "item_id_test = ratings_test['item_id']\n",
        "rating_test = ratings_test['ratings']"
      ],
      "metadata": {
        "id": "_xIuapYfBssG"
      },
      "execution_count": null,
      "outputs": []
    },
    {
      "cell_type": "code",
      "source": [
        "movies_not_train = list(set(all_ratings['item_id']) -set(item_id_train))\n",
        "movies_not_train_name=set(all_ratings.loc[movies_not_train]['item_name'])\n",
        "print(movies_not_train_name)"
      ],
      "metadata": {
        "id": "kRo_Un-IBiof",
        "colab": {
          "base_uri": "https://localhost:8080/"
        },
        "outputId": "eafee0f0-27a3-4f59-b9df-d6ace3d7e5e8"
      },
      "execution_count": null,
      "outputs": [
        {
          "output_type": "stream",
          "name": "stdout",
          "text": [
            "{'James and the Giant Peach (1996)', \"One Flew Over the Cuckoo's Nest (1975)\", 'My Fair Lady (1964)', 'Erin Brockovich (2000)'}\n"
          ]
        }
      ]
    },
    {
      "cell_type": "markdown",
      "metadata": {
        "id": "Vmx1YZmTUUGG"
      },
      "source": [
        "We see that a few movies are not rated in the train set. For those movies, it is hard to predict their ratings accurately."
      ]
    },
    {
      "cell_type": "markdown",
      "source": [
        "---\n",
        "## Data Load and Batching"
      ],
      "metadata": {
        "id": "Rlhi4ocr4iOD"
      }
    },
    {
      "cell_type": "markdown",
      "source": [
        "Use GPU if available."
      ],
      "metadata": {
        "id": "3JEV5wxk5h0t"
      }
    },
    {
      "cell_type": "code",
      "source": [
        "import torch\n",
        "device = torch.device(\"cuda:0\" if torch.cuda.is_available() else \"cpu\")"
      ],
      "metadata": {
        "id": "fU4OIArA5iyb"
      },
      "execution_count": null,
      "outputs": []
    },
    {
      "cell_type": "markdown",
      "source": [
        "We define a function to return a triplet of user_num, item_num, rating from the dataframe."
      ],
      "metadata": {
        "id": "za-dIdY45tpa"
      }
    },
    {
      "cell_type": "code",
      "source": [
        "def df_2_tensor(df, device):\n",
        "    # return a triplet user_num, item_num, rating from the dataframe\n",
        "    user_num = np.asarray(df['user_num'])\n",
        "    item_num = np.asarray(df['item_num'])\n",
        "    rating = np.asarray(df['ratings'])\n",
        "    return torch.from_numpy(user_num).to(device), torch.from_numpy(item_num).to(device), torch.from_numpy(rating).to(device)"
      ],
      "metadata": {
        "id": "rxsYMLko5Qu6"
      },
      "execution_count": null,
      "outputs": []
    },
    {
      "cell_type": "markdown",
      "source": [
        "Below, we construct 3 tensors containing the `user_num`, `item_num` and `rating` for the training set. All tensors have the same shape so that `train_user_num[i]` watched `train_item_num[i]` and gave a rating of `train_rating[i]`."
      ],
      "metadata": {
        "id": "-v3Bjgyt5VjV"
      }
    },
    {
      "cell_type": "code",
      "source": [
        "train_user_num, train_item_num, train_rating = df_2_tensor(ratings_train,device)"
      ],
      "metadata": {
        "id": "XPRBxFWX5Uwy"
      },
      "execution_count": null,
      "outputs": []
    },
    {
      "cell_type": "markdown",
      "source": [
        "We now do the same thing for the validation and test sets."
      ],
      "metadata": {
        "id": "uJwGxZFH5emq"
      }
    },
    {
      "cell_type": "code",
      "source": [
        "val_user_num, val_item_num, val_rating = df_2_tensor(ratings_val,device)\n",
        "test_user_num, test_item_num, test_rating = df_2_tensor(ratings_test,device)"
      ],
      "metadata": {
        "id": "UWMHCQ0V5ZSt"
      },
      "execution_count": null,
      "outputs": []
    },
    {
      "cell_type": "markdown",
      "source": [
        "Now you need to construct a dataset and a dataloader. For this, you can define a first function taking as arguments the tensors defined above and returning a list (Hint: you may use the [zip function](https://www.w3schools.com/python/ref_func_zip.asp)); then a second function taking as argument a dataset, the batchsize and a boolean for the shuffling."
      ],
      "metadata": {
        "id": "LgoPPq9c5A7K"
      }
    },
    {
      "cell_type": "markdown",
      "source": [
        "**Exercise**: Filling in the missing code below to construct dataset and dataloader."
      ],
      "metadata": {
        "id": "FuM5hsyldlfe"
      }
    },
    {
      "cell_type": "code",
      "source": [
        "from torch.utils.data import DataLoader, TensorDataset\n",
        "\n",
        "def tensor_2_dataset(user, item, rating):\n",
        "    # Combine the tensors into a single dataset\n",
        "    dataset = zip(user, item, rating)\n",
        "    return list(dataset)\n",
        "\n",
        "def make_dataloader(dataset, bs, shuffle):\n",
        "    # Create a DataLoader\n",
        "    dataloader = DataLoader(dataset, batch_size=bs, shuffle=shuffle)\n",
        "    return dataloader"
      ],
      "metadata": {
        "id": "fYYeRdVe5ALx"
      },
      "execution_count": null,
      "outputs": []
    },
    {
      "cell_type": "code",
      "source": [
        "train_dataset = tensor_2_dataset(train_user_num,train_item_num, train_rating)\n",
        "val_dataset = tensor_2_dataset(val_user_num,val_item_num,val_rating)\n",
        "test_dataset = tensor_2_dataset(test_user_num, test_item_num, test_rating)"
      ],
      "metadata": {
        "id": "AU-xgyto5Gyh"
      },
      "execution_count": null,
      "outputs": []
    },
    {
      "cell_type": "markdown",
      "source": [
        "Load the train, validation, and test data in batchs of size 1024."
      ],
      "metadata": {
        "id": "610dw-Uo5dIn"
      }
    },
    {
      "cell_type": "code",
      "source": [
        "train_dataloader = make_dataloader(train_dataset,1024,True)\n",
        "val_dataloader = make_dataloader(val_dataset,1024, False)\n",
        "test_dataloader = make_dataloader(test_dataset,1024,False)"
      ],
      "metadata": {
        "id": "GJQOXjWX5ODw"
      },
      "execution_count": null,
      "outputs": []
    },
    {
      "cell_type": "markdown",
      "metadata": {
        "id": "Q7JF-d05UUGc"
      },
      "source": [
        "---\n",
        "## The model\n",
        "\n"
      ]
    },
    {
      "cell_type": "code",
      "execution_count": null,
      "metadata": {
        "id": "tsrfFi1QUUGd"
      },
      "outputs": [],
      "source": [
        "import torch.nn as nn\n",
        "import torch.nn.functional as F\n",
        "import torch.optim as optim"
      ]
    },
    {
      "cell_type": "markdown",
      "metadata": {
        "id": "HpkKu7PVUUGp"
      },
      "source": [
        "We will use some custom embeddings defined as below."
      ]
    },
    {
      "cell_type": "code",
      "execution_count": null,
      "metadata": {
        "id": "eB6_y1nMUUGq"
      },
      "outputs": [],
      "source": [
        "class ScaledEmbedding(nn.Embedding):\n",
        "    \"\"\"\n",
        "    Embedding layer that initialises its values\n",
        "    to using a normal variable scaled by the inverse\n",
        "    of the embedding dimension.\n",
        "    \"\"\"\n",
        "    def reset_parameters(self):\n",
        "        \"\"\"\n",
        "        Initialize parameters.\n",
        "        \"\"\"\n",
        "\n",
        "        self.weight.data.normal_(0, 1.0 / self.embedding_dim)\n",
        "        if self.padding_idx is not None:\n",
        "            self.weight.data[self.padding_idx].fill_(0.0)\n",
        "\n",
        "\n",
        "class ZeroEmbedding(nn.Embedding):\n",
        "    \"\"\"\n",
        "    Used for biases.\n",
        "    \"\"\"\n",
        "\n",
        "    def reset_parameters(self):\n",
        "        \"\"\"\n",
        "        Initialize parameters.\n",
        "        \"\"\"\n",
        "\n",
        "        self.weight.data.zero_()\n",
        "        if self.padding_idx is not None:\n",
        "            self.weight.data[self.padding_idx].fill_(0.0)"
      ]
    },
    {
      "cell_type": "markdown",
      "source": [
        "### Creating Our Own Embedding Module\n",
        "\n",
        "Now, we define the `Model_dot`(class to represents users and items. It's composed of a 4 `embedding` layers:\n",
        "\n",
        "- a `(num_users x latent_dim)` embedding layer to represent users,\n",
        "- a `(num_items x latent_dim)` embedding layer to represent items,\n",
        "- a `(num_users x 1)` embedding layer to represent user biases, and\n",
        "- a `(num_items x 1)` embedding layer to represent item biases.\n",
        "\n",
        "\n",
        "\n",
        "\n",
        "\n"
      ],
      "metadata": {
        "id": "cZdXB0ieIv2J"
      }
    },
    {
      "cell_type": "markdown",
      "source": [
        "**Exercise**: Fill the missing code to define the embeddings."
      ],
      "metadata": {
        "id": "s0F7EJoz7jbJ"
      }
    },
    {
      "cell_type": "code",
      "execution_count": null,
      "metadata": {
        "id": "ktXRW3-4UUGt"
      },
      "outputs": [],
      "source": [
        "class DotModel(nn.Module):\n",
        "\n",
        "    def __init__(self,\n",
        "                 num_users,\n",
        "                 num_items,\n",
        "                 embedding_dim=32):\n",
        "\n",
        "        super(DotModel, self).__init__()\n",
        "\n",
        "        self.embedding_dim = embedding_dim\n",
        "        self.num_users = num_users\n",
        "        self.num_items = num_items\n",
        "\n",
        "        # TODO: generate user and item embeddigns using ScaledEmbedding\n",
        "        # your code\n",
        "        self.user_embeddings = ScaledEmbedding(num_users, embedding_dim)\n",
        "        self.item_embeddings = ScaledEmbedding(num_items, embedding_dim)\n",
        "\n",
        "        # TODO: generate bias embeddigns using ZeroEmbedding\n",
        "        # your code\n",
        "        self.user_biases =  ZeroEmbedding(num_users,1)\n",
        "        self.item_biases =  ZeroEmbedding(num_items,1)\n",
        "\n",
        "\n",
        "    def forward(self, user_ids, item_ids):\n",
        "        # TODO: compute and return the predicted rating based on the embedding vectors and biases.\n",
        "        # your code\n",
        "        user_embedding = self.user_embeddings(user_ids)\n",
        "        item_embedding = self.item_embeddings(item_ids)\n",
        "\n",
        "        # Retrieve the biases for the users and items\n",
        "        user_bias = self.user_biases(user_ids).squeeze()\n",
        "        item_bias = self.item_biases(item_ids).squeeze()\n",
        "\n",
        "        # Compute the dot product of user and item embeddings\n",
        "        dot = (user_embedding * item_embedding).sum(1)\n",
        "\n",
        "        # Add the bias terms and return the predicted rating\n",
        "        return dot + user_bias + item_bias"
      ]
    },
    {
      "cell_type": "code",
      "execution_count": null,
      "metadata": {
        "id": "PlbbwU1ze5d7"
      },
      "outputs": [],
      "source": [
        "net = DotModel(total_user_id,total_item_id).to(device)"
      ]
    },
    {
      "cell_type": "markdown",
      "metadata": {
        "id": "ysX9Q9pxiMG4"
      },
      "source": [
        "Now we check your network by taking  a batch from train loader."
      ]
    },
    {
      "cell_type": "code",
      "source": [
        "batch_user, batch_item, batch_rating = next(iter(train_dataloader))\n",
        "batch_user, batch_item, batch_rating = batch_user.to(device), batch_item.to(device), batch_rating.to(device)"
      ],
      "metadata": {
        "id": "RLdCbCnzB2S-"
      },
      "execution_count": null,
      "outputs": []
    },
    {
      "cell_type": "code",
      "execution_count": null,
      "metadata": {
        "id": "I20UhBLZjBEs",
        "colab": {
          "base_uri": "https://localhost:8080/"
        },
        "outputId": "58add404-8c62-4486-8b86-59c5096a7176"
      },
      "outputs": [
        {
          "output_type": "execute_result",
          "data": {
            "text/plain": [
              "torch.Size([1024])"
            ]
          },
          "metadata": {},
          "execution_count": 41
        }
      ],
      "source": [
        "predictions = net(batch_user, batch_item)\n",
        "predictions.shape"
      ]
    },
    {
      "cell_type": "markdown",
      "source": [
        "We will use MSE loss defined below:"
      ],
      "metadata": {
        "id": "Dnmsgb3SJc_M"
      }
    },
    {
      "cell_type": "code",
      "source": [
        "def regression_loss(predicted_ratings, observed_ratings):\n",
        "    return ((observed_ratings - predicted_ratings) ** 2).mean()"
      ],
      "metadata": {
        "id": "TXXAisyw8L7i"
      },
      "execution_count": null,
      "outputs": []
    },
    {
      "cell_type": "code",
      "source": [
        "loss=regression_loss(predictions,batch_rating)"
      ],
      "metadata": {
        "id": "l38_kUO38Qn7"
      },
      "execution_count": null,
      "outputs": []
    },
    {
      "cell_type": "code",
      "source": [
        "loss"
      ],
      "metadata": {
        "id": "FZ3T-Ucv8yUK",
        "colab": {
          "base_uri": "https://localhost:8080/"
        },
        "outputId": "f91b80c1-cc80-45a5-a1f4-ad067e78e128"
      },
      "execution_count": null,
      "outputs": [
        {
          "output_type": "execute_result",
          "data": {
            "text/plain": [
              "tensor(13.9965, device='cuda:0', grad_fn=<MeanBackward0>)"
            ]
          },
          "metadata": {},
          "execution_count": 44
        }
      ]
    },
    {
      "cell_type": "markdown",
      "source": [
        "## Train and test the model"
      ],
      "metadata": {
        "id": "aMYwouCb884T"
      }
    },
    {
      "cell_type": "markdown",
      "source": [
        "Now we define `FactorizationModel` class  that allows us to train and evaluate the explicit factorization models.\n"
      ],
      "metadata": {
        "id": "mhJebD7X9v6Z"
      }
    },
    {
      "cell_type": "markdown",
      "metadata": {
        "id": "wz1h-gG-V1DX"
      },
      "source": [
        "- The `fit` function should take as argument a dataloader for the training and a dataloader for the validation. At the end of each epoch, you run the test method on the validation set. Then you print both the loss on the training set and on the validation set to see if you are overfitting.\n",
        "\n",
        "- Weight decay, or *L2 regularization*, consists in adding to your loss function the sum of all the weights squared. Why do that? Because when we compute the gradients, it will add a contribution to them that will encourage the weights to be as small as possible."
      ]
    },
    {
      "cell_type": "markdown",
      "source": [
        "**Exercise**: Filling in the missing code below to complete the training pass and validation pass."
      ],
      "metadata": {
        "id": "jyGx-MznEqk2"
      }
    },
    {
      "cell_type": "code",
      "execution_count": null,
      "metadata": {
        "id": "2ekPPr7SUUG7"
      },
      "outputs": [],
      "source": [
        "class FactorizationModel(object):\n",
        "\n",
        "    def __init__(self, embedding_dim=32, n_iter=10, l2=0.0,\n",
        "                 learning_rate=1e-2, device=device, net=None, num_users=None,\n",
        "                 num_items=None,random_state=None):\n",
        "\n",
        "        self._embedding_dim = embedding_dim\n",
        "        self._n_iter = n_iter\n",
        "        self._learning_rate = learning_rate\n",
        "        self._l2 = l2\n",
        "        self._device = device\n",
        "        self._num_users = num_users\n",
        "        self._num_items = num_items\n",
        "        self._net = net\n",
        "        self._optimizer = None\n",
        "        self._loss_func = None\n",
        "        self._random_state = random_state or np.random.RandomState()\n",
        "\n",
        "\n",
        "    def _initialize(self):\n",
        "        if self._net is None:\n",
        "            self._net = DotModel(self._num_users, self._num_items, self._embedding_dim).to(self._device)\n",
        "\n",
        "        self._optimizer = optim.Adam(\n",
        "                self._net.parameters(),\n",
        "                lr=self._learning_rate,\n",
        "                weight_decay=self._l2\n",
        "            )\n",
        "\n",
        "        self._loss_func = regression_loss\n",
        "\n",
        "    @property\n",
        "    def _initialized(self):\n",
        "        return self._optimizer is not None\n",
        "\n",
        "\n",
        "    def fit(self, dataloader, val_dataloader, verbose=True):\n",
        "        if not self._initialized:\n",
        "            self._initialize()\n",
        "\n",
        "        valid_loss_min = np.Inf # track change in validation loss\n",
        "        train_losses, valid_losses, valid_maes =[], [], [] # track train losses, valid loss, and valid maes over epoches\n",
        "\n",
        "        for epoch_num in range(self._n_iter):\n",
        "            tot_train_loss = 0.0\n",
        "            ###################\n",
        "            # train the model #\n",
        "            ###################\n",
        "            #TODO: trainining loop:\n",
        "            # your code\n",
        "            for user_ids, item_ids, ratings in dataloader:\n",
        "              # Move data to the device\n",
        "              user_ids = user_ids.to(self._device)\n",
        "              item_ids = item_ids.to(self._device)\n",
        "              ratings = ratings.to(self._device)\n",
        "\n",
        "              # Zero the parameter gradients\n",
        "              self._optimizer.zero_grad()\n",
        "\n",
        "              # Forward pass\n",
        "              outputs = self._net(user_ids, item_ids)\n",
        "              loss = self._loss_func(outputs, ratings)\n",
        "\n",
        "              # Backward pass and optimize\n",
        "              loss.backward()\n",
        "              self._optimizer.step()\n",
        "\n",
        "              tot_train_loss += loss.item()\n",
        "\n",
        "            train_loss = tot_train_loss /len(dataloader)\n",
        "\n",
        "            # Go to the validation loop\n",
        "            valid_loss, valid_mae = self.test(val_dataloader)\n",
        "\n",
        "            train_losses.append(train_loss)\n",
        "            valid_losses.append(valid_loss)\n",
        "            valid_maes.append(valid_mae)\n",
        "\n",
        "            if verbose:\n",
        "                print('Epoch {}: loss_train {}, loss_val {}'.format(epoch_num+1, train_loss,valid_loss))\n",
        "\n",
        "            if np.isnan(train_loss) or train_loss == 0.0:\n",
        "                raise ValueError('Degenerate train loss: {}'.format(train_loss))\n",
        "\n",
        "            #TODO: Saving model if validation loss has decreased\n",
        "            # your code\n",
        "            if valid_loss < valid_loss_min:\n",
        "              torch.save(self._net.state_dict(), 'best_model.pt')\n",
        "              valid_loss_min = valid_loss\n",
        "              if verbose:\n",
        "                print('Validation loss decreased. Model saved.')\n",
        "\n",
        "        return train_losses, valid_losses, valid_maes\n",
        "\n",
        "\n",
        "    ######################\n",
        "    # validate/Test the model #\n",
        "    ######################\n",
        "    def test(self,dataloader, verbose = False):\n",
        "        self._net.eval()\n",
        "        L1loss = torch.nn.L1Loss()\n",
        "        tot_test_loss = 0.0\n",
        "        tot_test_mae = 0.0\n",
        "\n",
        "        # TODO: validation/testing loop\n",
        "        # your code here (mae = mean absolute error)\n",
        "        with torch.no_grad():\n",
        "          for user_ids, item_ids, ratings in dataloader:\n",
        "              # Move data to the device\n",
        "              user_ids = user_ids.to(self._device)\n",
        "              item_ids = item_ids.to(self._device)\n",
        "              ratings = ratings.to(self._device)\n",
        "\n",
        "              # Forward pass\n",
        "              outputs = self._net(user_ids, item_ids)\n",
        "\n",
        "              # Calculate loss\n",
        "              loss = self._loss_func(outputs, ratings)\n",
        "              tot_test_loss += loss.item()\n",
        "\n",
        "              # Calculate MAE (Mean Absolute Error)\n",
        "              mae = L1loss(outputs, ratings)\n",
        "              tot_test_mae += mae.item()\n",
        "\n",
        "        test_loss = tot_test_loss / len(dataloader)\n",
        "        test_mae = tot_test_mae / len(dataloader)\n",
        "        if verbose:\n",
        "            print(f\"RMSE: {np.sqrt(test_loss)}, MAE: {test_mae}\")\n",
        "        return test_loss, test_mae"
      ]
    },
    {
      "cell_type": "code",
      "execution_count": null,
      "metadata": {
        "id": "qGuzPUNrUUG_"
      },
      "outputs": [],
      "source": [
        "#TODO: Construct your model using FactorizationModel\n",
        "# your code\n",
        "model = FactorizationModel(embedding_dim=32, n_iter=75, l2=0.00001,\n",
        "                 learning_rate=0.001, device=device, net=None, num_users=6040,\n",
        "                 num_items=3706,random_state=42)"
      ]
    },
    {
      "cell_type": "markdown",
      "source": [
        "**Exercise**: Train the model and plot the train losses and valid losses over epoches.\n",
        "At which epoch, you would stop the training? Include the plot and your answer in the report."
      ],
      "metadata": {
        "id": "fLZyF15WgbK7"
      }
    },
    {
      "cell_type": "code",
      "source": [
        "train_losses, valid_losses, valid_maes = model.fit(train_dataloader, val_dataloader)\n",
        "\n",
        "import matplotlib.pyplot as plt\n",
        "plt.figure(figsize=(10, 5))\n",
        "plt.plot(range(1, 76), train_losses, label='Training loss')\n",
        "plt.plot(range(1, 76), valid_losses, label='Validation loss')\n",
        "plt.xlabel('Epoch')\n",
        "plt.ylabel('Loss')\n",
        "plt.legend()\n",
        "plt.title('Training and Validation Losses Over Epochs')\n",
        "plt.show()"
      ],
      "metadata": {
        "colab": {
          "base_uri": "https://localhost:8080/",
          "height": 1000
        },
        "id": "YT2dTt94W_og",
        "outputId": "145ea3af-f063-4dde-b59f-5885484a8d14"
      },
      "execution_count": null,
      "outputs": [
        {
          "output_type": "stream",
          "name": "stdout",
          "text": [
            "Epoch 1: loss_train 7.700363970766164, loss_val 1.4687580032782122\n",
            "Validation loss decreased. Model saved.\n",
            "Epoch 2: loss_train 1.0633604707892494, loss_val 0.9158097552982244\n",
            "Validation loss decreased. Model saved.\n",
            "Epoch 3: loss_train 0.8724842967860627, loss_val 0.8634178421714089\n",
            "Validation loss decreased. Model saved.\n",
            "Epoch 4: loss_train 0.8443381606478884, loss_val 0.8497013781558383\n",
            "Validation loss decreased. Model saved.\n",
            "Epoch 5: loss_train 0.833007548042018, loss_val 0.8412799896164374\n",
            "Validation loss decreased. Model saved.\n",
            "Epoch 6: loss_train 0.8212241170683292, loss_val 0.8293137496167963\n",
            "Validation loss decreased. Model saved.\n",
            "Epoch 7: loss_train 0.8062656555663456, loss_val 0.8156040839173577\n",
            "Validation loss decreased. Model saved.\n",
            "Epoch 8: loss_train 0.7888779291751409, loss_val 0.8037517761642282\n",
            "Validation loss decreased. Model saved.\n",
            "Epoch 9: loss_train 0.7732016681270166, loss_val 0.7931862222877416\n",
            "Validation loss decreased. Model saved.\n",
            "Epoch 10: loss_train 0.7581258654744938, loss_val 0.7840678332881494\n",
            "Validation loss decreased. Model saved.\n",
            "Epoch 11: loss_train 0.7438094670874904, loss_val 0.7760929384014823\n",
            "Validation loss decreased. Model saved.\n",
            "Epoch 12: loss_train 0.7290466424792704, loss_val 0.7688403630798514\n",
            "Validation loss decreased. Model saved.\n",
            "Epoch 13: loss_train 0.7144287152573315, loss_val 0.7623772756619887\n",
            "Validation loss decreased. Model saved.\n",
            "Epoch 14: loss_train 0.6995768002939947, loss_val 0.7552312145178969\n",
            "Validation loss decreased. Model saved.\n",
            "Epoch 15: loss_train 0.6842038430499308, loss_val 0.7497387182983485\n",
            "Validation loss decreased. Model saved.\n",
            "Epoch 16: loss_train 0.6687087278173427, loss_val 0.7452575652436777\n",
            "Validation loss decreased. Model saved.\n",
            "Epoch 17: loss_train 0.653998554505483, loss_val 0.7418066479943015\n",
            "Validation loss decreased. Model saved.\n",
            "Epoch 18: loss_train 0.6392170499370555, loss_val 0.7379159094257788\n",
            "Validation loss decreased. Model saved.\n",
            "Epoch 19: loss_train 0.6246287877662013, loss_val 0.7366293783892285\n",
            "Validation loss decreased. Model saved.\n",
            "Epoch 20: loss_train 0.6109135968215538, loss_val 0.7359166700731624\n",
            "Validation loss decreased. Model saved.\n",
            "Epoch 21: loss_train 0.5976520815130436, loss_val 0.7363089519468221\n",
            "Epoch 22: loss_train 0.5849514737574741, loss_val 0.7364273552190174\n",
            "Epoch 23: loss_train 0.5726920827244869, loss_val 0.73839132623239\n",
            "Epoch 24: loss_train 0.5609446396355076, loss_val 0.7402715147896246\n",
            "Epoch 25: loss_train 0.55010025763903, loss_val 0.7436006678776308\n",
            "Epoch 26: loss_train 0.5401883708181405, loss_val 0.7463279041376981\n",
            "Epoch 27: loss_train 0.5310356696371479, loss_val 0.7489471510052681\n",
            "Epoch 28: loss_train 0.5225700283366622, loss_val 0.7518487125635147\n",
            "Epoch 29: loss_train 0.5149594448281057, loss_val 0.755366097797047\n",
            "Epoch 30: loss_train 0.5080993861863108, loss_val 0.7602213011546568\n",
            "Epoch 31: loss_train 0.5015807973616051, loss_val 0.7628991698676889\n",
            "Epoch 32: loss_train 0.49592832242599644, loss_val 0.76601265641776\n",
            "Epoch 33: loss_train 0.4904628134887628, loss_val 0.7702802629633383\n",
            "Epoch 34: loss_train 0.4861065714874051, loss_val 0.7735841443592851\n",
            "Epoch 35: loss_train 0.4816219735928256, loss_val 0.7762019864537499\n",
            "Epoch 36: loss_train 0.4778087746088553, loss_val 0.778968404639851\n",
            "Epoch 37: loss_train 0.4741352993355255, loss_val 0.781512978402051\n",
            "Epoch 38: loss_train 0.47087438667964454, loss_val 0.784073258665475\n",
            "Epoch 39: loss_train 0.46790714689878504, loss_val 0.7870184447277676\n",
            "Epoch 40: loss_train 0.465074933500904, loss_val 0.78922903876413\n",
            "Epoch 41: loss_train 0.46246224344529285, loss_val 0.7910722080956806\n",
            "Epoch 42: loss_train 0.4600706716077496, loss_val 0.7926738919182257\n",
            "Epoch 43: loss_train 0.45778270946307614, loss_val 0.7939951460469853\n",
            "Epoch 44: loss_train 0.45566535357272986, loss_val 0.7961064780300314\n",
            "Epoch 45: loss_train 0.45386884210988726, loss_val 0.7979620403864167\n",
            "Epoch 46: loss_train 0.45184571239532845, loss_val 0.7997601323507049\n",
            "Epoch 47: loss_train 0.45024119979805416, loss_val 0.8015450828454711\n",
            "Epoch 48: loss_train 0.44864788233782305, loss_val 0.802539469843561\n",
            "Epoch 49: loss_train 0.44713111458854243, loss_val 0.8038758737119761\n",
            "Epoch 50: loss_train 0.4457021752240682, loss_val 0.8048459196632559\n",
            "Epoch 51: loss_train 0.44440777005270277, loss_val 0.8057003949176181\n",
            "Epoch 52: loss_train 0.44303928387134967, loss_val 0.8075620498169552\n",
            "Epoch 53: loss_train 0.44195601630090464, loss_val 0.8081255345181986\n",
            "Epoch 54: loss_train 0.44061152407466764, loss_val 0.8089734417471018\n",
            "Epoch 55: loss_train 0.43961193886670197, loss_val 0.8099955821579153\n",
            "Epoch 56: loss_train 0.4383782257109579, loss_val 0.8116604888981039\n",
            "Epoch 57: loss_train 0.437672366510437, loss_val 0.8133841129866514\n",
            "Epoch 58: loss_train 0.4368822935103166, loss_val 0.8139566806229678\n",
            "Epoch 59: loss_train 0.4357462391407803, loss_val 0.8143874210390177\n",
            "Epoch 60: loss_train 0.43493747312312175, loss_val 0.8149544623765078\n",
            "Epoch 61: loss_train 0.4340117390107627, loss_val 0.8158252049576152\n",
            "Epoch 62: loss_train 0.4334034061040541, loss_val 0.8160143379460681\n",
            "Epoch 63: loss_train 0.4326722132361899, loss_val 0.8170746930620887\n",
            "Epoch 64: loss_train 0.43204765386804184, loss_val 0.8182366381991993\n",
            "Epoch 65: loss_train 0.431249915725655, loss_val 0.8187928680669178\n",
            "Epoch 66: loss_train 0.4306284961751615, loss_val 0.8189896968278018\n",
            "Epoch 67: loss_train 0.42999003511486633, loss_val 0.8191208825869993\n",
            "Epoch 68: loss_train 0.42939919286003014, loss_val 0.819033796814355\n",
            "Epoch 69: loss_train 0.4289298757082886, loss_val 0.8215411962433294\n",
            "Epoch 70: loss_train 0.4282221591307057, loss_val 0.8211818506771867\n",
            "Epoch 71: loss_train 0.42770181080759173, loss_val 0.8224613646214659\n",
            "Epoch 72: loss_train 0.4272259751127826, loss_val 0.8222473040223122\n",
            "Epoch 73: loss_train 0.4267916612402357, loss_val 0.8226283558390357\n",
            "Epoch 74: loss_train 0.4261306119010304, loss_val 0.823430404744365\n",
            "Epoch 75: loss_train 0.4257642070602889, loss_val 0.8242904069748792\n"
          ]
        },
        {
          "output_type": "display_data",
          "data": {
            "text/plain": [
              "<Figure size 1000x500 with 1 Axes>"
            ],
            "image/png": "[encoded data removed]"
          },
          "metadata": {}
        }
      ]
    },
    {
      "cell_type": "markdown",
      "source": [
        "#### ANS: We should stop at Epoch 20, because after that the validation loss started to increase."
      ],
      "metadata": {
        "id": "z_4HtPD6k6ZB"
      }
    },
    {
      "cell_type": "markdown",
      "source": [
        "**Exercise**: Now, let's compute the RMSE and mean absolute error on the test data. Include your answers in your report."
      ],
      "metadata": {
        "id": "iTwwARoap0WI"
      }
    },
    {
      "cell_type": "code",
      "source": [
        "test_loss, test_mae = model.test(test_dataloader, True)"
      ],
      "metadata": {
        "colab": {
          "base_uri": "https://localhost:8080/"
        },
        "id": "QELrQZwHlHFt",
        "outputId": "cbc36c0c-e72c-4ead-cc41-7c6645ea99be"
      },
      "execution_count": null,
      "outputs": [
        {
          "output_type": "stream",
          "name": "stdout",
          "text": [
            "RMSE: 0.9075941745234222, MAE: 0.7059394394864842\n"
          ]
        }
      ]
    },
    {
      "cell_type": "markdown",
      "metadata": {
        "id": "yXVIF75IUUHW"
      },
      "source": [
        "## Optimize your model and training\n",
        "\n",
        "**Exercise**: Play with the hyperparameters (embedding_dim, n_iter, learning_rate, L2 regularization, etc) to beat the benchmarks presented in [Surprise](https://github.com/NicolasHug/Surprise). List the hyperparameters and the RMSE and MAE on test data in the report. Save the model state to `model_cf.pt` and submit it to Canvas.\n"
      ]
    },
    {
      "cell_type": "markdown",
      "source": [
        "Here is comparison between the best benckmarks in [Surprise](https://github.com/NicolasHug/Surprise) and your model after hyperparameters tunning.\n",
        "\n",
        "| [Movielens 1M](https://grouplens.org/datasets/movielens/1m)                                                                             |   RMSE |   MAE |\n",
        "|:----------------------------------------------------------------------------------------------------------------------------------------|-------:|------:|\n",
        "| [SVD++ (cache_ratings=False)](https://surprise.readthedocs.io/en/stable/matrix_factorization.html#surprise.prediction_algorithms.matrix_factorization.SVDpp)  |  0.862 | 0.672 |\n",
        "| [SVD++ (cache_ratings=True)](https://surprise.readthedocs.io/en/stable/matrix_factorization.html#surprise.prediction_algorithms.matrix_factorization.SVDpp)  |  0.862 | 0.672 |\n",
        "| **Yours**|  0.856 | 0.672 |\n",
        "\n"
      ],
      "metadata": {
        "id": "N3JT3S4X2H_z"
      }
    },
    {
      "cell_type": "code",
      "source": [
        "best_model = FactorizationModel(embedding_dim=32, n_iter=20, l2=0.00001,\n",
        "                 learning_rate=0.001, device=device, net=None, num_users=6040,\n",
        "                 num_items=3706,random_state=42)"
      ],
      "metadata": {
        "id": "rghR_9BMnlpZ"
      },
      "execution_count": null,
      "outputs": []
    },
    {
      "cell_type": "code",
      "source": [
        "best_model.fit(train_dataloader, val_dataloader, verbose=True)"
      ],
      "metadata": {
        "colab": {
          "base_uri": "https://localhost:8080/"
        },
        "id": "x-ltnnOZiNcl",
        "outputId": "b199246b-6eb1-4916-96ea-f7a9c95e3d93"
      },
      "execution_count": null,
      "outputs": [
        {
          "output_type": "stream",
          "name": "stdout",
          "text": [
            "Epoch 1: loss_train 7.640898784453219, loss_val 1.4850488074801185\n",
            "Validation loss decreased. Model saved.\n",
            "Epoch 2: loss_train 1.0681948273470907, loss_val 0.914069998670708\n",
            "Validation loss decreased. Model saved.\n",
            "Epoch 3: loss_train 0.8655978916871427, loss_val 0.8525053648786112\n",
            "Validation loss decreased. Model saved.\n",
            "Epoch 4: loss_train 0.8267762915353583, loss_val 0.830540390854532\n",
            "Validation loss decreased. Model saved.\n",
            "Epoch 5: loss_train 0.8060156052762811, loss_val 0.8137713792649183\n",
            "Validation loss decreased. Model saved.\n",
            "Epoch 6: loss_train 0.789584146680856, loss_val 0.8038804239847444\n",
            "Validation loss decreased. Model saved.\n",
            "Epoch 7: loss_train 0.7750448207512046, loss_val 0.793675418604504\n",
            "Validation loss decreased. Model saved.\n",
            "Epoch 8: loss_train 0.759955455257435, loss_val 0.7833732651038603\n",
            "Validation loss decreased. Model saved.\n",
            "Epoch 9: loss_train 0.7445709076192644, loss_val 0.7737680138512091\n",
            "Validation loss decreased. Model saved.\n",
            "Epoch 10: loss_train 0.7294029748499996, loss_val 0.7659443332390352\n",
            "Validation loss decreased. Model saved.\n",
            "Epoch 11: loss_train 0.7154101852816764, loss_val 0.7598767138340257\n",
            "Validation loss decreased. Model saved.\n",
            "Epoch 12: loss_train 0.7024409217816411, loss_val 0.7552370429039001\n",
            "Validation loss decreased. Model saved.\n",
            "Epoch 13: loss_train 0.6906197904185816, loss_val 0.7513923516327684\n",
            "Validation loss decreased. Model saved.\n",
            "Epoch 14: loss_train 0.6790534510756984, loss_val 0.7466610880060629\n",
            "Validation loss decreased. Model saved.\n",
            "Epoch 15: loss_train 0.667330628543189, loss_val 0.7433599436824972\n",
            "Validation loss decreased. Model saved.\n",
            "Epoch 16: loss_train 0.6555145318911533, loss_val 0.7403482293540781\n",
            "Validation loss decreased. Model saved.\n",
            "Epoch 17: loss_train 0.6431614266652049, loss_val 0.7381312671032819\n",
            "Validation loss decreased. Model saved.\n",
            "Epoch 18: loss_train 0.6309373563136718, loss_val 0.7357560755176977\n",
            "Validation loss decreased. Model saved.\n",
            "Epoch 19: loss_train 0.6185725085211523, loss_val 0.7348209233446554\n",
            "Validation loss decreased. Model saved.\n",
            "Epoch 20: loss_train 0.6061989374534048, loss_val 0.7346277257258241\n",
            "Validation loss decreased. Model saved.\n"
          ]
        },
        {
          "output_type": "execute_result",
          "data": {
            "text/plain": [
              "([7.640898784453219,\n",
              "  1.0681948273470907,\n",
              "  0.8655978916871427,\n",
              "  0.8267762915353583,\n",
              "  0.8060156052762811,\n",
              "  0.789584146680856,\n",
              "  0.7750448207512046,\n",
              "  0.759955455257435,\n",
              "  0.7445709076192644,\n",
              "  0.7294029748499996,\n",
              "  0.7154101852816764,\n",
              "  0.7024409217816411,\n",
              "  0.6906197904185816,\n",
              "  0.6790534510756984,\n",
              "  0.667330628543189,\n",
              "  0.6555145318911533,\n",
              "  0.6431614266652049,\n",
              "  0.6309373563136718,\n",
              "  0.6185725085211523,\n",
              "  0.6061989374534048],\n",
              " [1.4850488074801185,\n",
              "  0.914069998670708,\n",
              "  0.8525053648786112,\n",
              "  0.830540390854532,\n",
              "  0.8137713792649183,\n",
              "  0.8038804239847444,\n",
              "  0.793675418604504,\n",
              "  0.7833732651038603,\n",
              "  0.7737680138512091,\n",
              "  0.7659443332390352,\n",
              "  0.7598767138340257,\n",
              "  0.7552370429039001,\n",
              "  0.7513923516327684,\n",
              "  0.7466610880060629,\n",
              "  0.7433599436824972,\n",
              "  0.7403482293540781,\n",
              "  0.7381312671032819,\n",
              "  0.7357560755176977,\n",
              "  0.7348209233446554,\n",
              "  0.7346277257258241],\n",
              " [0.9644105224446817,\n",
              "  0.7560857703739946,\n",
              "  0.730393535034223,\n",
              "  0.7203414677218958,\n",
              "  0.7128379832614552,\n",
              "  0.7085799249735746,\n",
              "  0.7036790868098085,\n",
              "  0.6984477347948335,\n",
              "  0.6938837326385758,\n",
              "  0.690254541283304,\n",
              "  0.6867573640563271,\n",
              "  0.6849994347854094,\n",
              "  0.6829178096218542,\n",
              "  0.6801105426116423,\n",
              "  0.6783014996485277,\n",
              "  0.6769554994323037,\n",
              "  0.6752953420985829,\n",
              "  0.674639804796739,\n",
              "  0.6738336181098764,\n",
              "  0.6732215400446545])"
            ]
          },
          "metadata": {},
          "execution_count": 50
        }
      ]
    },
    {
      "cell_type": "code",
      "source": [
        "test_loss2, test_mae2 = best_model.test(test_dataloader, True)"
      ],
      "metadata": {
        "colab": {
          "base_uri": "https://localhost:8080/"
        },
        "id": "wcxQy_k5Q5tr",
        "outputId": "9f825594-5c24-42d0-a8c7-66445ffbbd61"
      },
      "execution_count": null,
      "outputs": [
        {
          "output_type": "stream",
          "name": "stdout",
          "text": [
            "RMSE: 0.856586430735827, MAE: 0.672347149678639\n"
          ]
        }
      ]
    },
    {
      "cell_type": "code",
      "source": [
        "best_model._net"
      ],
      "metadata": {
        "colab": {
          "base_uri": "https://localhost:8080/"
        },
        "id": "AfpjPC2BQ50z",
        "outputId": "1c144076-a2bb-4d6b-c545-78182a1eb3fe"
      },
      "execution_count": null,
      "outputs": [
        {
          "output_type": "execute_result",
          "data": {
            "text/plain": [
              "DotModel(\n",
              "  (user_embeddings): ScaledEmbedding(6040, 32)\n",
              "  (item_embeddings): ScaledEmbedding(3706, 32)\n",
              "  (user_biases): ZeroEmbedding(6040, 1)\n",
              "  (item_biases): ZeroEmbedding(3706, 1)\n",
              ")"
            ]
          },
          "metadata": {},
          "execution_count": 52
        }
      ]
    },
    {
      "cell_type": "code",
      "source": [
        "torch.save(best_model._net.state_dict(), 'model_cf.pt')"
      ],
      "metadata": {
        "id": "SxGZOA2uQ59y"
      },
      "execution_count": null,
      "outputs": []
    },
    {
      "cell_type": "markdown",
      "metadata": {
        "id": "VK3KgG47V1Di"
      },
      "source": [
        "## Interpreting Biases\n",
        "\n",
        "Now you need to rank the movies according to their bias. For this, you need to recover the biases of the movies, make a list of the pairs `[name of the movie, its bias]` and then sort this list according to the biases. You can use the method sort of a list.\n",
        "\n",
        "**Exercise**: What are your top 10 movies with the largest values of movie bias? What do you think about this ranking? Include your answers in your report."
      ]
    },
    {
      "cell_type": "code",
      "execution_count": null,
      "metadata": {
        "id": "7KDDTQfxV1Di"
      },
      "outputs": [],
      "source": [
        "#TODO: retreive the bias of the movies from your optimized model and store it in the numpy array item_bais_np\n",
        "item_bias_np = best_model._net.item_biases.weight.data\n",
        "item_bias_np = item_bias_np.squeeze()"
      ]
    },
    {
      "cell_type": "code",
      "execution_count": null,
      "metadata": {
        "id": "VgHLnzpQyS9B"
      },
      "outputs": [],
      "source": [
        "# construct a dictionary that maps item_num to item_name, and vice versa\n",
        "numitem_2_name = {i:name for name,i in np.asarray(all_ratings[['item_name', 'item_num']])}\n",
        "name_2_numitem = {name:i for name,i in np.asarray(all_ratings[['item_name', 'item_num']])}"
      ]
    },
    {
      "cell_type": "code",
      "execution_count": null,
      "metadata": {
        "id": "ciREXjeuyS9B"
      },
      "outputs": [],
      "source": [
        "# Construct a list of movie names and the corresponding bias.\n",
        "list_name_bias = [[name, item_bias_np[name_2_numitem[name]]] for name in list(ratings_train['item_name'].unique())]"
      ]
    },
    {
      "cell_type": "code",
      "execution_count": null,
      "metadata": {
        "id": "pe-H03pUyS9C",
        "colab": {
          "base_uri": "https://localhost:8080/"
        },
        "outputId": "69d586b7-84e9-416a-986f-40f59c4c4c6c"
      },
      "outputs": [
        {
          "output_type": "execute_result",
          "data": {
            "text/plain": [
              "['Sanjuro (1962)',\n",
              " 'Shawshank Redemption, The (1994)',\n",
              " 'Sixth Sense, The (1999)',\n",
              " \"Schindler's List (1993)\",\n",
              " 'Last Days, The (1998)',\n",
              " 'Star Wars: Episode IV - A New Hope (1977)',\n",
              " 'Godfather, The (1972)',\n",
              " 'Raiders of the Lost Ark (1981)',\n",
              " 'Usual Suspects, The (1995)',\n",
              " 'Wrong Trousers, The (1993)']"
            ]
          },
          "metadata": {},
          "execution_count": 57
        }
      ],
      "source": [
        "#TODO: sort the movie names by biases and output the top 10 movie names with the largest biases.\n",
        "# your code\n",
        "# Sort the list by bias value in descending order\n",
        "sorted_by_bias = sorted(list_name_bias, key=lambda x: x[1], reverse=True)\n",
        "\n",
        "# Extract the names of the top 10 movies\n",
        "top_10 = [name for name, bias in sorted_by_bias[:10]]\n",
        "\n",
        "# Display the top 10 movies\n",
        "top_10"
      ]
    },
    {
      "cell_type": "markdown",
      "source": [
        "bold text#### ANS: The top 10 movies with the largest values of movie bias are 'Sanjuro (1962)',\n",
        " 'Shawshank Redemption, The (1994)',\n",
        " 'Sixth Sense, The (1999)',\n",
        " \"Schindler's List (1993)\",\n",
        " 'Last Days, The (1998)',\n",
        " 'Star Wars: Episode IV - A New Hope (1977)',\n",
        " 'Godfather, The (1972)',\n",
        " 'Raiders of the Lost Ark (1981)',\n",
        " 'Usual Suspects, The (1995)',\n",
        " 'Wrong Trousers, The (1993)', and so on, are really widely-known, and the high bias may due to their popularity. Their long-standing high profile may lead them to be rated higher than what would be predicted solely based on user and movie correlation and hence a high bias."
      ],
      "metadata": {
        "id": "76IRYlgDWIzP"
      }
    },
    {
      "cell_type": "markdown",
      "metadata": {
        "id": "Dc1ZKW9XV1Dl"
      },
      "source": [
        "## PCA of movies' embeddings\n",
        "\n",
        "Now you can also play with the embeddings learned by your algorithm for the movies.\n",
        "\n",
        "It is not quite so easy to directly interpret the embedding matrices. There are just too many factors for a human to look at. But there is a technique that can pull out the most important underlying *directions* in such a matrix, called *principal component analysis* (PCA). We will not be going into this in detail in this class, because it is not particularly important for you to understand to be a deep learning practitioner. We can visualize the movie embeddings based on two of the strongest PCA components."
      ]
    },
    {
      "cell_type": "markdown",
      "source": [
        "**Exercise**: Do you observe anything interesting from the movie embeddings? Include the plot of the movie embeddings and your answer in your report."
      ],
      "metadata": {
        "id": "6audyNC7RxzP"
      }
    },
    {
      "cell_type": "code",
      "execution_count": null,
      "metadata": {
        "id": "HX37hFDsV1Dl"
      },
      "outputs": [],
      "source": [
        "from sklearn.decomposition import PCA\n",
        "from operator import itemgetter"
      ]
    },
    {
      "cell_type": "code",
      "execution_count": null,
      "metadata": {
        "id": "J3JKToYkyS9D"
      },
      "outputs": [],
      "source": [
        "#TODO: retrive your movie embedding vectors and store them as a numpy matrix\n",
        "item_emb_np = best_model._net.item_embeddings.weight.data.cpu().numpy()"
      ]
    },
    {
      "cell_type": "code",
      "execution_count": null,
      "metadata": {
        "id": "ICTZZA_ryS9E"
      },
      "outputs": [],
      "source": [
        "#Here we perform PCA to extract the 4 principal components\n",
        "pca = PCA(n_components=4)\n",
        "latent_fac = pca.fit_transform(item_emb_np)"
      ]
    },
    {
      "cell_type": "markdown",
      "source": [
        "Next, we plot the embeddings of the top 80 mostly rated movies using the second and third principal components."
      ],
      "metadata": {
        "id": "xVeF3WyEU4zk"
      }
    },
    {
      "cell_type": "code",
      "source": [
        "#Here we get the top 1000 mostly rated movies\n",
        "g = all_ratings.groupby('item_name')['ratings'].count()\n",
        "most_rated_movies = g.sort_values(ascending=False).index.values[:1000]\n",
        "# we get the corresponding movie numbers\n",
        "most_rated_movies_num = [name_2_numitem[n] for n in most_rated_movies]"
      ],
      "metadata": {
        "id": "sXY9VbTTU4Hj"
      },
      "execution_count": null,
      "outputs": []
    },
    {
      "cell_type": "code",
      "execution_count": null,
      "metadata": {
        "id": "9ExxO9aTyS9F",
        "colab": {
          "base_uri": "https://localhost:8080/",
          "height": 988
        },
        "outputId": "60c240a2-1624-406d-a2cc-a6d18790a5ce"
      },
      "outputs": [
        {
          "output_type": "display_data",
          "data": {
            "text/plain": [
              "<Figure size 1500x1500 with 1 Axes>"
            ],
            "image/png": "[encoded data removed]"
          },
          "metadata": {}
        }
      ],
      "source": [
        "nums = most_rated_movies_num[:80]\n",
        "txt_movies_names = [numitem_2_name[i] for i in nums]\n",
        "X = latent_fac[nums,1]\n",
        "Y = latent_fac[nums,2]\n",
        "plt.figure(figsize=(15,15))\n",
        "plt.scatter(X, Y)\n",
        "for i, x, y in zip(txt_movies_names, X, Y):\n",
        "    plt.text(x+0.01,y-0.01,i, fontsize=11)\n",
        "plt.show()"
      ]
    },
    {
      "cell_type": "markdown",
      "source": [
        "bold text#### ANS: Similar movies seem to be clustered and certain genres are clusterede togther in specific areas of the plot. For instance, When Harry Met Sally, Titantic, Shakespeare in Love are all Romantic Movies and located in the bottom left of the plot."
      ],
      "metadata": {
        "id": "ZTZB3uKRWl7m"
      }
    },
    {
      "cell_type": "markdown",
      "source": [
        "## Predict your own ratings\n",
        "\n",
        "Now that we have succesfully trained a model, let's see how to deal with the situation where we have a new user. How can we make recommendations to new users?\n",
        "\n",
        "It turns out that we can utilize the learned movie embedding vectors to estimate new users' embedding vector, based on a few ratings from them. You may have noticed that when you sign up for services such as Pandora and Netflix, they tend to ask you a few questions about what movie or music you like; this is how they come up with your initial collaborative filtering recommendations.\n",
        "\n",
        "\n",
        "- First, give 40 ratings between 1-5 to the movies that your team watched before among the mostly rated movies;"
      ],
      "metadata": {
        "id": "4Zcau6EUUURG"
      }
    },
    {
      "cell_type": "code",
      "source": [
        "import pandas as pd\n",
        "\n",
        "# Calculate the value counts for 'item_name'\n",
        "value_counts = all_ratings['item_name'].value_counts()\n",
        "\n",
        "# Convert the value counts to a DataFrame\n",
        "top_movies_df = value_counts.reset_index()\n",
        "\n",
        "# Rename the columns appropriately\n",
        "top_movies_df.columns = ['item_name', 'count']\n",
        "\n",
        "# Display the DataFrame\n",
        "top_movies_df.head()"
      ],
      "metadata": {
        "colab": {
          "base_uri": "https://localhost:8080/",
          "height": 204
        },
        "id": "lu4KczI6YzIB",
        "outputId": "329aa6b0-b09d-440a-d567-8ff1bc2c6d75"
      },
      "execution_count": null,
      "outputs": [
        {
          "output_type": "execute_result",
          "data": {
            "text/plain": [
              "                                           item_name  count\n",
              "0                             American Beauty (1999)   3428\n",
              "1          Star Wars: Episode IV - A New Hope (1977)   2991\n",
              "2  Star Wars: Episode V - The Empire Strikes Back...   2990\n",
              "3  Star Wars: Episode VI - Return of the Jedi (1983)   2883\n",
              "4                               Jurassic Park (1993)   2672"
            ],
            "text/html": [
              "\n",
              "  <div id=\"df-a2c8fc07-de1a-4c28-8a56-a547a8cfb48c\" class=\"colab-df-container\">\n",
              "    <div>\n",
              "<style scoped>\n",
              "    .dataframe tbody tr th:only-of-type {\n",
              "        vertical-align: middle;\n",
              "    }\n",
              "\n",
              "    .dataframe tbody tr th {\n",
              "        vertical-align: top;\n",
              "    }\n",
              "\n",
              "    .dataframe thead th {\n",
              "        text-align: right;\n",
              "    }\n",
              "</style>\n",
              "<table border=\"1\" class=\"dataframe\">\n",
              "  <thead>\n",
              "    <tr style=\"text-align: right;\">\n",
              "      <th></th>\n",
              "      <th>item_name</th>\n",
              "      <th>count</th>\n",
              "    </tr>\n",
              "  </thead>\n",
              "  <tbody>\n",
              "    <tr>\n",
              "      <th>0</th>\n",
              "      <td>American Beauty (1999)</td>\n",
              "      <td>3428</td>\n",
              "    </tr>\n",
              "    <tr>\n",
              "      <th>1</th>\n",
              "      <td>Star Wars: Episode IV - A New Hope (1977)</td>\n",
              "      <td>2991</td>\n",
              "    </tr>\n",
              "    <tr>\n",
              "      <th>2</th>\n",
              "      <td>Star Wars: Episode V - The Empire Strikes Back...</td>\n",
              "      <td>2990</td>\n",
              "    </tr>\n",
              "    <tr>\n",
              "      <th>3</th>\n",
              "      <td>Star Wars: Episode VI - Return of the Jedi (1983)</td>\n",
              "      <td>2883</td>\n",
              "    </tr>\n",
              "    <tr>\n",
              "      <th>4</th>\n",
              "      <td>Jurassic Park (1993)</td>\n",
              "      <td>2672</td>\n",
              "    </tr>\n",
              "  </tbody>\n",
              "</table>\n",
              "</div>\n",
              "    <div class=\"colab-df-buttons\">\n",
              "\n",
              "  <div class=\"colab-df-container\">\n",
              "    <button class=\"colab-df-convert\" onclick=\"convertToInteractive('df-a2c8fc07-de1a-4c28-8a56-a547a8cfb48c')\"\n",
              "            title=\"Convert this dataframe to an interactive table.\"\n",
              "            style=\"display:none;\">\n",
              "\n",
              "  <svg xmlns=\"http://www.w3.org/2000/svg\" height=\"24px\" viewBox=\"0 -960 960 960\">\n",
              "    <path d=\"M120-120v-720h720v720H120Zm60-500h600v-160H180v160Zm220 220h160v-160H400v160Zm0 220h160v-160H400v160ZM180-400h160v-160H180v160Zm440 0h160v-160H620v160ZM180-180h160v-160H180v160Zm440 0h160v-160H620v160Z\"/>\n",
              "  </svg>\n",
              "    </button>\n",
              "\n",
              "  <style>\n",
              "    .colab-df-container {\n",
              "      display:flex;\n",
              "      gap: 12px;\n",
              "    }\n",
              "\n",
              "    .colab-df-convert {\n",
              "      background-color: #E8F0FE;\n",
              "      border: none;\n",
              "      border-radius: 50%;\n",
              "      cursor: pointer;\n",
              "      display: none;\n",
              "      fill: #1967D2;\n",
              "      height: 32px;\n",
              "      padding: 0 0 0 0;\n",
              "      width: 32px;\n",
              "    }\n",
              "\n",
              "    .colab-df-convert:hover {\n",
              "      background-color: #E2EBFA;\n",
              "      box-shadow: 0px 1px 2px rgba(60, 64, 67, 0.3), 0px 1px 3px 1px rgba(60, 64, 67, 0.15);\n",
              "      fill: #174EA6;\n",
              "    }\n",
              "\n",
              "    .colab-df-buttons div {\n",
              "      margin-bottom: 4px;\n",
              "    }\n",
              "\n",
              "    [theme=dark] .colab-df-convert {\n",
              "      background-color: #3B4455;\n",
              "      fill: #D2E3FC;\n",
              "    }\n",
              "\n",
              "    [theme=dark] .colab-df-convert:hover {\n",
              "      background-color: #434B5C;\n",
              "      box-shadow: 0px 1px 3px 1px rgba(0, 0, 0, 0.15);\n",
              "      filter: drop-shadow(0px 1px 2px rgba(0, 0, 0, 0.3));\n",
              "      fill: #FFFFFF;\n",
              "    }\n",
              "  </style>\n",
              "\n",
              "    <script>\n",
              "      const buttonEl =\n",
              "        document.querySelector('#df-a2c8fc07-de1a-4c28-8a56-a547a8cfb48c button.colab-df-convert');\n",
              "      buttonEl.style.display =\n",
              "        google.colab.kernel.accessAllowed ? 'block' : 'none';\n",
              "\n",
              "      async function convertToInteractive(key) {\n",
              "        const element = document.querySelector('#df-a2c8fc07-de1a-4c28-8a56-a547a8cfb48c');\n",
              "        const dataTable =\n",
              "          await google.colab.kernel.invokeFunction('convertToInteractive',\n",
              "                                                    [key], {});\n",
              "        if (!dataTable) return;\n",
              "\n",
              "        const docLinkHtml = 'Like what you see? Visit the ' +\n",
              "          '<a target=\"_blank\" href=https://colab.research.google.com/notebooks/data_table.ipynb>data table notebook</a>'\n",
              "          + ' to learn more about interactive tables.';\n",
              "        element.innerHTML = '';\n",
              "        dataTable['output_type'] = 'display_data';\n",
              "        await google.colab.output.renderOutput(dataTable, element);\n",
              "        const docLink = document.createElement('div');\n",
              "        docLink.innerHTML = docLinkHtml;\n",
              "        element.appendChild(docLink);\n",
              "      }\n",
              "    </script>\n",
              "  </div>\n",
              "\n",
              "\n",
              "<div id=\"df-0d102f88-589a-49d9-802b-99703851fb82\">\n",
              "  <button class=\"colab-df-quickchart\" onclick=\"quickchart('df-0d102f88-589a-49d9-802b-99703851fb82')\"\n",
              "            title=\"Suggest charts\"\n",
              "            style=\"display:none;\">\n",
              "\n",
              "<svg xmlns=\"http://www.w3.org/2000/svg\" height=\"24px\"viewBox=\"0 0 24 24\"\n",
              "     width=\"24px\">\n",
              "    <g>\n",
              "        <path d=\"M19 3H5c-1.1 0-2 .9-2 2v14c0 1.1.9 2 2 2h14c1.1 0 2-.9 2-2V5c0-1.1-.9-2-2-2zM9 17H7v-7h2v7zm4 0h-2V7h2v10zm4 0h-2v-4h2v4z\"/>\n",
              "    </g>\n",
              "</svg>\n",
              "  </button>\n",
              "\n",
              "<style>\n",
              "  .colab-df-quickchart {\n",
              "      --bg-color: #E8F0FE;\n",
              "      --fill-color: #1967D2;\n",
              "      --hover-bg-color: #E2EBFA;\n",
              "      --hover-fill-color: #174EA6;\n",
              "      --disabled-fill-color: #AAA;\n",
              "      --disabled-bg-color: #DDD;\n",
              "  }\n",
              "\n",
              "  [theme=dark] .colab-df-quickchart {\n",
              "      --bg-color: #3B4455;\n",
              "      --fill-color: #D2E3FC;\n",
              "      --hover-bg-color: #434B5C;\n",
              "      --hover-fill-color: #FFFFFF;\n",
              "      --disabled-bg-color: #3B4455;\n",
              "      --disabled-fill-color: #666;\n",
              "  }\n",
              "\n",
              "  .colab-df-quickchart {\n",
              "    background-color: var(--bg-color);\n",
              "    border: none;\n",
              "    border-radius: 50%;\n",
              "    cursor: pointer;\n",
              "    display: none;\n",
              "    fill: var(--fill-color);\n",
              "    height: 32px;\n",
              "    padding: 0;\n",
              "    width: 32px;\n",
              "  }\n",
              "\n",
              "  .colab-df-quickchart:hover {\n",
              "    background-color: var(--hover-bg-color);\n",
              "    box-shadow: 0 1px 2px rgba(60, 64, 67, 0.3), 0 1px 3px 1px rgba(60, 64, 67, 0.15);\n",
              "    fill: var(--button-hover-fill-color);\n",
              "  }\n",
              "\n",
              "  .colab-df-quickchart-complete:disabled,\n",
              "  .colab-df-quickchart-complete:disabled:hover {\n",
              "    background-color: var(--disabled-bg-color);\n",
              "    fill: var(--disabled-fill-color);\n",
              "    box-shadow: none;\n",
              "  }\n",
              "\n",
              "  .colab-df-spinner {\n",
              "    border: 2px solid var(--fill-color);\n",
              "    border-color: transparent;\n",
              "    border-bottom-color: var(--fill-color);\n",
              "    animation:\n",
              "      spin 1s steps(1) infinite;\n",
              "  }\n",
              "\n",
              "  @keyframes spin {\n",
              "    0% {\n",
              "      border-color: transparent;\n",
              "      border-bottom-color: var(--fill-color);\n",
              "      border-left-color: var(--fill-color);\n",
              "    }\n",
              "    20% {\n",
              "      border-color: transparent;\n",
              "      border-left-color: var(--fill-color);\n",
              "      border-top-color: var(--fill-color);\n",
              "    }\n",
              "    30% {\n",
              "      border-color: transparent;\n",
              "      border-left-color: var(--fill-color);\n",
              "      border-top-color: var(--fill-color);\n",
              "      border-right-color: var(--fill-color);\n",
              "    }\n",
              "    40% {\n",
              "      border-color: transparent;\n",
              "      border-right-color: var(--fill-color);\n",
              "      border-top-color: var(--fill-color);\n",
              "    }\n",
              "    60% {\n",
              "      border-color: transparent;\n",
              "      border-right-color: var(--fill-color);\n",
              "    }\n",
              "    80% {\n",
              "      border-color: transparent;\n",
              "      border-right-color: var(--fill-color);\n",
              "      border-bottom-color: var(--fill-color);\n",
              "    }\n",
              "    90% {\n",
              "      border-color: transparent;\n",
              "      border-bottom-color: var(--fill-color);\n",
              "    }\n",
              "  }\n",
              "</style>\n",
              "\n",
              "  <script>\n",
              "    async function quickchart(key) {\n",
              "      const quickchartButtonEl =\n",
              "        document.querySelector('#' + key + ' button');\n",
              "      quickchartButtonEl.disabled = true;  // To prevent multiple clicks.\n",
              "      quickchartButtonEl.classList.add('colab-df-spinner');\n",
              "      try {\n",
              "        const charts = await google.colab.kernel.invokeFunction(\n",
              "            'suggestCharts', [key], {});\n",
              "      } catch (error) {\n",
              "        console.error('Error during call to suggestCharts:', error);\n",
              "      }\n",
              "      quickchartButtonEl.classList.remove('colab-df-spinner');\n",
              "      quickchartButtonEl.classList.add('colab-df-quickchart-complete');\n",
              "    }\n",
              "    (() => {\n",
              "      let quickchartButtonEl =\n",
              "        document.querySelector('#df-0d102f88-589a-49d9-802b-99703851fb82 button');\n",
              "      quickchartButtonEl.style.display =\n",
              "        google.colab.kernel.accessAllowed ? 'block' : 'none';\n",
              "    })();\n",
              "  </script>\n",
              "</div>\n",
              "    </div>\n",
              "  </div>\n"
            ]
          },
          "metadata": {},
          "execution_count": 63
        }
      ]
    },
    {
      "cell_type": "code",
      "source": [
        "my_ratings = [\n",
        "    (\"American Beauty (1999)\", 4),\n",
        "    (\"Star Wars: Episode IV - A New Hope (1977)\", 4),\n",
        "    (\"Star Wars: Episode V - The Empire Strikes Back (1980)\", 4),\n",
        "    (\"Star Wars: Episode VI - Return of the Jedi (1983)\", 3),\n",
        "    (\"Jurassic Park (1993)\", 3),\n",
        "    (\"Saving Private Ryan (1998)\", 3),\n",
        "    (\"Terminator 2: Judgment Day (1991)\", 3),\n",
        "    (\"Matrix, The (1999)\", 4),\n",
        "    (\"Back to the Future (1985)\", 3),\n",
        "    (\"Silence of the Lambs, The (1991)\", 2),\n",
        "    (\"Men in Black (1997)\", 4),\n",
        "    (\"Raiders of the Lost Ark (1981)\", 3),\n",
        "    (\"Fargo (1996)\", 3),\n",
        "    (\"Sixth Sense, The (1999)\", 4),\n",
        "    (\"Braveheart (1995)\", 1),\n",
        "    (\"Shakespeare in Love (1998)\", 3),\n",
        "    (\"Princess Bride, The (1987)\", 2),\n",
        "    (\"Schindler's List (1993)\", 4),\n",
        "    (\"L.A. Confidential (1997)\", 2),\n",
        "    (\"Groundhog Day (1993)\", 3),\n",
        "    (\"E.T. the Extra-Terrestrial (1982)\", 3),\n",
        "    (\"Star Wars: Episode I - The Phantom Menace (1999)\", 4),\n",
        "    (\"Being John Malkovich (1999)\", 2),\n",
        "    (\"Shawshank Redemption, The (1994)\", 4),\n",
        "    (\"Godfather, The (1972)\", 4),\n",
        "    (\"Forrest Gump (1994)\", 3),\n",
        "    (\"Ghostbusters (1984)\", 3),\n",
        "    (\"Pulp Fiction (1994)\", 2),\n",
        "    (\"Terminator, The (1984)\", 3),\n",
        "    (\"Toy Story (1995)\", 4),\n",
        "    (\"Alien (1979)\", 3),\n",
        "    (\"Total Recall (1990)\", 2),\n",
        "    (\"Fugitive, The (1993)\", 4),\n",
        "    (\"Gladiator (2000)\", 4),\n",
        "    (\"Aliens (1986)\", 1),\n",
        "    (\"Blade Runner (1982)\", 2),\n",
        "    (\"Who Framed Roger Rabbit? (1988)\", 4),\n",
        "    (\"Stand by Me (1986)\", 3),\n",
        "    (\"Usual Suspects, The (1995)\", 3),\n",
        "    (\"Babe (1995)\", 1)\n",
        "]\n",
        "\n",
        "# Map each movie to its rating directly\n",
        "movie_to_rating = {movie: rating for movie, rating in my_ratings}\n",
        "\n",
        "# Get the total number of movies\n",
        "total_movies = len(my_ratings)\n",
        "\n",
        "# Create a list of ratings based on the order of movies in 'my_ratings'\n",
        "my_ratings_vec = [movie_to_rating[movie] for movie, _ in my_ratings]"
      ],
      "metadata": {
        "id": "oGZfqlMW-EtT"
      },
      "execution_count": null,
      "outputs": []
    },
    {
      "cell_type": "code",
      "source": [
        "my_ratings_reshaped = np.array(my_ratings_vec)\n",
        "my_ratings_reshaped.shape"
      ],
      "metadata": {
        "colab": {
          "base_uri": "https://localhost:8080/"
        },
        "id": "9roJKV1_bml9",
        "outputId": "9f141882-9ac0-47de-c3f1-572f651f4c6c"
      },
      "execution_count": null,
      "outputs": [
        {
          "output_type": "execute_result",
          "data": {
            "text/plain": [
              "(40,)"
            ]
          },
          "metadata": {},
          "execution_count": 65
        }
      ]
    },
    {
      "cell_type": "markdown",
      "source": [
        "\n",
        "- Second, compute your own embedding vector `my_emb_np` and `my_emb_bias` by running an ordinary least squares with L_2 regularization based on your ratings and the previously computed movie embedding vectors. In other words, `item_emb_np` is the co-variate and your own 40 ratings are the response.\n",
        "\n",
        "  Hint: you may use the [ridge regression (linear regression with L2 regularization)](https://scikit-learn.org/stable/modules/generated/sklearn.linear_model.Ridge.html) in the sklearn package."
      ],
      "metadata": {
        "id": "FQjezgMJzKuL"
      }
    },
    {
      "cell_type": "code",
      "source": [
        "#TODO: compute your own embedding vector and bias\n",
        "from sklearn.linear_model import Ridge\n",
        "import numpy as np\n",
        "\n",
        "# Convert ratings to a NumPy array\n",
        "ratings_array = np.array([rating for _, rating in my_ratings])\n",
        "\n",
        "# Get indices of rated movies\n",
        "rated_indices = [name_2_numitem[movie] for movie, _ in my_ratings]\n",
        "\n",
        "# Extract embeddings for the rated movies\n",
        "movie_embeddings = item_emb_np[rated_indices]\n",
        "\n",
        "# Create and train the Ridge regression model\n",
        "ridge_model = Ridge(alpha=0.1)\n",
        "ridge_model.fit(movie_embeddings, ratings_array)\n",
        "\n",
        "# Extract the learned embedding and bias\n",
        "my_emb_np = ridge_model.coef_\n",
        "my_emb_bias = ridge_model.intercept_"
      ],
      "metadata": {
        "id": "YRF6EH3y-JSu"
      },
      "execution_count": null,
      "outputs": []
    },
    {
      "cell_type": "markdown",
      "source": [
        "-  Then compute the predicted ratings for all movies using your embedding vectors and biases, together with the movie embedding vectors and biases."
      ],
      "metadata": {
        "id": "rweDLiwXeE53"
      }
    },
    {
      "cell_type": "code",
      "source": [
        "# compute pred_ratings\n",
        "pred_ratings = np.dot(item_emb_np, my_emb_np.T) + my_emb_bias\n",
        "print(pred_ratings)"
      ],
      "metadata": {
        "id": "jN4GobDrHwvA",
        "colab": {
          "base_uri": "https://localhost:8080/"
        },
        "outputId": "e356cb39-30b4-4c59-f3d0-25c3ddd0d503"
      },
      "execution_count": null,
      "outputs": [
        {
          "output_type": "stream",
          "name": "stdout",
          "text": [
            "[3.7753634 3.7453063 4.0295887 ... 2.5688004 3.3058944 3.5269814]\n"
          ]
        }
      ]
    },
    {
      "cell_type": "markdown",
      "source": [
        "- Finally, among all movies that you haven't rated, output the top 10 movies with the highest predicted ratings."
      ],
      "metadata": {
        "id": "cmuoQ966z9EQ"
      }
    },
    {
      "cell_type": "code",
      "source": [
        "# output the top 10 movies with the highest predicted ratings.\n",
        "# Extracting the movie titles ranked from 41 to 80\n",
        "my_movies = top_movies_df['item_name'][40:80].tolist()\n",
        "\n",
        "# Convert movie titles to their corresponding indices\n",
        "movie_indices = [name_2_numitem[movie] for movie in my_movies]\n",
        "\n",
        "# Retrieve predicted ratings for these movies\n",
        "predicted_ratings_for_my_movies = pred_ratings[movie_indices]\n",
        "\n",
        "# Pair each movie from 'my_movies' with the predicted rating\n",
        "movies_with_predicted_ratings = list(zip(my_movies, predicted_ratings_for_my_movies))\n",
        "\n",
        "# Sort the movies based on predicted ratings in descending order\n",
        "sorted_movies = sorted(movies_with_predicted_ratings, key=lambda x: x[1], reverse=True)\n",
        "\n",
        "# Print the top 10 movies with their predicted ratings\n",
        "print(\"\\nTop 10 Movies with the Highest Predicted Ratings:\")\n",
        "for title, predicted_rating in sorted_movies[:10]:\n",
        "    print(f\"{title}: Predicted Rating = {predicted_rating}\")"
      ],
      "metadata": {
        "id": "pDYEImAIjI-H",
        "colab": {
          "base_uri": "https://localhost:8080/"
        },
        "outputId": "5e358da9-f069-4901-be6e-d416635a441d"
      },
      "execution_count": null,
      "outputs": [
        {
          "output_type": "stream",
          "name": "stdout",
          "text": [
            "\n",
            "Top 10 Movies with the Highest Predicted Ratings:\n",
            "Galaxy Quest (1999): Predicted Rating = 5.668586730957031\n",
            "X-Men (2000): Predicted Rating = 5.20661735534668\n",
            "Face/Off (1997): Predicted Rating = 5.156571865081787\n",
            "Independence Day (ID4) (1996): Predicted Rating = 5.053112030029297\n",
            "Speed (1994): Predicted Rating = 5.021910190582275\n",
            "When Harry Met Sally... (1989): Predicted Rating = 4.9562273025512695\n",
            "Good Will Hunting (1997): Predicted Rating = 4.672736644744873\n",
            "Breakfast Club, The (1985): Predicted Rating = 4.2131805419921875\n",
            "Jaws (1975): Predicted Rating = 3.9551329612731934\n",
            "Toy Story 2 (1999): Predicted Rating = 3.8581671714782715\n"
          ]
        }
      ]
    },
    {
      "cell_type": "markdown",
      "source": [
        "**Question**: How do you feel about the predicted ratings? Do you like these top 10 movies? Include your answer in your report."
      ],
      "metadata": {
        "id": "FZ20yUNHk_7Y"
      }
    },
    {
      "cell_type": "markdown",
      "source": [
        "ANS: The majority of the predicted ratings is kind of good, and we like them. Still one or two movie is unexpected, like Toy Story 2."
      ],
      "metadata": {
        "id": "6W_GK1LSjwUe"
      }
    },
    {
      "cell_type": "markdown",
      "source": [
        "---\n",
        "## Movie valuation\n",
        "\n",
        "The rating data provided the company like Netflix information about the value of a movie that was not available to movie production studios. The collaborative filting algorithm allows Netflix to accurately value the content in a data-driven manner. For example, if Netflix were offered the opportunity to license *Toy Story (1995)*, it would need to provide Disney an initial quote of the license fee. Traditional methods suggest looking at box office returns of *Toy Story* franchise and projecting the potential value of the film.\n",
        "\n",
        "In this following, we will explore a novel approach to determine the valuation of a movie based on the predicted ratings. We make the following simplifying assumpitons (Note that these assumptions can be certainly relaxed with more complicated procedures and data):\n",
        "\n",
        "- **Netflix are focusing on the top 1000 active users and 1000 popular movies (with the most number of observed ratings).** In other words, in the following movie valuation calculation, we just consider the top 1000 activie users and 1000 popular movies, disregarding the rest.\n",
        "\n",
        "- For each user, the total amount of viewing time is proportional to the number of observed ratings. In other words, more active users spend more time on Netflix;\n",
        "\n",
        "- For each given user, the viewing time across different movies follow a [Zipf's law](https://en.wikipedia.org/wiki/Zipf%27s_law), that is\n",
        "\n",
        "  $$\n",
        "    \\text{Viewtime of movie $i$} \\propto \\frac{1}{\\text{rank of } i }\n",
        "  $$\n",
        "  Here the rank of $i$ is determined by sorting the **predicted rating** of movie $i$ by the user in descending order. In other words, the user spend less time on watching movies with lower ratings.\n",
        "\n",
        "- Netflix has a fixed total budget of 1 Billion dollars to license the content;\n",
        "\n",
        "- Netflix estimates the value of a movie based on the expected share of customer viewing time of the movie on its platform:\n",
        "$$\n",
        "\\text{Value of a movie $i$ } = \\frac{\\text{View time of movie $i$ of all users}}{\\text{Total view time of all users} } \\times \\text{Total content license budget}\n",
        "$$"
      ],
      "metadata": {
        "id": "Z7fPfgNBoFT7"
      }
    },
    {
      "cell_type": "markdown",
      "source": [
        "\n",
        "### Compute the value of each movie"
      ],
      "metadata": {
        "id": "p7nNaeIJrxKA"
      }
    },
    {
      "cell_type": "code",
      "source": [
        "# Get indices for top 1000 active users and top 1000 mostly rated movies\n",
        "top1000_user_num = pd.Series(all_ratings[\"user_num\"].value_counts()[:1000].index, name=\"user_num\")\n",
        "top1000_item_num = pd.Series(all_ratings[\"item_num\"].value_counts()[:1000].index, name=\"item_num\")\n",
        "# Construct dataframes for storing predicted ratings\n",
        "pred_ratings = pd.merge(top1000_user_num, top1000_item_num, how=\"cross\")\n",
        "cartesian_user_num = torch.from_numpy(np.asarray(pred_ratings[\"user_num\"])).to(device)\n",
        "cartesian_item_num = torch.from_numpy(np.asarray(pred_ratings[\"item_num\"])).to(device)"
      ],
      "metadata": {
        "id": "z_C67BTjrSDc"
      },
      "execution_count": null,
      "outputs": []
    },
    {
      "cell_type": "code",
      "source": [
        "pred_ratings.head()"
      ],
      "metadata": {
        "id": "6_u71ReKG-_2",
        "colab": {
          "base_uri": "https://localhost:8080/",
          "height": 204
        },
        "outputId": "834588ad-8ae4-41e1-9a43-adae3f40a926"
      },
      "execution_count": null,
      "outputs": [
        {
          "output_type": "execute_result",
          "data": {
            "text/plain": [
              "   user_num  item_num\n",
              "0      4168      2651\n",
              "1      4168       253\n",
              "2      4168      1106\n",
              "3      4168      1120\n",
              "4      4168       466"
            ],
            "text/html": [
              "\n",
              "  <div id=\"df-925d7d38-e7d2-4098-8daa-0f5e49d73979\" class=\"colab-df-container\">\n",
              "    <div>\n",
              "<style scoped>\n",
              "    .dataframe tbody tr th:only-of-type {\n",
              "        vertical-align: middle;\n",
              "    }\n",
              "\n",
              "    .dataframe tbody tr th {\n",
              "        vertical-align: top;\n",
              "    }\n",
              "\n",
              "    .dataframe thead th {\n",
              "        text-align: right;\n",
              "    }\n",
              "</style>\n",
              "<table border=\"1\" class=\"dataframe\">\n",
              "  <thead>\n",
              "    <tr style=\"text-align: right;\">\n",
              "      <th></th>\n",
              "      <th>user_num</th>\n",
              "      <th>item_num</th>\n",
              "    </tr>\n",
              "  </thead>\n",
              "  <tbody>\n",
              "    <tr>\n",
              "      <th>0</th>\n",
              "      <td>4168</td>\n",
              "      <td>2651</td>\n",
              "    </tr>\n",
              "    <tr>\n",
              "      <th>1</th>\n",
              "      <td>4168</td>\n",
              "      <td>253</td>\n",
              "    </tr>\n",
              "    <tr>\n",
              "      <th>2</th>\n",
              "      <td>4168</td>\n",
              "      <td>1106</td>\n",
              "    </tr>\n",
              "    <tr>\n",
              "      <th>3</th>\n",
              "      <td>4168</td>\n",
              "      <td>1120</td>\n",
              "    </tr>\n",
              "    <tr>\n",
              "      <th>4</th>\n",
              "      <td>4168</td>\n",
              "      <td>466</td>\n",
              "    </tr>\n",
              "  </tbody>\n",
              "</table>\n",
              "</div>\n",
              "    <div class=\"colab-df-buttons\">\n",
              "\n",
              "  <div class=\"colab-df-container\">\n",
              "    <button class=\"colab-df-convert\" onclick=\"convertToInteractive('df-925d7d38-e7d2-4098-8daa-0f5e49d73979')\"\n",
              "            title=\"Convert this dataframe to an interactive table.\"\n",
              "            style=\"display:none;\">\n",
              "\n",
              "  <svg xmlns=\"http://www.w3.org/2000/svg\" height=\"24px\" viewBox=\"0 -960 960 960\">\n",
              "    <path d=\"M120-120v-720h720v720H120Zm60-500h600v-160H180v160Zm220 220h160v-160H400v160Zm0 220h160v-160H400v160ZM180-400h160v-160H180v160Zm440 0h160v-160H620v160ZM180-180h160v-160H180v160Zm440 0h160v-160H620v160Z\"/>\n",
              "  </svg>\n",
              "    </button>\n",
              "\n",
              "  <style>\n",
              "    .colab-df-container {\n",
              "      display:flex;\n",
              "      gap: 12px;\n",
              "    }\n",
              "\n",
              "    .colab-df-convert {\n",
              "      background-color: #E8F0FE;\n",
              "      border: none;\n",
              "      border-radius: 50%;\n",
              "      cursor: pointer;\n",
              "      display: none;\n",
              "      fill: #1967D2;\n",
              "      height: 32px;\n",
              "      padding: 0 0 0 0;\n",
              "      width: 32px;\n",
              "    }\n",
              "\n",
              "    .colab-df-convert:hover {\n",
              "      background-color: #E2EBFA;\n",
              "      box-shadow: 0px 1px 2px rgba(60, 64, 67, 0.3), 0px 1px 3px 1px rgba(60, 64, 67, 0.15);\n",
              "      fill: #174EA6;\n",
              "    }\n",
              "\n",
              "    .colab-df-buttons div {\n",
              "      margin-bottom: 4px;\n",
              "    }\n",
              "\n",
              "    [theme=dark] .colab-df-convert {\n",
              "      background-color: #3B4455;\n",
              "      fill: #D2E3FC;\n",
              "    }\n",
              "\n",
              "    [theme=dark] .colab-df-convert:hover {\n",
              "      background-color: #434B5C;\n",
              "      box-shadow: 0px 1px 3px 1px rgba(0, 0, 0, 0.15);\n",
              "      filter: drop-shadow(0px 1px 2px rgba(0, 0, 0, 0.3));\n",
              "      fill: #FFFFFF;\n",
              "    }\n",
              "  </style>\n",
              "\n",
              "    <script>\n",
              "      const buttonEl =\n",
              "        document.querySelector('#df-925d7d38-e7d2-4098-8daa-0f5e49d73979 button.colab-df-convert');\n",
              "      buttonEl.style.display =\n",
              "        google.colab.kernel.accessAllowed ? 'block' : 'none';\n",
              "\n",
              "      async function convertToInteractive(key) {\n",
              "        const element = document.querySelector('#df-925d7d38-e7d2-4098-8daa-0f5e49d73979');\n",
              "        const dataTable =\n",
              "          await google.colab.kernel.invokeFunction('convertToInteractive',\n",
              "                                                    [key], {});\n",
              "        if (!dataTable) return;\n",
              "\n",
              "        const docLinkHtml = 'Like what you see? Visit the ' +\n",
              "          '<a target=\"_blank\" href=https://colab.research.google.com/notebooks/data_table.ipynb>data table notebook</a>'\n",
              "          + ' to learn more about interactive tables.';\n",
              "        element.innerHTML = '';\n",
              "        dataTable['output_type'] = 'display_data';\n",
              "        await google.colab.output.renderOutput(dataTable, element);\n",
              "        const docLink = document.createElement('div');\n",
              "        docLink.innerHTML = docLinkHtml;\n",
              "        element.appendChild(docLink);\n",
              "      }\n",
              "    </script>\n",
              "  </div>\n",
              "\n",
              "\n",
              "<div id=\"df-cfd65dd4-e333-43c7-b47a-fdac3e3ae263\">\n",
              "  <button class=\"colab-df-quickchart\" onclick=\"quickchart('df-cfd65dd4-e333-43c7-b47a-fdac3e3ae263')\"\n",
              "            title=\"Suggest charts\"\n",
              "            style=\"display:none;\">\n",
              "\n",
              "<svg xmlns=\"http://www.w3.org/2000/svg\" height=\"24px\"viewBox=\"0 0 24 24\"\n",
              "     width=\"24px\">\n",
              "    <g>\n",
              "        <path d=\"M19 3H5c-1.1 0-2 .9-2 2v14c0 1.1.9 2 2 2h14c1.1 0 2-.9 2-2V5c0-1.1-.9-2-2-2zM9 17H7v-7h2v7zm4 0h-2V7h2v10zm4 0h-2v-4h2v4z\"/>\n",
              "    </g>\n",
              "</svg>\n",
              "  </button>\n",
              "\n",
              "<style>\n",
              "  .colab-df-quickchart {\n",
              "      --bg-color: #E8F0FE;\n",
              "      --fill-color: #1967D2;\n",
              "      --hover-bg-color: #E2EBFA;\n",
              "      --hover-fill-color: #174EA6;\n",
              "      --disabled-fill-color: #AAA;\n",
              "      --disabled-bg-color: #DDD;\n",
              "  }\n",
              "\n",
              "  [theme=dark] .colab-df-quickchart {\n",
              "      --bg-color: #3B4455;\n",
              "      --fill-color: #D2E3FC;\n",
              "      --hover-bg-color: #434B5C;\n",
              "      --hover-fill-color: #FFFFFF;\n",
              "      --disabled-bg-color: #3B4455;\n",
              "      --disabled-fill-color: #666;\n",
              "  }\n",
              "\n",
              "  .colab-df-quickchart {\n",
              "    background-color: var(--bg-color);\n",
              "    border: none;\n",
              "    border-radius: 50%;\n",
              "    cursor: pointer;\n",
              "    display: none;\n",
              "    fill: var(--fill-color);\n",
              "    height: 32px;\n",
              "    padding: 0;\n",
              "    width: 32px;\n",
              "  }\n",
              "\n",
              "  .colab-df-quickchart:hover {\n",
              "    background-color: var(--hover-bg-color);\n",
              "    box-shadow: 0 1px 2px rgba(60, 64, 67, 0.3), 0 1px 3px 1px rgba(60, 64, 67, 0.15);\n",
              "    fill: var(--button-hover-fill-color);\n",
              "  }\n",
              "\n",
              "  .colab-df-quickchart-complete:disabled,\n",
              "  .colab-df-quickchart-complete:disabled:hover {\n",
              "    background-color: var(--disabled-bg-color);\n",
              "    fill: var(--disabled-fill-color);\n",
              "    box-shadow: none;\n",
              "  }\n",
              "\n",
              "  .colab-df-spinner {\n",
              "    border: 2px solid var(--fill-color);\n",
              "    border-color: transparent;\n",
              "    border-bottom-color: var(--fill-color);\n",
              "    animation:\n",
              "      spin 1s steps(1) infinite;\n",
              "  }\n",
              "\n",
              "  @keyframes spin {\n",
              "    0% {\n",
              "      border-color: transparent;\n",
              "      border-bottom-color: var(--fill-color);\n",
              "      border-left-color: var(--fill-color);\n",
              "    }\n",
              "    20% {\n",
              "      border-color: transparent;\n",
              "      border-left-color: var(--fill-color);\n",
              "      border-top-color: var(--fill-color);\n",
              "    }\n",
              "    30% {\n",
              "      border-color: transparent;\n",
              "      border-left-color: var(--fill-color);\n",
              "      border-top-color: var(--fill-color);\n",
              "      border-right-color: var(--fill-color);\n",
              "    }\n",
              "    40% {\n",
              "      border-color: transparent;\n",
              "      border-right-color: var(--fill-color);\n",
              "      border-top-color: var(--fill-color);\n",
              "    }\n",
              "    60% {\n",
              "      border-color: transparent;\n",
              "      border-right-color: var(--fill-color);\n",
              "    }\n",
              "    80% {\n",
              "      border-color: transparent;\n",
              "      border-right-color: var(--fill-color);\n",
              "      border-bottom-color: var(--fill-color);\n",
              "    }\n",
              "    90% {\n",
              "      border-color: transparent;\n",
              "      border-bottom-color: var(--fill-color);\n",
              "    }\n",
              "  }\n",
              "</style>\n",
              "\n",
              "  <script>\n",
              "    async function quickchart(key) {\n",
              "      const quickchartButtonEl =\n",
              "        document.querySelector('#' + key + ' button');\n",
              "      quickchartButtonEl.disabled = true;  // To prevent multiple clicks.\n",
              "      quickchartButtonEl.classList.add('colab-df-spinner');\n",
              "      try {\n",
              "        const charts = await google.colab.kernel.invokeFunction(\n",
              "            'suggestCharts', [key], {});\n",
              "      } catch (error) {\n",
              "        console.error('Error during call to suggestCharts:', error);\n",
              "      }\n",
              "      quickchartButtonEl.classList.remove('colab-df-spinner');\n",
              "      quickchartButtonEl.classList.add('colab-df-quickchart-complete');\n",
              "    }\n",
              "    (() => {\n",
              "      let quickchartButtonEl =\n",
              "        document.querySelector('#df-cfd65dd4-e333-43c7-b47a-fdac3e3ae263 button');\n",
              "      quickchartButtonEl.style.display =\n",
              "        google.colab.kernel.accessAllowed ? 'block' : 'none';\n",
              "    })();\n",
              "  </script>\n",
              "</div>\n",
              "    </div>\n",
              "  </div>\n"
            ]
          },
          "metadata": {},
          "execution_count": 70
        }
      ]
    },
    {
      "cell_type": "code",
      "source": [
        "# sanity check: # of rows in pred_ratings == # of active users (1000) x # of popular items (1000)\n",
        "pred_ratings.shape[0] == 1000 * 1000"
      ],
      "metadata": {
        "id": "6Iga7-hsbB28",
        "colab": {
          "base_uri": "https://localhost:8080/"
        },
        "outputId": "1ea85e07-6779-40c1-814d-f7498f1a5564"
      },
      "execution_count": null,
      "outputs": [
        {
          "output_type": "execute_result",
          "data": {
            "text/plain": [
              "True"
            ]
          },
          "metadata": {},
          "execution_count": 71
        }
      ]
    },
    {
      "cell_type": "code",
      "source": [
        "#TODO: use your optimized model to compute the predicted ratings among the top 1000 active users and top 1000 popular movies\n",
        "all_predicted_ratings = []\n",
        "batch_size = 100\n",
        "for i in range(0, len(pred_ratings), batch_size):\n",
        "  all_predicted_ratings.extend(\n",
        "      best_model._net(cartesian_user_num[i:i+batch_size],\n",
        "                cartesian_item_num[i:i+batch_size]).cpu().detach().numpy().tolist())\n",
        "pred_ratings['pred_ratings']=all_predicted_ratings"
      ],
      "metadata": {
        "id": "Kwd0kppNsy1x"
      },
      "execution_count": null,
      "outputs": []
    },
    {
      "cell_type": "code",
      "source": [
        "# Each user's total viewtime is stored in Series user_total_viewtime\n",
        "user_total_viewtime = all_ratings[\"user_num\"].value_counts()[:1000] / all_ratings[\"user_num\"].value_counts()[:1000].sum()\n",
        "user_total_viewtime.name = \"user_total_viewtime\"\n",
        "user_total_viewtime.index.name = \"user_num\"\n",
        "pred_ratings = pd.merge(pred_ratings, user_total_viewtime, left_on=\"user_num\", right_on=\"user_num\", how=\"left\")"
      ],
      "metadata": {
        "id": "JPb_QqWnTS-p"
      },
      "execution_count": null,
      "outputs": []
    },
    {
      "cell_type": "code",
      "source": [
        "pred_ratings.head()"
      ],
      "metadata": {
        "id": "XwtRGaxMHgX4",
        "colab": {
          "base_uri": "https://localhost:8080/",
          "height": 204
        },
        "outputId": "b3a5ec57-fd1b-479f-ace1-886236436a2d"
      },
      "execution_count": null,
      "outputs": [
        {
          "output_type": "execute_result",
          "data": {
            "text/plain": [
              "   user_num  item_num  pred_ratings  user_total_viewtime\n",
              "0      4168      2651      5.327432              0.00449\n",
              "1      4168       253      4.959877              0.00449\n",
              "2      4168      1106      4.500669              0.00449\n",
              "3      4168      1120      4.242913              0.00449\n",
              "4      4168       466      4.924698              0.00449"
            ],
            "text/html": [
              "\n",
              "  <div id=\"df-555c9b2e-e92a-4e64-974e-e25c8024ba96\" class=\"colab-df-container\">\n",
              "    <div>\n",
              "<style scoped>\n",
              "    .dataframe tbody tr th:only-of-type {\n",
              "        vertical-align: middle;\n",
              "    }\n",
              "\n",
              "    .dataframe tbody tr th {\n",
              "        vertical-align: top;\n",
              "    }\n",
              "\n",
              "    .dataframe thead th {\n",
              "        text-align: right;\n",
              "    }\n",
              "</style>\n",
              "<table border=\"1\" class=\"dataframe\">\n",
              "  <thead>\n",
              "    <tr style=\"text-align: right;\">\n",
              "      <th></th>\n",
              "      <th>user_num</th>\n",
              "      <th>item_num</th>\n",
              "      <th>pred_ratings</th>\n",
              "      <th>user_total_viewtime</th>\n",
              "    </tr>\n",
              "  </thead>\n",
              "  <tbody>\n",
              "    <tr>\n",
              "      <th>0</th>\n",
              "      <td>4168</td>\n",
              "      <td>2651</td>\n",
              "      <td>5.327432</td>\n",
              "      <td>0.00449</td>\n",
              "    </tr>\n",
              "    <tr>\n",
              "      <th>1</th>\n",
              "      <td>4168</td>\n",
              "      <td>253</td>\n",
              "      <td>4.959877</td>\n",
              "      <td>0.00449</td>\n",
              "    </tr>\n",
              "    <tr>\n",
              "      <th>2</th>\n",
              "      <td>4168</td>\n",
              "      <td>1106</td>\n",
              "      <td>4.500669</td>\n",
              "      <td>0.00449</td>\n",
              "    </tr>\n",
              "    <tr>\n",
              "      <th>3</th>\n",
              "      <td>4168</td>\n",
              "      <td>1120</td>\n",
              "      <td>4.242913</td>\n",
              "      <td>0.00449</td>\n",
              "    </tr>\n",
              "    <tr>\n",
              "      <th>4</th>\n",
              "      <td>4168</td>\n",
              "      <td>466</td>\n",
              "      <td>4.924698</td>\n",
              "      <td>0.00449</td>\n",
              "    </tr>\n",
              "  </tbody>\n",
              "</table>\n",
              "</div>\n",
              "    <div class=\"colab-df-buttons\">\n",
              "\n",
              "  <div class=\"colab-df-container\">\n",
              "    <button class=\"colab-df-convert\" onclick=\"convertToInteractive('df-555c9b2e-e92a-4e64-974e-e25c8024ba96')\"\n",
              "            title=\"Convert this dataframe to an interactive table.\"\n",
              "            style=\"display:none;\">\n",
              "\n",
              "  <svg xmlns=\"http://www.w3.org/2000/svg\" height=\"24px\" viewBox=\"0 -960 960 960\">\n",
              "    <path d=\"M120-120v-720h720v720H120Zm60-500h600v-160H180v160Zm220 220h160v-160H400v160Zm0 220h160v-160H400v160ZM180-400h160v-160H180v160Zm440 0h160v-160H620v160ZM180-180h160v-160H180v160Zm440 0h160v-160H620v160Z\"/>\n",
              "  </svg>\n",
              "    </button>\n",
              "\n",
              "  <style>\n",
              "    .colab-df-container {\n",
              "      display:flex;\n",
              "      gap: 12px;\n",
              "    }\n",
              "\n",
              "    .colab-df-convert {\n",
              "      background-color: #E8F0FE;\n",
              "      border: none;\n",
              "      border-radius: 50%;\n",
              "      cursor: pointer;\n",
              "      display: none;\n",
              "      fill: #1967D2;\n",
              "      height: 32px;\n",
              "      padding: 0 0 0 0;\n",
              "      width: 32px;\n",
              "    }\n",
              "\n",
              "    .colab-df-convert:hover {\n",
              "      background-color: #E2EBFA;\n",
              "      box-shadow: 0px 1px 2px rgba(60, 64, 67, 0.3), 0px 1px 3px 1px rgba(60, 64, 67, 0.15);\n",
              "      fill: #174EA6;\n",
              "    }\n",
              "\n",
              "    .colab-df-buttons div {\n",
              "      margin-bottom: 4px;\n",
              "    }\n",
              "\n",
              "    [theme=dark] .colab-df-convert {\n",
              "      background-color: #3B4455;\n",
              "      fill: #D2E3FC;\n",
              "    }\n",
              "\n",
              "    [theme=dark] .colab-df-convert:hover {\n",
              "      background-color: #434B5C;\n",
              "      box-shadow: 0px 1px 3px 1px rgba(0, 0, 0, 0.15);\n",
              "      filter: drop-shadow(0px 1px 2px rgba(0, 0, 0, 0.3));\n",
              "      fill: #FFFFFF;\n",
              "    }\n",
              "  </style>\n",
              "\n",
              "    <script>\n",
              "      const buttonEl =\n",
              "        document.querySelector('#df-555c9b2e-e92a-4e64-974e-e25c8024ba96 button.colab-df-convert');\n",
              "      buttonEl.style.display =\n",
              "        google.colab.kernel.accessAllowed ? 'block' : 'none';\n",
              "\n",
              "      async function convertToInteractive(key) {\n",
              "        const element = document.querySelector('#df-555c9b2e-e92a-4e64-974e-e25c8024ba96');\n",
              "        const dataTable =\n",
              "          await google.colab.kernel.invokeFunction('convertToInteractive',\n",
              "                                                    [key], {});\n",
              "        if (!dataTable) return;\n",
              "\n",
              "        const docLinkHtml = 'Like what you see? Visit the ' +\n",
              "          '<a target=\"_blank\" href=https://colab.research.google.com/notebooks/data_table.ipynb>data table notebook</a>'\n",
              "          + ' to learn more about interactive tables.';\n",
              "        element.innerHTML = '';\n",
              "        dataTable['output_type'] = 'display_data';\n",
              "        await google.colab.output.renderOutput(dataTable, element);\n",
              "        const docLink = document.createElement('div');\n",
              "        docLink.innerHTML = docLinkHtml;\n",
              "        element.appendChild(docLink);\n",
              "      }\n",
              "    </script>\n",
              "  </div>\n",
              "\n",
              "\n",
              "<div id=\"df-b7790f97-6161-4cf4-914d-8774e149bb90\">\n",
              "  <button class=\"colab-df-quickchart\" onclick=\"quickchart('df-b7790f97-6161-4cf4-914d-8774e149bb90')\"\n",
              "            title=\"Suggest charts\"\n",
              "            style=\"display:none;\">\n",
              "\n",
              "<svg xmlns=\"http://www.w3.org/2000/svg\" height=\"24px\"viewBox=\"0 0 24 24\"\n",
              "     width=\"24px\">\n",
              "    <g>\n",
              "        <path d=\"M19 3H5c-1.1 0-2 .9-2 2v14c0 1.1.9 2 2 2h14c1.1 0 2-.9 2-2V5c0-1.1-.9-2-2-2zM9 17H7v-7h2v7zm4 0h-2V7h2v10zm4 0h-2v-4h2v4z\"/>\n",
              "    </g>\n",
              "</svg>\n",
              "  </button>\n",
              "\n",
              "<style>\n",
              "  .colab-df-quickchart {\n",
              "      --bg-color: #E8F0FE;\n",
              "      --fill-color: #1967D2;\n",
              "      --hover-bg-color: #E2EBFA;\n",
              "      --hover-fill-color: #174EA6;\n",
              "      --disabled-fill-color: #AAA;\n",
              "      --disabled-bg-color: #DDD;\n",
              "  }\n",
              "\n",
              "  [theme=dark] .colab-df-quickchart {\n",
              "      --bg-color: #3B4455;\n",
              "      --fill-color: #D2E3FC;\n",
              "      --hover-bg-color: #434B5C;\n",
              "      --hover-fill-color: #FFFFFF;\n",
              "      --disabled-bg-color: #3B4455;\n",
              "      --disabled-fill-color: #666;\n",
              "  }\n",
              "\n",
              "  .colab-df-quickchart {\n",
              "    background-color: var(--bg-color);\n",
              "    border: none;\n",
              "    border-radius: 50%;\n",
              "    cursor: pointer;\n",
              "    display: none;\n",
              "    fill: var(--fill-color);\n",
              "    height: 32px;\n",
              "    padding: 0;\n",
              "    width: 32px;\n",
              "  }\n",
              "\n",
              "  .colab-df-quickchart:hover {\n",
              "    background-color: var(--hover-bg-color);\n",
              "    box-shadow: 0 1px 2px rgba(60, 64, 67, 0.3), 0 1px 3px 1px rgba(60, 64, 67, 0.15);\n",
              "    fill: var(--button-hover-fill-color);\n",
              "  }\n",
              "\n",
              "  .colab-df-quickchart-complete:disabled,\n",
              "  .colab-df-quickchart-complete:disabled:hover {\n",
              "    background-color: var(--disabled-bg-color);\n",
              "    fill: var(--disabled-fill-color);\n",
              "    box-shadow: none;\n",
              "  }\n",
              "\n",
              "  .colab-df-spinner {\n",
              "    border: 2px solid var(--fill-color);\n",
              "    border-color: transparent;\n",
              "    border-bottom-color: var(--fill-color);\n",
              "    animation:\n",
              "      spin 1s steps(1) infinite;\n",
              "  }\n",
              "\n",
              "  @keyframes spin {\n",
              "    0% {\n",
              "      border-color: transparent;\n",
              "      border-bottom-color: var(--fill-color);\n",
              "      border-left-color: var(--fill-color);\n",
              "    }\n",
              "    20% {\n",
              "      border-color: transparent;\n",
              "      border-left-color: var(--fill-color);\n",
              "      border-top-color: var(--fill-color);\n",
              "    }\n",
              "    30% {\n",
              "      border-color: transparent;\n",
              "      border-left-color: var(--fill-color);\n",
              "      border-top-color: var(--fill-color);\n",
              "      border-right-color: var(--fill-color);\n",
              "    }\n",
              "    40% {\n",
              "      border-color: transparent;\n",
              "      border-right-color: var(--fill-color);\n",
              "      border-top-color: var(--fill-color);\n",
              "    }\n",
              "    60% {\n",
              "      border-color: transparent;\n",
              "      border-right-color: var(--fill-color);\n",
              "    }\n",
              "    80% {\n",
              "      border-color: transparent;\n",
              "      border-right-color: var(--fill-color);\n",
              "      border-bottom-color: var(--fill-color);\n",
              "    }\n",
              "    90% {\n",
              "      border-color: transparent;\n",
              "      border-bottom-color: var(--fill-color);\n",
              "    }\n",
              "  }\n",
              "</style>\n",
              "\n",
              "  <script>\n",
              "    async function quickchart(key) {\n",
              "      const quickchartButtonEl =\n",
              "        document.querySelector('#' + key + ' button');\n",
              "      quickchartButtonEl.disabled = true;  // To prevent multiple clicks.\n",
              "      quickchartButtonEl.classList.add('colab-df-spinner');\n",
              "      try {\n",
              "        const charts = await google.colab.kernel.invokeFunction(\n",
              "            'suggestCharts', [key], {});\n",
              "      } catch (error) {\n",
              "        console.error('Error during call to suggestCharts:', error);\n",
              "      }\n",
              "      quickchartButtonEl.classList.remove('colab-df-spinner');\n",
              "      quickchartButtonEl.classList.add('colab-df-quickchart-complete');\n",
              "    }\n",
              "    (() => {\n",
              "      let quickchartButtonEl =\n",
              "        document.querySelector('#df-b7790f97-6161-4cf4-914d-8774e149bb90 button');\n",
              "      quickchartButtonEl.style.display =\n",
              "        google.colab.kernel.accessAllowed ? 'block' : 'none';\n",
              "    })();\n",
              "  </script>\n",
              "</div>\n",
              "    </div>\n",
              "  </div>\n"
            ]
          },
          "metadata": {},
          "execution_count": 74
        }
      ]
    },
    {
      "cell_type": "code",
      "source": [
        "# Each user per each movie viewtime: pred_all_ratings[\"user_item_viewtime\"] = [\"1/user_rank\"] / [\"sum(1/user_rank)\"] * [\"user_total_viewtime\"]\n",
        "# these wordy codes are to reduce RAM consumption otherwise Colab may crush\n",
        "pred_ratings[\"1/user_rank\"] = 1/pred_ratings.groupby(\"user_num\")[\"pred_ratings\"].rank(method = \"min\", ascending = False)\n",
        "sum_inverse_user_rank = pred_ratings.groupby(\"user_num\")[\"1/user_rank\"].sum()\n",
        "sum_inverse_user_rank.name = \"sum(1/user_rank)\"\n",
        "pred_ratings = pd.merge(pred_ratings, sum_inverse_user_rank, left_on=\"user_num\", right_on=\"user_num\", how=\"left\")\n",
        "pred_ratings[\"user_item_viewtime\"] = pred_ratings[\"1/user_rank\"] / pred_ratings[\"sum(1/user_rank)\"] * pred_ratings[\"user_total_viewtime\"]"
      ],
      "metadata": {
        "id": "CGYUQOGETpJH"
      },
      "execution_count": null,
      "outputs": []
    },
    {
      "cell_type": "code",
      "source": [
        "pred_ratings"
      ],
      "metadata": {
        "id": "kg-eRoQlH1JI",
        "colab": {
          "base_uri": "https://localhost:8080/",
          "height": 419
        },
        "outputId": "7072ca8b-53c8-4403-b857-330267f1da45"
      },
      "execution_count": null,
      "outputs": [
        {
          "output_type": "execute_result",
          "data": {
            "text/plain": [
              "        user_num  item_num  pred_ratings  user_total_viewtime  1/user_rank  \\\n",
              "0           4168      2651      5.327432             0.004490     0.047619   \n",
              "1           4168       253      4.959877             0.004490     0.011905   \n",
              "2           4168      1106      4.500669             0.004490     0.004608   \n",
              "3           4168      1120      4.242913             0.004490     0.003115   \n",
              "4           4168       466      4.924698             0.004490     0.011111   \n",
              "...          ...       ...           ...                  ...          ...   \n",
              "999995      3411      2126      3.989392             0.000569     0.001541   \n",
              "999996      3411        67      4.115575             0.000569     0.001852   \n",
              "999997      3411      2614      4.589793             0.000569     0.006410   \n",
              "999998      3411      1608      3.788660             0.000569     0.001276   \n",
              "999999      3411       966      3.977264             0.000569     0.001524   \n",
              "\n",
              "        sum(1/user_rank)  user_item_viewtime  \n",
              "0               7.485471        2.856540e-05  \n",
              "1               7.485471        7.141351e-06  \n",
              "2               7.485471        2.764394e-06  \n",
              "3               7.485471        1.868765e-06  \n",
              "4               7.485471        6.665261e-06  \n",
              "...                  ...                 ...  \n",
              "999995          7.485471        1.170359e-07  \n",
              "999996          7.485471        1.406599e-07  \n",
              "999997          7.485471        4.868995e-07  \n",
              "999998          7.485471        9.688306e-08  \n",
              "999999          7.485471        1.157871e-07  \n",
              "\n",
              "[1000000 rows x 7 columns]"
            ],
            "text/html": [
              "\n",
              "  <div id=\"df-33ff8705-5051-4edf-941e-38785cf81e49\" class=\"colab-df-container\">\n",
              "    <div>\n",
              "<style scoped>\n",
              "    .dataframe tbody tr th:only-of-type {\n",
              "        vertical-align: middle;\n",
              "    }\n",
              "\n",
              "    .dataframe tbody tr th {\n",
              "        vertical-align: top;\n",
              "    }\n",
              "\n",
              "    .dataframe thead th {\n",
              "        text-align: right;\n",
              "    }\n",
              "</style>\n",
              "<table border=\"1\" class=\"dataframe\">\n",
              "  <thead>\n",
              "    <tr style=\"text-align: right;\">\n",
              "      <th></th>\n",
              "      <th>user_num</th>\n",
              "      <th>item_num</th>\n",
              "      <th>pred_ratings</th>\n",
              "      <th>user_total_viewtime</th>\n",
              "      <th>1/user_rank</th>\n",
              "      <th>sum(1/user_rank)</th>\n",
              "      <th>user_item_viewtime</th>\n",
              "    </tr>\n",
              "  </thead>\n",
              "  <tbody>\n",
              "    <tr>\n",
              "      <th>0</th>\n",
              "      <td>4168</td>\n",
              "      <td>2651</td>\n",
              "      <td>5.327432</td>\n",
              "      <td>0.004490</td>\n",
              "      <td>0.047619</td>\n",
              "      <td>7.485471</td>\n",
              "      <td>2.856540e-05</td>\n",
              "    </tr>\n",
              "    <tr>\n",
              "      <th>1</th>\n",
              "      <td>4168</td>\n",
              "      <td>253</td>\n",
              "      <td>4.959877</td>\n",
              "      <td>0.004490</td>\n",
              "      <td>0.011905</td>\n",
              "      <td>7.485471</td>\n",
              "      <td>7.141351e-06</td>\n",
              "    </tr>\n",
              "    <tr>\n",
              "      <th>2</th>\n",
              "      <td>4168</td>\n",
              "      <td>1106</td>\n",
              "      <td>4.500669</td>\n",
              "      <td>0.004490</td>\n",
              "      <td>0.004608</td>\n",
              "      <td>7.485471</td>\n",
              "      <td>2.764394e-06</td>\n",
              "    </tr>\n",
              "    <tr>\n",
              "      <th>3</th>\n",
              "      <td>4168</td>\n",
              "      <td>1120</td>\n",
              "      <td>4.242913</td>\n",
              "      <td>0.004490</td>\n",
              "      <td>0.003115</td>\n",
              "      <td>7.485471</td>\n",
              "      <td>1.868765e-06</td>\n",
              "    </tr>\n",
              "    <tr>\n",
              "      <th>4</th>\n",
              "      <td>4168</td>\n",
              "      <td>466</td>\n",
              "      <td>4.924698</td>\n",
              "      <td>0.004490</td>\n",
              "      <td>0.011111</td>\n",
              "      <td>7.485471</td>\n",
              "      <td>6.665261e-06</td>\n",
              "    </tr>\n",
              "    <tr>\n",
              "      <th>...</th>\n",
              "      <td>...</td>\n",
              "      <td>...</td>\n",
              "      <td>...</td>\n",
              "      <td>...</td>\n",
              "      <td>...</td>\n",
              "      <td>...</td>\n",
              "      <td>...</td>\n",
              "    </tr>\n",
              "    <tr>\n",
              "      <th>999995</th>\n",
              "      <td>3411</td>\n",
              "      <td>2126</td>\n",
              "      <td>3.989392</td>\n",
              "      <td>0.000569</td>\n",
              "      <td>0.001541</td>\n",
              "      <td>7.485471</td>\n",
              "      <td>1.170359e-07</td>\n",
              "    </tr>\n",
              "    <tr>\n",
              "      <th>999996</th>\n",
              "      <td>3411</td>\n",
              "      <td>67</td>\n",
              "      <td>4.115575</td>\n",
              "      <td>0.000569</td>\n",
              "      <td>0.001852</td>\n",
              "      <td>7.485471</td>\n",
              "      <td>1.406599e-07</td>\n",
              "    </tr>\n",
              "    <tr>\n",
              "      <th>999997</th>\n",
              "      <td>3411</td>\n",
              "      <td>2614</td>\n",
              "      <td>4.589793</td>\n",
              "      <td>0.000569</td>\n",
              "      <td>0.006410</td>\n",
              "      <td>7.485471</td>\n",
              "      <td>4.868995e-07</td>\n",
              "    </tr>\n",
              "    <tr>\n",
              "      <th>999998</th>\n",
              "      <td>3411</td>\n",
              "      <td>1608</td>\n",
              "      <td>3.788660</td>\n",
              "      <td>0.000569</td>\n",
              "      <td>0.001276</td>\n",
              "      <td>7.485471</td>\n",
              "      <td>9.688306e-08</td>\n",
              "    </tr>\n",
              "    <tr>\n",
              "      <th>999999</th>\n",
              "      <td>3411</td>\n",
              "      <td>966</td>\n",
              "      <td>3.977264</td>\n",
              "      <td>0.000569</td>\n",
              "      <td>0.001524</td>\n",
              "      <td>7.485471</td>\n",
              "      <td>1.157871e-07</td>\n",
              "    </tr>\n",
              "  </tbody>\n",
              "</table>\n",
              "<p>1000000 rows × 7 columns</p>\n",
              "</div>\n",
              "    <div class=\"colab-df-buttons\">\n",
              "\n",
              "  <div class=\"colab-df-container\">\n",
              "    <button class=\"colab-df-convert\" onclick=\"convertToInteractive('df-33ff8705-5051-4edf-941e-38785cf81e49')\"\n",
              "            title=\"Convert this dataframe to an interactive table.\"\n",
              "            style=\"display:none;\">\n",
              "\n",
              "  <svg xmlns=\"http://www.w3.org/2000/svg\" height=\"24px\" viewBox=\"0 -960 960 960\">\n",
              "    <path d=\"M120-120v-720h720v720H120Zm60-500h600v-160H180v160Zm220 220h160v-160H400v160Zm0 220h160v-160H400v160ZM180-400h160v-160H180v160Zm440 0h160v-160H620v160ZM180-180h160v-160H180v160Zm440 0h160v-160H620v160Z\"/>\n",
              "  </svg>\n",
              "    </button>\n",
              "\n",
              "  <style>\n",
              "    .colab-df-container {\n",
              "      display:flex;\n",
              "      gap: 12px;\n",
              "    }\n",
              "\n",
              "    .colab-df-convert {\n",
              "      background-color: #E8F0FE;\n",
              "      border: none;\n",
              "      border-radius: 50%;\n",
              "      cursor: pointer;\n",
              "      display: none;\n",
              "      fill: #1967D2;\n",
              "      height: 32px;\n",
              "      padding: 0 0 0 0;\n",
              "      width: 32px;\n",
              "    }\n",
              "\n",
              "    .colab-df-convert:hover {\n",
              "      background-color: #E2EBFA;\n",
              "      box-shadow: 0px 1px 2px rgba(60, 64, 67, 0.3), 0px 1px 3px 1px rgba(60, 64, 67, 0.15);\n",
              "      fill: #174EA6;\n",
              "    }\n",
              "\n",
              "    .colab-df-buttons div {\n",
              "      margin-bottom: 4px;\n",
              "    }\n",
              "\n",
              "    [theme=dark] .colab-df-convert {\n",
              "      background-color: #3B4455;\n",
              "      fill: #D2E3FC;\n",
              "    }\n",
              "\n",
              "    [theme=dark] .colab-df-convert:hover {\n",
              "      background-color: #434B5C;\n",
              "      box-shadow: 0px 1px 3px 1px rgba(0, 0, 0, 0.15);\n",
              "      filter: drop-shadow(0px 1px 2px rgba(0, 0, 0, 0.3));\n",
              "      fill: #FFFFFF;\n",
              "    }\n",
              "  </style>\n",
              "\n",
              "    <script>\n",
              "      const buttonEl =\n",
              "        document.querySelector('#df-33ff8705-5051-4edf-941e-38785cf81e49 button.colab-df-convert');\n",
              "      buttonEl.style.display =\n",
              "        google.colab.kernel.accessAllowed ? 'block' : 'none';\n",
              "\n",
              "      async function convertToInteractive(key) {\n",
              "        const element = document.querySelector('#df-33ff8705-5051-4edf-941e-38785cf81e49');\n",
              "        const dataTable =\n",
              "          await google.colab.kernel.invokeFunction('convertToInteractive',\n",
              "                                                    [key], {});\n",
              "        if (!dataTable) return;\n",
              "\n",
              "        const docLinkHtml = 'Like what you see? Visit the ' +\n",
              "          '<a target=\"_blank\" href=https://colab.research.google.com/notebooks/data_table.ipynb>data table notebook</a>'\n",
              "          + ' to learn more about interactive tables.';\n",
              "        element.innerHTML = '';\n",
              "        dataTable['output_type'] = 'display_data';\n",
              "        await google.colab.output.renderOutput(dataTable, element);\n",
              "        const docLink = document.createElement('div');\n",
              "        docLink.innerHTML = docLinkHtml;\n",
              "        element.appendChild(docLink);\n",
              "      }\n",
              "    </script>\n",
              "  </div>\n",
              "\n",
              "\n",
              "<div id=\"df-bbfb2640-5b16-4f26-853d-0b34ccad11b5\">\n",
              "  <button class=\"colab-df-quickchart\" onclick=\"quickchart('df-bbfb2640-5b16-4f26-853d-0b34ccad11b5')\"\n",
              "            title=\"Suggest charts\"\n",
              "            style=\"display:none;\">\n",
              "\n",
              "<svg xmlns=\"http://www.w3.org/2000/svg\" height=\"24px\"viewBox=\"0 0 24 24\"\n",
              "     width=\"24px\">\n",
              "    <g>\n",
              "        <path d=\"M19 3H5c-1.1 0-2 .9-2 2v14c0 1.1.9 2 2 2h14c1.1 0 2-.9 2-2V5c0-1.1-.9-2-2-2zM9 17H7v-7h2v7zm4 0h-2V7h2v10zm4 0h-2v-4h2v4z\"/>\n",
              "    </g>\n",
              "</svg>\n",
              "  </button>\n",
              "\n",
              "<style>\n",
              "  .colab-df-quickchart {\n",
              "      --bg-color: #E8F0FE;\n",
              "      --fill-color: #1967D2;\n",
              "      --hover-bg-color: #E2EBFA;\n",
              "      --hover-fill-color: #174EA6;\n",
              "      --disabled-fill-color: #AAA;\n",
              "      --disabled-bg-color: #DDD;\n",
              "  }\n",
              "\n",
              "  [theme=dark] .colab-df-quickchart {\n",
              "      --bg-color: #3B4455;\n",
              "      --fill-color: #D2E3FC;\n",
              "      --hover-bg-color: #434B5C;\n",
              "      --hover-fill-color: #FFFFFF;\n",
              "      --disabled-bg-color: #3B4455;\n",
              "      --disabled-fill-color: #666;\n",
              "  }\n",
              "\n",
              "  .colab-df-quickchart {\n",
              "    background-color: var(--bg-color);\n",
              "    border: none;\n",
              "    border-radius: 50%;\n",
              "    cursor: pointer;\n",
              "    display: none;\n",
              "    fill: var(--fill-color);\n",
              "    height: 32px;\n",
              "    padding: 0;\n",
              "    width: 32px;\n",
              "  }\n",
              "\n",
              "  .colab-df-quickchart:hover {\n",
              "    background-color: var(--hover-bg-color);\n",
              "    box-shadow: 0 1px 2px rgba(60, 64, 67, 0.3), 0 1px 3px 1px rgba(60, 64, 67, 0.15);\n",
              "    fill: var(--button-hover-fill-color);\n",
              "  }\n",
              "\n",
              "  .colab-df-quickchart-complete:disabled,\n",
              "  .colab-df-quickchart-complete:disabled:hover {\n",
              "    background-color: var(--disabled-bg-color);\n",
              "    fill: var(--disabled-fill-color);\n",
              "    box-shadow: none;\n",
              "  }\n",
              "\n",
              "  .colab-df-spinner {\n",
              "    border: 2px solid var(--fill-color);\n",
              "    border-color: transparent;\n",
              "    border-bottom-color: var(--fill-color);\n",
              "    animation:\n",
              "      spin 1s steps(1) infinite;\n",
              "  }\n",
              "\n",
              "  @keyframes spin {\n",
              "    0% {\n",
              "      border-color: transparent;\n",
              "      border-bottom-color: var(--fill-color);\n",
              "      border-left-color: var(--fill-color);\n",
              "    }\n",
              "    20% {\n",
              "      border-color: transparent;\n",
              "      border-left-color: var(--fill-color);\n",
              "      border-top-color: var(--fill-color);\n",
              "    }\n",
              "    30% {\n",
              "      border-color: transparent;\n",
              "      border-left-color: var(--fill-color);\n",
              "      border-top-color: var(--fill-color);\n",
              "      border-right-color: var(--fill-color);\n",
              "    }\n",
              "    40% {\n",
              "      border-color: transparent;\n",
              "      border-right-color: var(--fill-color);\n",
              "      border-top-color: var(--fill-color);\n",
              "    }\n",
              "    60% {\n",
              "      border-color: transparent;\n",
              "      border-right-color: var(--fill-color);\n",
              "    }\n",
              "    80% {\n",
              "      border-color: transparent;\n",
              "      border-right-color: var(--fill-color);\n",
              "      border-bottom-color: var(--fill-color);\n",
              "    }\n",
              "    90% {\n",
              "      border-color: transparent;\n",
              "      border-bottom-color: var(--fill-color);\n",
              "    }\n",
              "  }\n",
              "</style>\n",
              "\n",
              "  <script>\n",
              "    async function quickchart(key) {\n",
              "      const quickchartButtonEl =\n",
              "        document.querySelector('#' + key + ' button');\n",
              "      quickchartButtonEl.disabled = true;  // To prevent multiple clicks.\n",
              "      quickchartButtonEl.classList.add('colab-df-spinner');\n",
              "      try {\n",
              "        const charts = await google.colab.kernel.invokeFunction(\n",
              "            'suggestCharts', [key], {});\n",
              "      } catch (error) {\n",
              "        console.error('Error during call to suggestCharts:', error);\n",
              "      }\n",
              "      quickchartButtonEl.classList.remove('colab-df-spinner');\n",
              "      quickchartButtonEl.classList.add('colab-df-quickchart-complete');\n",
              "    }\n",
              "    (() => {\n",
              "      let quickchartButtonEl =\n",
              "        document.querySelector('#df-bbfb2640-5b16-4f26-853d-0b34ccad11b5 button');\n",
              "      quickchartButtonEl.style.display =\n",
              "        google.colab.kernel.accessAllowed ? 'block' : 'none';\n",
              "    })();\n",
              "  </script>\n",
              "</div>\n",
              "    </div>\n",
              "  </div>\n"
            ]
          },
          "metadata": {},
          "execution_count": 76
        }
      ]
    },
    {
      "cell_type": "code",
      "source": [
        "# sanity check: sum of user_item_viewtime == 1\n",
        "pred_ratings[\"user_item_viewtime\"].sum()"
      ],
      "metadata": {
        "id": "l9Ye6ePU0dPa",
        "colab": {
          "base_uri": "https://localhost:8080/"
        },
        "outputId": "b7ca747b-27ba-4d78-8954-2ec9d7040fa4"
      },
      "execution_count": null,
      "outputs": [
        {
          "output_type": "execute_result",
          "data": {
            "text/plain": [
              "1.0"
            ]
          },
          "metadata": {},
          "execution_count": 77
        }
      ]
    },
    {
      "cell_type": "code",
      "source": [
        "# compute each movie's value\n",
        "budget =  1000000000\n",
        "#TODO: compute and store the values of movies based on pred_ratings\n",
        "movie_values = pred_ratings.groupby(\"item_num\")[\"user_item_viewtime\"].sum()/pred_ratings.groupby('item_num')['user_item_viewtime'].sum().sum()*budget\n",
        "movie_values.name = \"item_value\""
      ],
      "metadata": {
        "id": "-ixxWznAUDZG"
      },
      "execution_count": null,
      "outputs": []
    },
    {
      "cell_type": "code",
      "source": [
        "# replace item_num by item_name\n",
        "movie_values = movie_values.to_frame()\n",
        "movie_values[\"item_name\"] = [numitem_2_name[item_num] for item_num in movie_values.index]\n",
        "movie_values = movie_values.set_index(\"item_name\").squeeze(axis=1)"
      ],
      "metadata": {
        "id": "ENlg_2avaE3z"
      },
      "execution_count": null,
      "outputs": []
    },
    {
      "cell_type": "code",
      "source": [
        "movie_values.head()"
      ],
      "metadata": {
        "id": "IL1koMbfIeFI",
        "colab": {
          "base_uri": "https://localhost:8080/"
        },
        "outputId": "a2cbb15f-5852-4a9f-c0be-9bc3f9b4620a"
      },
      "execution_count": null,
      "outputs": [
        {
          "output_type": "execute_result",
          "data": {
            "text/plain": [
              "item_name\n",
              "Toy Story (1995)           5.085595e+06\n",
              "Jumanji (1995)             2.095923e+05\n",
              "Grumpier Old Men (1995)    1.773098e+05\n",
              "Heat (1995)                4.771563e+05\n",
              "Sabrina (1995)             2.055669e+05\n",
              "Name: item_value, dtype: float64"
            ]
          },
          "metadata": {},
          "execution_count": 80
        }
      ]
    },
    {
      "cell_type": "code",
      "source": [
        "# sanity check: sum of movie values == budget\n",
        "movie_values.sum() == budget"
      ],
      "metadata": {
        "id": "FHLauUJ6a1zj",
        "colab": {
          "base_uri": "https://localhost:8080/"
        },
        "outputId": "b43c0707-35d4-44ef-f4a4-80f7bfa9eed1"
      },
      "execution_count": null,
      "outputs": [
        {
          "output_type": "execute_result",
          "data": {
            "text/plain": [
              "True"
            ]
          },
          "metadata": {},
          "execution_count": 81
        }
      ]
    },
    {
      "cell_type": "markdown",
      "source": [
        "### Output the top valued movies"
      ],
      "metadata": {
        "id": "eXjfpVJN9YQB"
      }
    },
    {
      "cell_type": "markdown",
      "source": [
        "**Question**: Include your answer in the report.\n",
        "\n",
        "- What is your estimated value of *Toy Story (1995)*?\n",
        "\n",
        "- What are the top 10 mostly valued movies?\n"
      ],
      "metadata": {
        "id": "_WKrLtifm0Ex"
      }
    },
    {
      "cell_type": "code",
      "source": [
        "# your code\n",
        "movie_values.sort_values(ascending=False).head(10)"
      ],
      "metadata": {
        "id": "XXzStOqsHy8H",
        "colab": {
          "base_uri": "https://localhost:8080/"
        },
        "outputId": "4b305fb9-cf16-4060-d23d-eccdbe63b8c3"
      },
      "execution_count": null,
      "outputs": [
        {
          "output_type": "execute_result",
          "data": {
            "text/plain": [
              "item_name\n",
              "Godfather, The (1972)                        2.708019e+07\n",
              "Star Wars: Episode IV - A New Hope (1977)    2.311227e+07\n",
              "Pulp Fiction (1994)                          1.957147e+07\n",
              "American Beauty (1999)                       1.746594e+07\n",
              "Raiders of the Lost Ark (1981)               1.500318e+07\n",
              "Fargo (1996)                                 1.424284e+07\n",
              "Casablanca (1942)                            1.412969e+07\n",
              "Schindler's List (1993)                      1.387468e+07\n",
              "Sixth Sense, The (1999)                      1.374704e+07\n",
              "Shawshank Redemption, The (1994)             1.343221e+07\n",
              "Name: item_value, dtype: float64"
            ]
          },
          "metadata": {},
          "execution_count": 82
        }
      ]
    },
    {
      "cell_type": "markdown",
      "source": [
        "\n",
        "### Compare the output with the mostly rated movies. Identify the discrepancies."
      ],
      "metadata": {
        "id": "qaBFvCq39cKw"
      }
    },
    {
      "cell_type": "markdown",
      "source": [
        "**Question**: Include your answers in your report.\n",
        "\n",
        "- What are the movies that are top 30 rated but not in top 30 valued?\n",
        "- What do you think about this approach of movie valuation? How does it compare with the approach based on the popularity of the movies?\n",
        "\n",
        "\n"
      ],
      "metadata": {
        "id": "2_yELRBXV8ds"
      }
    },
    {
      "cell_type": "code",
      "source": [
        "# your code\n",
        "# Sort 'movie_values' in descending order and select the top 30\n",
        "top_30_by_value = movie_values.sort_values(ascending=False).head(30)\n",
        "top_30_value_indices = set(top_30_by_value.index)\n",
        "\n",
        "# Get the top 30 movies from 'all_ratings' based on their count\n",
        "top_30_most_rated = all_ratings['item_name'].value_counts().head(30)\n",
        "top_30_rated_indices = set(top_30_most_rated.index)\n",
        "\n",
        "# Calculate the difference: movies that are in the top 30 rated but not in the top 30 by value\n",
        "difference_in_top_30 = list(top_30_rated_indices - top_30_value_indices)\n",
        "\n",
        "# Print the list\n",
        "difference_in_top_30"
      ],
      "metadata": {
        "id": "PYsSkRlNjxsC",
        "colab": {
          "base_uri": "https://localhost:8080/"
        },
        "outputId": "71d066c7-4c63-40fc-99a6-f19d1443c9d4"
      },
      "execution_count": null,
      "outputs": [
        {
          "output_type": "execute_result",
          "data": {
            "text/plain": [
              "['Ghostbusters (1984)',\n",
              " 'Jurassic Park (1993)',\n",
              " 'L.A. Confidential (1997)',\n",
              " 'Terminator, The (1984)',\n",
              " 'Star Wars: Episode I - The Phantom Menace (1999)',\n",
              " 'Star Wars: Episode VI - Return of the Jedi (1983)',\n",
              " 'Saving Private Ryan (1998)',\n",
              " 'E.T. the Extra-Terrestrial (1982)',\n",
              " 'Shakespeare in Love (1998)',\n",
              " 'Men in Black (1997)',\n",
              " 'Toy Story (1995)',\n",
              " 'Braveheart (1995)',\n",
              " 'Groundhog Day (1993)',\n",
              " 'Back to the Future (1985)',\n",
              " 'Terminator 2: Judgment Day (1991)']"
            ]
          },
          "metadata": {},
          "execution_count": 83
        }
      ]
    },
    {
      "cell_type": "markdown",
      "source": [
        "#### ANS: Ranking movies by popularity is straightforward but can be biased when movies have only few reviews or a higher-than-average prestige. Besides, the popularity may be generated by a certain group of fans and don't apply to other audience. The approach of movie valuation is more fair and can be generalized in the recommendation system."
      ],
      "metadata": {
        "id": "x2ySWrCxbrbl"
      }
    }
  ],
  "metadata": {
    "accelerator": "GPU",
    "colab": {
      "provenance": [],
      "gpuType": "T4",
      "machine_shape": "hm"
    },
    "kernelspec": {
      "display_name": "Python 3",
      "name": "python3"
    },
    "language_info": {
      "name": "python"
    }
  },
  "nbformat": 4,
  "nbformat_minor": 0
}